{
 "cells": [
  {
   "cell_type": "markdown",
   "metadata": {},
   "source": [
    "# Week3 Assignment Solution"
   ]
  },
  {
   "cell_type": "markdown",
   "metadata": {},
   "source": [
    "## Imports"
   ]
  },
  {
   "cell_type": "code",
   "execution_count": 199,
   "metadata": {},
   "outputs": [],
   "source": [
    "import math\n",
    "import random\n",
    "from functools import reduce\n",
    "from functools import partial\n",
    "import re\n",
    "import numpy as np\n",
    "from math import exp\n",
    "import string"
   ]
  },
  {
   "cell_type": "markdown",
   "metadata": {},
   "source": [
    "## Q1. Write a function using only list filter lambda that can tell whether a number is a Fibonacci number or not. You can use a pre-calculated list/dict to store fab numbers till 10000"
   ]
  },
  {
   "cell_type": "code",
   "execution_count": 122,
   "metadata": {},
   "outputs": [],
   "source": [
    "# Generate a pre-computed fibonnaci series\n",
    "def generate_fib(n):\n",
    "    fib_series = [0, 1]\n",
    "    \n",
    "    for _ in range(n-2):\n",
    "        fib_series.append(reduce(lambda x,y:x+y, fib_series[-2:]))\n",
    "    if n>1:\n",
    "        return fib_series\n",
    "    else:\n",
    "        return fib_series[:n]"
   ]
  },
  {
   "cell_type": "code",
   "execution_count": 123,
   "metadata": {},
   "outputs": [
    {
     "data": {
      "text/plain": [
       "[0, 1, 1, 2, 3, 5, 8, 13, 21, 34]"
      ]
     },
     "execution_count": 123,
     "metadata": {},
     "output_type": "execute_result"
    }
   ],
   "source": [
    "fib_list = generate_fib(10000)\n",
    "fib_list[:10]"
   ]
  },
  {
   "cell_type": "code",
   "execution_count": 124,
   "metadata": {},
   "outputs": [],
   "source": [
    "fn = lambda x:True if x in fib_list else False"
   ]
  },
  {
   "cell_type": "code",
   "execution_count": 125,
   "metadata": {},
   "outputs": [
    {
     "data": {
      "text/plain": [
       "(False, True)"
      ]
     },
     "execution_count": 125,
     "metadata": {},
     "output_type": "execute_result"
    }
   ],
   "source": [
    "fn(4), fn(8)"
   ]
  },
  {
   "cell_type": "markdown",
   "metadata": {},
   "source": [
    "## Q2. Using list comprehension (and zip/lambda/etc if required) write five different expressions that:"
   ]
  },
  {
   "cell_type": "markdown",
   "metadata": {},
   "source": [
    "### 2.1. Add 2 iterables a and b such that a is even and b is odd"
   ]
  },
  {
   "cell_type": "code",
   "execution_count": 119,
   "metadata": {},
   "outputs": [
    {
     "name": "stdout",
     "output_type": "stream",
     "text": [
      "List 1>>>> [0, 2, 4, 6, 8, 10, 12, 14, 16, 18, 20, 22, 24, 26, 28, 30, 32, 34, 36, 38, 40, 42, 44, 46, 48]\n",
      "List 2>>>> [0, 5, 10, 15, 20, 25, 30, 35, 40, 45]\n"
     ]
    }
   ],
   "source": [
    "#Creating two list\n",
    "l1 = list(range(0, 50, 2))\n",
    "l2 = list(range(0, 50, 5))\n",
    "print(f\"List 1>>>> {l1}\")\n",
    "print(f\"List 2>>>> {l2}\")"
   ]
  },
  {
   "cell_type": "code",
   "execution_count": 120,
   "metadata": {},
   "outputs": [
    {
     "name": "stdout",
     "output_type": "stream",
     "text": [
      "Sum of two list >>>> [7, 21, 35, 49, 63]\n"
     ]
    }
   ],
   "source": [
    "#Adding two list using zip\n",
    "print(f\"Sum of two list >>>> {[a+b for a,b in zip(l1, l2) if a%2 ==0 and b%2 != 0]}\")"
   ]
  },
  {
   "cell_type": "markdown",
   "metadata": {},
   "source": [
    "### 2.2. Strips every vowel from a string provided (tsai>>t s)"
   ]
  },
  {
   "cell_type": "code",
   "execution_count": 97,
   "metadata": {},
   "outputs": [
    {
     "data": {
      "text/plain": [
       "'ts'"
      ]
     },
     "execution_count": 97,
     "metadata": {},
     "output_type": "execute_result"
    }
   ],
   "source": [
    "# Lambda function to remove vowels from a string and return a list\n",
    "vowel_strip = lambda input_str: [x for x in input_str if x not in ['a', 'e', 'i', 'o', 'u']]\n",
    "\n",
    "# Reduce to add the contents of the list and returns a string\n",
    "reduce(lambda x,y: x+y , vowel_strip(\"tsai\"))"
   ]
  },
  {
   "cell_type": "markdown",
   "metadata": {},
   "source": [
    "### 2.3. Acts like a ReLU function for a 1D array"
   ]
  },
  {
   "cell_type": "code",
   "execution_count": 134,
   "metadata": {},
   "outputs": [
    {
     "data": {
      "text/plain": [
       "array([  5,   1,  -4,  -1,   1,   3, -10,  -4,   1,  -9,   5,  -6,  -2,\n",
       "        -5,  -1,  -8,  -8,  -9,  -7,   2])"
      ]
     },
     "execution_count": 134,
     "metadata": {},
     "output_type": "execute_result"
    }
   ],
   "source": [
    "# Generating the 1-D array\n",
    "one_d_array = np.array([random.randint(-10, 10) for _ in range(20)])\n",
    "one_d_array"
   ]
  },
  {
   "cell_type": "code",
   "execution_count": 140,
   "metadata": {},
   "outputs": [
    {
     "data": {
      "text/plain": [
       "array([5, 1, 0, 0, 1, 3, 0, 0, 1, 0, 5, 0, 0, 0, 0, 0, 0, 0, 0, 2])"
      ]
     },
     "execution_count": 140,
     "metadata": {},
     "output_type": "execute_result"
    }
   ],
   "source": [
    "# List comprehension to take a list and return a list that acts like it has passed through ReLU\n",
    "np.array([0 if x<=0 else x for x in one_d_array])"
   ]
  },
  {
   "cell_type": "markdown",
   "metadata": {},
   "source": [
    "### 2.4. Acts like a sigmoid function for a 1D array"
   ]
  },
  {
   "cell_type": "code",
   "execution_count": 139,
   "metadata": {},
   "outputs": [
    {
     "data": {
      "text/plain": [
       "array([9.93307149e-01, 7.31058579e-01, 1.79862100e-02, 2.68941421e-01,\n",
       "       7.31058579e-01, 9.52574127e-01, 4.53978687e-05, 1.79862100e-02,\n",
       "       7.31058579e-01, 1.23394576e-04, 9.93307149e-01, 2.47262316e-03,\n",
       "       1.19202922e-01, 6.69285092e-03, 2.68941421e-01, 3.35350130e-04,\n",
       "       3.35350130e-04, 1.23394576e-04, 9.11051194e-04, 8.80797078e-01])"
      ]
     },
     "execution_count": 139,
     "metadata": {},
     "output_type": "execute_result"
    }
   ],
   "source": [
    "# List comprehension to take a list and return a list that acts like it has passed through Sigmoid\n",
    "np.array([1/(1+exp(-x)) for x in one_d_array])"
   ]
  },
  {
   "cell_type": "markdown",
   "metadata": {},
   "source": [
    "### 2.5. Takes a small character string and shifts all characters by 5 (handle boundary conditions) tsai>>yxfn"
   ]
  },
  {
   "cell_type": "code",
   "execution_count": 145,
   "metadata": {},
   "outputs": [
    {
     "name": "stdout",
     "output_type": "stream",
     "text": [
      "yxfn\n",
      "cdef\n"
     ]
    }
   ],
   "source": [
    "str2 = \"tsai\"\n",
    "print(reduce(lambda x,y : x+y , [chr(ord(ch)+5) if ord(ch) < 118 else chr((ord(ch)+5)%122+96) for ch in str2]))\n",
    "\n",
    "#Checking boundary conditions\n",
    "str2 = \"xyza\"\n",
    "print(reduce(lambda x,y : x+y , [chr(ord(ch)+5) if ord(ch) < 118 else chr((ord(ch)+5)%122+96) for ch in str2]))"
   ]
  },
  {
   "cell_type": "markdown",
   "metadata": {},
   "source": [
    "## Q3. A list comprehension expression that takes a ~200 word paragraph (write your own paragraph to check), and checks whether it has any of the swear words mentioned in https://github.com/RobertJGabriel/Google-profanity-words/blob/master/list.txt"
   ]
  },
  {
   "cell_type": "code",
   "execution_count": 149,
   "metadata": {},
   "outputs": [],
   "source": [
    "#\n",
    "text = \"\"\"\n",
    "Call me Ishmael. Some years ago - never mind how long precisely - having little or no money in my purse, and nothing particular\n",
    "to interest me on shore, I thought I would sail about a little and see the watery part of the world. It is a way I have of \n",
    "driving off the spleen and regulating the circulation. Whenever I find myself growing grim about the mouth; whenever it is a \n",
    "damp, drizzly November in my soul; whenever I find myself involuntarily pausing before coffin warehouses, and bringing up the \n",
    "rear of every funeral I meet; and especially whenever my hypos get such an upper hand of me, that it requires a strong moral \n",
    "principle to prevent me from deliberately stepping into the street, and methodically knocking people's hats off - then, I \n",
    "account it high time to get to sea as soon as I can. This is my substitute for pistol and ball. With a philosophical flourish \n",
    "Cato throws himself upon his sword; I quietly take to the ship. There is nothing surprising in this. If they but knew it, \n",
    "almost all men in their degree, some time or other, cherish very nearly the same feelings towards the ocean with me.\n",
    "\"\"\""
   ]
  },
  {
   "cell_type": "code",
   "execution_count": 152,
   "metadata": {},
   "outputs": [],
   "source": [
    "with open('Google_Profanity_Words.txt') as f:\n",
    "    profanity = [line.rstrip().lower() for line in f]"
   ]
  },
  {
   "cell_type": "code",
   "execution_count": 174,
   "metadata": {},
   "outputs": [
    {
     "data": {
      "text/plain": [
       "'No Profanity'"
      ]
     },
     "execution_count": 174,
     "metadata": {},
     "output_type": "execute_result"
    }
   ],
   "source": [
    "\"No Profanity\" if len([word for word in re.split(\"[\\\\s.,!?:;'\\\"-]+\",text.lower()) if word in profanity]) == 0 else \"Profanity\""
   ]
  },
  {
   "cell_type": "markdown",
   "metadata": {},
   "source": [
    "## Q4. Using reduce functions"
   ]
  },
  {
   "cell_type": "markdown",
   "metadata": {},
   "source": [
    "### 4.1 Add only even numbers in a list"
   ]
  },
  {
   "cell_type": "code",
   "execution_count": 184,
   "metadata": {},
   "outputs": [
    {
     "data": {
      "text/plain": [
       "450"
      ]
     },
     "execution_count": 184,
     "metadata": {},
     "output_type": "execute_result"
    }
   ],
   "source": [
    "# Generate List\n",
    "l1 = list(range(0, 100, 5))\n",
    "\n",
    "# Calculate Sum for even numbers in the list\n",
    "reduce(lambda x,y: x+y if y%2==0 else x, l1)"
   ]
  },
  {
   "cell_type": "markdown",
   "metadata": {},
   "source": [
    "### 4.2 Find the biggest character in a string (printable ascii characters)"
   ]
  },
  {
   "cell_type": "code",
   "execution_count": 185,
   "metadata": {},
   "outputs": [
    {
     "data": {
      "text/plain": [
       "'z'"
      ]
     },
     "execution_count": 185,
     "metadata": {},
     "output_type": "execute_result"
    }
   ],
   "source": [
    "#Defining the string\n",
    "biggest_char = \"Abc xyz 123 ;\"\n",
    "\n",
    "#Get the largest Ascii character\n",
    "reduce(lambda x,y: x if ord(x)>ord(y) else y, biggest_char)"
   ]
  },
  {
   "cell_type": "markdown",
   "metadata": {},
   "source": [
    "### 4.3 Adds every 3rd number in a list"
   ]
  },
  {
   "cell_type": "code",
   "execution_count": 195,
   "metadata": {},
   "outputs": [
    {
     "name": "stdout",
     "output_type": "stream",
     "text": [
      "Generated List >>> [0, 6, 12, 18, 24, 30, 36, 42, 48, 54, 60, 66, 72, 78, 84, 90, 96]\n",
      "Sum of every third element in the above list >>> 270\n"
     ]
    }
   ],
   "source": [
    "li = list(range(0, 100, 6))\n",
    "print(f\"Generated List >>> {li}\")\n",
    "\n",
    "# Sum of every third element in the list\n",
    "print(f\"Sum of every third element in the above list >>> {reduce(lambda x,y: x+y, [i for idx, i in enumerate(li) if idx%3 == 0])}\")"
   ]
  },
  {
   "cell_type": "code",
   "execution_count": 196,
   "metadata": {},
   "outputs": [
    {
     "data": {
      "text/plain": [
       "[0, 12, 24, 36, 48, 60, 72, 84, 96]"
      ]
     },
     "execution_count": 196,
     "metadata": {},
     "output_type": "execute_result"
    }
   ],
   "source": [
    "[i for idx, i in enumerate(li) if idx%2 == 0]"
   ]
  },
  {
   "cell_type": "markdown",
   "metadata": {},
   "source": [
    "## Q5. Using randint, random.choice and list comprehensions, write an expression that generates 15 random KADDAADDDD number plates, where KA is fixed, D stands for a digit, and A stands for Capital alphabets. 10<<DD<<99 & 1000<<DDDD<<9999"
   ]
  },
  {
   "cell_type": "code",
   "execution_count": 206,
   "metadata": {},
   "outputs": [
    {
     "data": {
      "text/plain": [
       "['KA59YN1663',\n",
       " 'KA43QP7634',\n",
       " 'KA48PL4578',\n",
       " 'KA74EJ3289',\n",
       " 'KA22TZ5104',\n",
       " 'KA78WZ3407',\n",
       " 'KA49DX2208',\n",
       " 'KA97KP2649',\n",
       " 'KA55NK4350',\n",
       " 'KA80PO9541',\n",
       " 'KA43BZ9989',\n",
       " 'KA11CX7534',\n",
       " 'KA95UA9086',\n",
       " 'KA52HX6328',\n",
       " 'KA18GS4632']"
      ]
     },
     "execution_count": 206,
     "metadata": {},
     "output_type": "execute_result"
    }
   ],
   "source": [
    "random.seed(0)\n",
    "[f\"KA{random.randint(10, 99)}{random.choice(string.ascii_uppercase)}{random.choice(string.ascii_uppercase)}\\\n",
    "{random.randint(1000, 9999)}\" for _ in range(15)]"
   ]
  },
  {
   "cell_type": "markdown",
   "metadata": {},
   "source": [
    "## Q6. Write the above again from scratch where KA can be changed to DL, and 1000/9999 ranges can be provided."
   ]
  },
  {
   "cell_type": "code",
   "execution_count": 226,
   "metadata": {},
   "outputs": [],
   "source": [
    "def num_plate(state_name, digits_range_start, digits_range_end, n_plates, random_state = 0):\n",
    "    \"\"\"Generates number plates\n",
    "    Inputs:\n",
    "        state_name: str\n",
    "            Two char string for the state\n",
    "        digits_range_start: int\n",
    "            Start of range for last four digits of number plate between 1000 to 9999\n",
    "        digits_range_start: int\n",
    "            End of range for last four digits of number plate between 1000 to 9999\n",
    "        n_plates: number of number plates to be generated\n",
    "    Returns:\n",
    "        num_plate: List of number plate with number in KADDAADDDD format, D stands for a digit, and A stands for Capital alphabets\"\"\"\n",
    "    \n",
    "    if not isinstance(state_name, str):\n",
    "        raise TypeError(f\"State can be only two char String\")\n",
    "    if not isinstance(digits_range_start,int):\n",
    "        raise TypeError(f\"Last four digits should be between 1000 and 9999\")\n",
    "    if not isinstance(digits_range_end,int):\n",
    "        raise TypeError(f\"Last four digits should be between 1000 and 9999\")\n",
    "    if not isinstance(random_state,int):\n",
    "        raise TypeError(f\"Random State has to be an integer\")\n",
    "    if not state_name:\n",
    "        raise ValueError(f\"State can't be null\")\n",
    "    \n",
    "    random.seed(random_state)\n",
    "\n",
    "    num_plate = [fr\"{state_name}{random.randint(10, 99)}{random.choice(string.ascii_uppercase)}{random.choice(string.ascii_uppercase)}{random.randint(digits_range_start,digits_range_end)}\" for _ in range(n_plates)]\n",
    "\n",
    "    return(num_plate)"
   ]
  },
  {
   "cell_type": "code",
   "execution_count": 227,
   "metadata": {},
   "outputs": [
    {
     "data": {
      "text/plain": [
       "['DL59YN1541',\n",
       " 'DL43QP1914',\n",
       " 'DL48PL2097',\n",
       " 'DL37QE1788',\n",
       " 'DL27YD2133',\n",
       " 'DL42RW2329',\n",
       " 'DL87EJ1601',\n",
       " 'DL19VK1983',\n",
       " 'DL81DL1944',\n",
       " 'DL50TU2434',\n",
       " 'DL36RP1953',\n",
       " 'DL76IB2324',\n",
       " 'DL80AC2236',\n",
       " 'DL61WZ2184',\n",
       " 'DL90AT2005']"
      ]
     },
     "execution_count": 227,
     "metadata": {},
     "output_type": "execute_result"
    }
   ],
   "source": [
    "num_plate(\"DL\", 1500, 2500, 15)"
   ]
  },
  {
   "cell_type": "code",
   "execution_count": null,
   "metadata": {},
   "outputs": [],
   "source": []
  }
 ],
 "metadata": {
  "kernelspec": {
   "display_name": "Python 3",
   "language": "python",
   "name": "python3"
  },
  "language_info": {
   "codemirror_mode": {
    "name": "ipython",
    "version": 3
   },
   "file_extension": ".py",
   "mimetype": "text/x-python",
   "name": "python",
   "nbconvert_exporter": "python",
   "pygments_lexer": "ipython3",
   "version": "3.7.4"
  }
 },
 "nbformat": 4,
 "nbformat_minor": 2
}
