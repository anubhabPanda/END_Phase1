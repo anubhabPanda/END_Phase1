{
  "nbformat": 4,
  "nbformat_minor": 0,
  "metadata": {
    "colab": {
      "name": "Experiment3.ipynb",
      "provenance": [],
      "collapsed_sections": [],
      "toc_visible": true
    },
    "kernelspec": {
      "name": "python3",
      "display_name": "Python 3"
    },
    "accelerator": "GPU"
  },
  "cells": [
    {
      "cell_type": "markdown",
      "metadata": {
        "id": "2p9am1aey1ym"
      },
      "source": [
        "### Features of this notebook\n",
        "1. Custom Tokenizer\n",
        "2. One Cyle LR\n",
        "3. Label Smoothing Cross Entropy\n",
        "4. More Data (CoNaLa Corpus)\n",
        "\n"
      ]
    },
    {
      "cell_type": "code",
      "metadata": {
        "colab": {
          "base_uri": "https://localhost:8080/"
        },
        "id": "3cWl5cbOxnvV",
        "outputId": "7a398a60-0d2a-4bd5-9866-255ae71886af"
      },
      "source": [
        "from google.colab import drive\n",
        "drive.mount('/content/drive')"
      ],
      "execution_count": 1,
      "outputs": [
        {
          "output_type": "stream",
          "text": [
            "Mounted at /content/drive\n"
          ],
          "name": "stdout"
        }
      ]
    },
    {
      "cell_type": "code",
      "metadata": {
        "colab": {
          "base_uri": "https://localhost:8080/"
        },
        "id": "WKkIH7bnyBAR",
        "outputId": "9dc41b60-57e3-48c9-e91e-4f2a03d15ba7"
      },
      "source": [
        "%cd /content/drive/MyDrive/END/Transformer"
      ],
      "execution_count": 2,
      "outputs": [
        {
          "output_type": "stream",
          "text": [
            "/content/drive/MyDrive/END/Transformer\n"
          ],
          "name": "stdout"
        }
      ]
    },
    {
      "cell_type": "markdown",
      "metadata": {
        "id": "q-dzij1s3ByF"
      },
      "source": [
        "# Imports"
      ]
    },
    {
      "cell_type": "code",
      "metadata": {
        "id": "LJVyVrloxtU0"
      },
      "source": [
        "import torch\n",
        "import torch.nn as nn\n",
        "import torch.optim as optim\n",
        "\n",
        "import torchtext\n",
        "from torchtext.legacy.data import Field, BucketIterator, Example, Dataset\n",
        "\n",
        "import matplotlib.pyplot as plt\n",
        "import matplotlib.ticker as ticker\n",
        "from custom_losses import LabelSmoothingCrossEntropy\n",
        "import spacy\n",
        "import numpy as np\n",
        "import pandas as pd\n",
        "import re\n",
        "from spacy.tokenizer import Tokenizer\n",
        "import random\n",
        "import math\n",
        "import time\n",
        "from sklearn.model_selection import train_test_split\n",
        "import pygments\n",
        "from pygments.lexers import PythonLexer"
      ],
      "execution_count": 3,
      "outputs": []
    },
    {
      "cell_type": "code",
      "metadata": {
        "id": "CD6T3VORx-Ak"
      },
      "source": [
        "# Setting Random Seeds\n",
        "SEED = 1234\n",
        "\n",
        "random.seed(SEED)\n",
        "np.random.seed(SEED)\n",
        "torch.manual_seed(SEED)\n",
        "torch.cuda.manual_seed(SEED)\n",
        "torch.backends.cudnn.deterministic = True"
      ],
      "execution_count": 4,
      "outputs": []
    },
    {
      "cell_type": "code",
      "metadata": {
        "colab": {
          "base_uri": "https://localhost:8080/"
        },
        "id": "dZf2qzPKyFc2",
        "outputId": "0a11ee75-91b8-49de-a64f-639a28cae3f4"
      },
      "source": [
        "!python -m spacy download en"
      ],
      "execution_count": 5,
      "outputs": [
        {
          "output_type": "stream",
          "text": [
            "Requirement already satisfied: en_core_web_sm==2.2.5 from https://github.com/explosion/spacy-models/releases/download/en_core_web_sm-2.2.5/en_core_web_sm-2.2.5.tar.gz#egg=en_core_web_sm==2.2.5 in /usr/local/lib/python3.7/dist-packages (2.2.5)\n",
            "Requirement already satisfied: spacy>=2.2.2 in /usr/local/lib/python3.7/dist-packages (from en_core_web_sm==2.2.5) (2.2.4)\n",
            "Requirement already satisfied: srsly<1.1.0,>=1.0.2 in /usr/local/lib/python3.7/dist-packages (from spacy>=2.2.2->en_core_web_sm==2.2.5) (1.0.5)\n",
            "Requirement already satisfied: blis<0.5.0,>=0.4.0 in /usr/local/lib/python3.7/dist-packages (from spacy>=2.2.2->en_core_web_sm==2.2.5) (0.4.1)\n",
            "Requirement already satisfied: murmurhash<1.1.0,>=0.28.0 in /usr/local/lib/python3.7/dist-packages (from spacy>=2.2.2->en_core_web_sm==2.2.5) (1.0.5)\n",
            "Requirement already satisfied: thinc==7.4.0 in /usr/local/lib/python3.7/dist-packages (from spacy>=2.2.2->en_core_web_sm==2.2.5) (7.4.0)\n",
            "Requirement already satisfied: wasabi<1.1.0,>=0.4.0 in /usr/local/lib/python3.7/dist-packages (from spacy>=2.2.2->en_core_web_sm==2.2.5) (0.8.2)\n",
            "Requirement already satisfied: cymem<2.1.0,>=2.0.2 in /usr/local/lib/python3.7/dist-packages (from spacy>=2.2.2->en_core_web_sm==2.2.5) (2.0.5)\n",
            "Requirement already satisfied: setuptools in /usr/local/lib/python3.7/dist-packages (from spacy>=2.2.2->en_core_web_sm==2.2.5) (54.1.2)\n",
            "Requirement already satisfied: tqdm<5.0.0,>=4.38.0 in /usr/local/lib/python3.7/dist-packages (from spacy>=2.2.2->en_core_web_sm==2.2.5) (4.41.1)\n",
            "Requirement already satisfied: catalogue<1.1.0,>=0.0.7 in /usr/local/lib/python3.7/dist-packages (from spacy>=2.2.2->en_core_web_sm==2.2.5) (1.0.0)\n",
            "Requirement already satisfied: requests<3.0.0,>=2.13.0 in /usr/local/lib/python3.7/dist-packages (from spacy>=2.2.2->en_core_web_sm==2.2.5) (2.23.0)\n",
            "Requirement already satisfied: numpy>=1.15.0 in /usr/local/lib/python3.7/dist-packages (from spacy>=2.2.2->en_core_web_sm==2.2.5) (1.19.5)\n",
            "Requirement already satisfied: preshed<3.1.0,>=3.0.2 in /usr/local/lib/python3.7/dist-packages (from spacy>=2.2.2->en_core_web_sm==2.2.5) (3.0.5)\n",
            "Requirement already satisfied: plac<1.2.0,>=0.9.6 in /usr/local/lib/python3.7/dist-packages (from spacy>=2.2.2->en_core_web_sm==2.2.5) (1.1.3)\n",
            "Requirement already satisfied: importlib-metadata>=0.20; python_version < \"3.8\" in /usr/local/lib/python3.7/dist-packages (from catalogue<1.1.0,>=0.0.7->spacy>=2.2.2->en_core_web_sm==2.2.5) (3.7.2)\n",
            "Requirement already satisfied: urllib3!=1.25.0,!=1.25.1,<1.26,>=1.21.1 in /usr/local/lib/python3.7/dist-packages (from requests<3.0.0,>=2.13.0->spacy>=2.2.2->en_core_web_sm==2.2.5) (1.24.3)\n",
            "Requirement already satisfied: idna<3,>=2.5 in /usr/local/lib/python3.7/dist-packages (from requests<3.0.0,>=2.13.0->spacy>=2.2.2->en_core_web_sm==2.2.5) (2.10)\n",
            "Requirement already satisfied: certifi>=2017.4.17 in /usr/local/lib/python3.7/dist-packages (from requests<3.0.0,>=2.13.0->spacy>=2.2.2->en_core_web_sm==2.2.5) (2020.12.5)\n",
            "Requirement already satisfied: chardet<4,>=3.0.2 in /usr/local/lib/python3.7/dist-packages (from requests<3.0.0,>=2.13.0->spacy>=2.2.2->en_core_web_sm==2.2.5) (3.0.4)\n",
            "Requirement already satisfied: typing-extensions>=3.6.4; python_version < \"3.8\" in /usr/local/lib/python3.7/dist-packages (from importlib-metadata>=0.20; python_version < \"3.8\"->catalogue<1.1.0,>=0.0.7->spacy>=2.2.2->en_core_web_sm==2.2.5) (3.7.4.3)\n",
            "Requirement already satisfied: zipp>=0.5 in /usr/local/lib/python3.7/dist-packages (from importlib-metadata>=0.20; python_version < \"3.8\"->catalogue<1.1.0,>=0.0.7->spacy>=2.2.2->en_core_web_sm==2.2.5) (3.4.1)\n",
            "\u001b[38;5;2m✔ Download and installation successful\u001b[0m\n",
            "You can now load the model via spacy.load('en_core_web_sm')\n",
            "\u001b[38;5;2m✔ Linking successful\u001b[0m\n",
            "/usr/local/lib/python3.7/dist-packages/en_core_web_sm -->\n",
            "/usr/local/lib/python3.7/dist-packages/spacy/data/en\n",
            "You can now load the model via spacy.load('en')\n"
          ],
          "name": "stdout"
        }
      ]
    },
    {
      "cell_type": "markdown",
      "metadata": {
        "id": "WzO_Rw8w3Zli"
      },
      "source": [
        "# Data Preprocessing"
      ]
    },
    {
      "cell_type": "code",
      "metadata": {
        "id": "mM7r4aI4yHrU"
      },
      "source": [
        "lines = []\n",
        "with open('english_python_data_corrected.txt', encoding='utf-8') as f:\n",
        "    for counter, line in enumerate(f):\n",
        "            lines.append(line)\n",
        "#Removing comments  \n",
        "comment_re = re.compile(r'#\\s*\\dx\\d\\s*matrix|#\\s*result|#\\s*iterate|#\\s*initialize|#\\s*Driver|#\\s*This function|#\\s*Iterate', \n",
        "                        re.IGNORECASE)\n",
        "lines = [x for x in lines if re.search(comment_re, x) is None]\n",
        "\n",
        "example_start_id = [counter for counter,_ in enumerate(lines) if (_.startswith(\"#\") or _.startswith(\" #\")) and (lines[counter-1].strip() == '')]\n",
        "training_examples = []\n",
        "for num, idx in enumerate(example_start_id):\n",
        "    if idx != example_start_id[-1]:\n",
        "        example_dict = {}\n",
        "        example = lines[example_start_id[num]:example_start_id[num+1]]\n",
        "        if (re.search(r\"#\\s*\\d\", example[0], re.IGNORECASE)) and (re.search(r\"#\", example[1], re.IGNORECASE)) is not None:\n",
        "                    example_dict['ques_prompt'] = example[1].strip()\n",
        "                    example_dict['source_code'] = \"\".join(example[2:]).strip()\n",
        "        elif re.search(r'#\\s*In\\[\\d*\\]', \"\".join(example), re.IGNORECASE) is not None:\n",
        "            continue\n",
        "        else:\n",
        "            example_dict['ques_prompt'] = example[0].strip()\n",
        "            example_dict['source_code'] = \"\".join(example[1:]).strip()\n",
        "        training_examples.append(example_dict)\n",
        "    else:\n",
        "        example_dict = {}\n",
        "        example = lines[example_start_id[num]:]\n",
        "        example_dict['ques_prompt'] = example[0].strip()\n",
        "        example_dict['source_code'] = \"\".join(example[1:]).strip()\n",
        "        training_examples.append(example_dict)"
      ],
      "execution_count": 6,
      "outputs": []
    },
    {
      "cell_type": "code",
      "metadata": {
        "id": "zWDP2kEEyQCN"
      },
      "source": [
        "full_data = pd.DataFrame(training_examples)\n",
        "# Dropping examples where length of code was greater than 250 characters\n",
        "len_filter = full_data['source_code'].apply(lambda x:len(x) > 250)\n",
        "full_data.drop(len_filter[len_filter == True].index.tolist(), inplace = True, axis = 0)\n",
        "full_data.reset_index(drop = True, inplace = True)\n",
        "full_data['ques_prompt'] = full_data['ques_prompt'].apply(lambda x:re.sub(r'\\d*', '', x))\n",
        "full_data['ques_prompt'] = full_data['ques_prompt'].apply(lambda x:re.sub(r'(#\\s)+', '', x))\n",
        "full_data.columns = ['src', 'trg']"
      ],
      "execution_count": 7,
      "outputs": []
    },
    {
      "cell_type": "code",
      "metadata": {
        "colab": {
          "base_uri": "https://localhost:8080/",
          "height": 194
        },
        "id": "UifQzF1uIx2N",
        "outputId": "29474ce6-e8fe-4086-c3ed-32d56410ae3c"
      },
      "source": [
        "full_data.head()"
      ],
      "execution_count": 8,
      "outputs": [
        {
          "output_type": "execute_result",
          "data": {
            "text/html": [
              "<div>\n",
              "<style scoped>\n",
              "    .dataframe tbody tr th:only-of-type {\n",
              "        vertical-align: middle;\n",
              "    }\n",
              "\n",
              "    .dataframe tbody tr th {\n",
              "        vertical-align: top;\n",
              "    }\n",
              "\n",
              "    .dataframe thead th {\n",
              "        text-align: right;\n",
              "    }\n",
              "</style>\n",
              "<table border=\"1\" class=\"dataframe\">\n",
              "  <thead>\n",
              "    <tr style=\"text-align: right;\">\n",
              "      <th></th>\n",
              "      <th>src</th>\n",
              "      <th>trg</th>\n",
              "    </tr>\n",
              "  </thead>\n",
              "  <tbody>\n",
              "    <tr>\n",
              "      <th>0</th>\n",
              "      <td>write a python program to add two numbers</td>\n",
              "      <td>num1 = 1.5\\nnum2 = 6.3\\nsum = num1 + num2\\npri...</td>\n",
              "    </tr>\n",
              "    <tr>\n",
              "      <th>1</th>\n",
              "      <td>write a python function to add two user provid...</td>\n",
              "      <td>def add_two_numbers(num1, num2):\\n    sum = nu...</td>\n",
              "    </tr>\n",
              "    <tr>\n",
              "      <th>2</th>\n",
              "      <td>write a program to find and print the largest ...</td>\n",
              "      <td>num1 = 10\\nnum2 = 12\\nnum3 = 14\\nif (num1 &gt;= n...</td>\n",
              "    </tr>\n",
              "    <tr>\n",
              "      <th>3</th>\n",
              "      <td>write a program to find and print the smallest...</td>\n",
              "      <td>num1 = 10\\nnum2 = 12\\nnum3 = 14\\nif (num1 &lt;= n...</td>\n",
              "    </tr>\n",
              "    <tr>\n",
              "      <th>4</th>\n",
              "      <td>Write a python function to merge two given lis...</td>\n",
              "      <td>def merge_lists(l1, l2):\\n    return l1 + l2</td>\n",
              "    </tr>\n",
              "  </tbody>\n",
              "</table>\n",
              "</div>"
            ],
            "text/plain": [
              "                                                 src                                                trg\n",
              "0          write a python program to add two numbers  num1 = 1.5\\nnum2 = 6.3\\nsum = num1 + num2\\npri...\n",
              "1  write a python function to add two user provid...  def add_two_numbers(num1, num2):\\n    sum = nu...\n",
              "2  write a program to find and print the largest ...  num1 = 10\\nnum2 = 12\\nnum3 = 14\\nif (num1 >= n...\n",
              "3  write a program to find and print the smallest...  num1 = 10\\nnum2 = 12\\nnum3 = 14\\nif (num1 <= n...\n",
              "4  Write a python function to merge two given lis...       def merge_lists(l1, l2):\\n    return l1 + l2"
            ]
          },
          "metadata": {
            "tags": []
          },
          "execution_count": 8
        }
      ]
    },
    {
      "cell_type": "markdown",
      "metadata": {
        "id": "xFDKE_6MSULD"
      },
      "source": [
        "# Incorporating CoNaLa Data"
      ]
    },
    {
      "cell_type": "code",
      "metadata": {
        "id": "C4NAz4VZSSv1"
      },
      "source": [
        "conala_train = pd.read_json('/content/drive/MyDrive/END/Transformer/conala-corpus/conala-train.json')\n",
        "conala_test = pd.read_json('/content/drive/MyDrive/END/Transformer/conala-corpus/conala-test.json')\n",
        "conala_data = pd.concat([conala_train, conala_test], axis = 0)\n",
        "conala_data = conala_data[['rewritten_intent', 'snippet']].rename(columns = {'rewritten_intent': 'src', 'snippet':'trg'})\n",
        "conala_data.dropna(inplace = True)\n",
        "conala_data.reset_index(drop = True, inplace = True)"
      ],
      "execution_count": 9,
      "outputs": []
    },
    {
      "cell_type": "code",
      "metadata": {
        "id": "t3Y4jaWOSeOf"
      },
      "source": [
        "full_data = pd.concat([full_data, conala_data], axis = 0)\n",
        "full_data.reset_index(drop = True, inplace = True)"
      ],
      "execution_count": 10,
      "outputs": []
    },
    {
      "cell_type": "code",
      "metadata": {
        "id": "fdrOdQr80B3J"
      },
      "source": [
        "# Loading spacy language models for tokenization\n",
        "en_tokenizer = spacy.load('en')"
      ],
      "execution_count": 11,
      "outputs": []
    },
    {
      "cell_type": "markdown",
      "metadata": {
        "id": "cqfrzvJE3wJm"
      },
      "source": [
        "# Custom Tokenization"
      ]
    },
    {
      "cell_type": "code",
      "metadata": {
        "id": "qtzXgqS6pfeQ"
      },
      "source": [
        "lexer = PythonLexer()\n",
        "def tokenize_py(text):\n",
        "    \"\"\"\n",
        "    Tokenizes Python text from a string into a list of tokens\n",
        "    \"\"\"\n",
        "    tokens_texts = lexer.get_tokens(text)\n",
        "    tokens_texts = [i[1] for i in tokens_texts if i[0] != pygments.token.Comment.Single]\n",
        "    return tokens_texts\n",
        "\n",
        "def tokenize_en(text):\n",
        "    \"\"\"\n",
        "    Tokenizes English text from a string into a list of tokens\n",
        "    \"\"\"\n",
        "    return [tok.text for tok in en_tokenizer.tokenizer(text)]"
      ],
      "execution_count": 12,
      "outputs": []
    },
    {
      "cell_type": "code",
      "metadata": {
        "colab": {
          "base_uri": "https://localhost:8080/"
        },
        "id": "pQcuYk3C4XgX",
        "outputId": "585fc4e6-c741-400c-8be4-6144c1d93ad4"
      },
      "source": [
        "# Let's test our custom tokenizer\n",
        "idx = 1\n",
        "print(f'Target Sentence :\\n{full_data.iloc[idx, 1]}\\n')\n",
        "print(f'Tokens : {tokenize_py(full_data.iloc[idx, 1])}\\n',)\n",
        "print(f'Reconstructed sentence from Tokens : \\n{\"\".join(tokenize_py(full_data.iloc[idx, 1]))}\\n')"
      ],
      "execution_count": 13,
      "outputs": [
        {
          "output_type": "stream",
          "text": [
            "Target Sentence :\n",
            "def add_two_numbers(num1, num2):\n",
            "    sum = num1 + num2\n",
            "    return sum\n",
            "\n",
            "Tokens : ['def', ' ', 'add_two_numbers', '(', 'num1', ',', ' ', 'num2', ')', ':', '\\n', '    ', 'sum', ' ', '=', ' ', 'num1', ' ', '+', ' ', 'num2', '\\n', '    ', 'return', ' ', 'sum', '\\n']\n",
            "\n",
            "Reconstructed sentence from Tokens : \n",
            "def add_two_numbers(num1, num2):\n",
            "    sum = num1 + num2\n",
            "    return sum\n",
            "\n",
            "\n"
          ],
          "name": "stdout"
        }
      ]
    },
    {
      "cell_type": "code",
      "metadata": {
        "colab": {
          "base_uri": "https://localhost:8080/"
        },
        "id": "4To5gq4E5oUR",
        "outputId": "3261deda-f05a-405d-d48d-7830230d24fe"
      },
      "source": [
        "idx = 1454\n",
        "print(f'Target Sentence :\\n{full_data.iloc[idx, 1]}\\n')\n",
        "print(f'Tokens : {tokenize_py(full_data.iloc[idx, 1])}\\n',)\n",
        "print(f'Reconstructed sentence from Tokens : \\n{\"\".join(tokenize_py(full_data.iloc[idx, 1]))}\\n')"
      ],
      "execution_count": 14,
      "outputs": [
        {
          "output_type": "stream",
          "text": [
            "Target Sentence :\n",
            "test_list = [(1, 3), (1, 4), (2, 3), (3, 2), (5, 3), (6, 4)] \n",
            "res = {} \n",
            "for i, j in test_list: \n",
            "     res.setdefault(j, []).append(i) \n",
            "print(\"The dictionary converted from tuple list : \" + str(res))\n",
            "\n",
            "Tokens : ['test_list', ' ', '=', ' ', '[', '(', '1', ',', ' ', '3', ')', ',', ' ', '(', '1', ',', ' ', '4', ')', ',', ' ', '(', '2', ',', ' ', '3', ')', ',', ' ', '(', '3', ',', ' ', '2', ')', ',', ' ', '(', '5', ',', ' ', '3', ')', ',', ' ', '(', '6', ',', ' ', '4', ')', ']', ' ', '\\n', 'res', ' ', '=', ' ', '{', '}', ' ', '\\n', 'for', ' ', 'i', ',', ' ', 'j', ' ', 'in', ' ', 'test_list', ':', ' ', '\\n', '     ', 'res', '.', 'setdefault', '(', 'j', ',', ' ', '[', ']', ')', '.', 'append', '(', 'i', ')', ' ', '\\n', 'print', '(', '\"', 'The dictionary converted from tuple list : ', '\"', ' ', '+', ' ', 'str', '(', 'res', ')', ')', '\\n']\n",
            "\n",
            "Reconstructed sentence from Tokens : \n",
            "test_list = [(1, 3), (1, 4), (2, 3), (3, 2), (5, 3), (6, 4)] \n",
            "res = {} \n",
            "for i, j in test_list: \n",
            "     res.setdefault(j, []).append(i) \n",
            "print(\"The dictionary converted from tuple list : \" + str(res))\n",
            "\n",
            "\n"
          ],
          "name": "stdout"
        }
      ]
    },
    {
      "cell_type": "markdown",
      "metadata": {
        "id": "0mUtDWea5uOV"
      },
      "source": [
        "As we can see that the python code structure is maintained and proper tokenization is there for f-strings, spaces, newline, python operators and brackets"
      ]
    },
    {
      "cell_type": "code",
      "metadata": {
        "id": "6iSMa5iYJG-i"
      },
      "source": [
        "# Defining the fields\n",
        "SRC = Field(tokenize = tokenize_en, \n",
        "            init_token = '<sos>', \n",
        "            eos_token = '<eos>', \n",
        "            lower = True, \n",
        "            batch_first = True)\n",
        "\n",
        "# lower=False since python is case sensitive language\n",
        "TRG = Field(tokenize = tokenize_py, \n",
        "            init_token = '<sos>', \n",
        "            eos_token = '<eos>', \n",
        "            lower = False, \n",
        "            batch_first = True)"
      ],
      "execution_count": 15,
      "outputs": []
    },
    {
      "cell_type": "code",
      "metadata": {
        "id": "pX4CJzLKJXqE"
      },
      "source": [
        "# Creating torchtext dataset \n",
        "fields = [('src', SRC), ('trg', TRG)]\n",
        "examples = [Example.fromlist([full_data.src[i], full_data.trg[i]], fields) for i in range(full_data.shape[0])]\n",
        "complete_dataset = Dataset(examples, fields)"
      ],
      "execution_count": 16,
      "outputs": []
    },
    {
      "cell_type": "code",
      "metadata": {
        "id": "5sxQcLlGMv0-"
      },
      "source": [
        "# Splitting into train, test and validation\n",
        "train_data, valid_data, test_data = complete_dataset.split(split_ratio=[0.80, 0.05, 0.15], \n",
        "                                    random_state=random.seed(SEED))"
      ],
      "execution_count": 17,
      "outputs": []
    },
    {
      "cell_type": "code",
      "metadata": {
        "colab": {
          "base_uri": "https://localhost:8080/"
        },
        "id": "g6pfjzztO-HE",
        "outputId": "3093382c-e328-4024-c114-e45881a87134"
      },
      "source": [
        "len(train_data), len(valid_data), len(test_data)"
      ],
      "execution_count": 18,
      "outputs": [
        {
          "output_type": "execute_result",
          "data": {
            "text/plain": [
              "(5050, 946, 316)"
            ]
          },
          "metadata": {
            "tags": []
          },
          "execution_count": 18
        }
      ]
    },
    {
      "cell_type": "code",
      "metadata": {
        "colab": {
          "base_uri": "https://localhost:8080/"
        },
        "id": "9YhWJpg8PD8B",
        "outputId": "f23b3517-91d2-4fb2-b09e-7ad669451eda"
      },
      "source": [
        "# Let's look at a few examples from the dataset\n",
        "idx = 9\n",
        "print(''.join(vars(train_data.examples[idx])['trg']))\n",
        "print(vars(train_data.examples[idx])['trg'])\n",
        "print(len(vars(train_data.examples[idx])['trg']))"
      ],
      "execution_count": 19,
      "outputs": [
        {
          "output_type": "stream",
          "text": [
            "import re\n",
            "regex = '\\.[0]*'\n",
            "def remove_leading_zeros(ip):\n",
            "    modified_ip = re.sub(regex, '.', ip)\n",
            "    return modified_ip\n",
            "\n",
            "['import', ' ', 're', '\\n', 'regex', ' ', '=', ' ', \"'\", '\\\\', '.[0]*', \"'\", '\\n', 'def', ' ', 'remove_leading_zeros', '(', 'ip', ')', ':', '\\n', '    ', 'modified_ip', ' ', '=', ' ', 're', '.', 'sub', '(', 'regex', ',', ' ', \"'\", '.', \"'\", ',', ' ', 'ip', ')', '\\n', '    ', 'return', ' ', 'modified_ip', '\\n']\n",
            "46\n"
          ],
          "name": "stdout"
        }
      ]
    },
    {
      "cell_type": "code",
      "metadata": {
        "colab": {
          "base_uri": "https://localhost:8080/"
        },
        "id": "orcMjw5KohfG",
        "outputId": "0a82159a-7070-49a3-d8e5-b1212c841a21"
      },
      "source": [
        "idx = 0\n",
        "print(''.join(vars(train_data.examples[idx])['trg']))\n",
        "print(vars(train_data.examples[idx])['trg'])"
      ],
      "execution_count": 20,
      "outputs": [
        {
          "output_type": "stream",
          "text": [
            "[sum([x[1] for x in i]) for i in data]\n",
            "\n",
            "['[', 'sum', '(', '[', 'x', '[', '1', ']', ' ', 'for', ' ', 'x', ' ', 'in', ' ', 'i', ']', ')', ' ', 'for', ' ', 'i', ' ', 'in', ' ', 'data', ']', '\\n']\n"
          ],
          "name": "stdout"
        }
      ]
    },
    {
      "cell_type": "code",
      "metadata": {
        "id": "AWATKYiJPKHY"
      },
      "source": [
        "SRC.build_vocab(train_data, min_freq = 2)\n",
        "TRG.build_vocab(train_data, min_freq = 1)"
      ],
      "execution_count": 21,
      "outputs": []
    },
    {
      "cell_type": "code",
      "metadata": {
        "colab": {
          "base_uri": "https://localhost:8080/"
        },
        "id": "STmUMUnjSeFG",
        "outputId": "5cb0389f-6df6-4270-a435-a091008d720f"
      },
      "source": [
        "device = torch.device('cuda' if torch.cuda.is_available() else 'cpu')\n",
        "# device = 'cpu'\n",
        "device"
      ],
      "execution_count": 22,
      "outputs": [
        {
          "output_type": "execute_result",
          "data": {
            "text/plain": [
              "device(type='cuda')"
            ]
          },
          "metadata": {
            "tags": []
          },
          "execution_count": 22
        }
      ]
    },
    {
      "cell_type": "code",
      "metadata": {
        "id": "3eYIBgWrSkln"
      },
      "source": [
        "BATCH_SIZE = 64\n",
        "\n",
        "train_iterator, valid_iterator, test_iterator = BucketIterator.splits(\n",
        "    (train_data, valid_data, test_data), sort_key = lambda x:len(x.src), sort_within_batch = False,\n",
        "     batch_size = BATCH_SIZE,\n",
        "     device = device)"
      ],
      "execution_count": 23,
      "outputs": []
    },
    {
      "cell_type": "code",
      "metadata": {
        "id": "uCkVjzBuTXFC"
      },
      "source": [
        "class Encoder(nn.Module):\n",
        "    def __init__(self, \n",
        "                 input_dim, \n",
        "                 hid_dim, \n",
        "                 n_layers, \n",
        "                 n_heads, \n",
        "                 pf_dim,\n",
        "                 dropout, \n",
        "                 device,\n",
        "                 max_length = 200):\n",
        "        super().__init__()\n",
        "\n",
        "        self.device = device\n",
        "        \n",
        "        self.tok_embedding = nn.Embedding(input_dim, hid_dim)\n",
        "        self.pos_embedding = nn.Embedding(max_length, hid_dim)\n",
        "        \n",
        "        self.layers = nn.ModuleList([EncoderLayer(hid_dim, \n",
        "                                                  n_heads, \n",
        "                                                  pf_dim,\n",
        "                                                  dropout, \n",
        "                                                  device) \n",
        "                                     for _ in range(n_layers)])\n",
        "        \n",
        "        self.dropout = nn.Dropout(dropout)\n",
        "        \n",
        "        self.scale = torch.sqrt(torch.FloatTensor([hid_dim])).to(device)\n",
        "        \n",
        "    def forward(self, src, src_mask):\n",
        "        \n",
        "        #src = [batch size, src len]\n",
        "        #src_mask = [batch size, 1, 1, src len]\n",
        "        \n",
        "        batch_size = src.shape[0]\n",
        "        src_len = src.shape[1]\n",
        "        \n",
        "        pos = torch.arange(0, src_len).unsqueeze(0).repeat(batch_size, 1).to(self.device)\n",
        "        \n",
        "        #pos = [batch size, src len]\n",
        "        \n",
        "        src = self.dropout((self.tok_embedding(src) * self.scale) + self.pos_embedding(pos))\n",
        "        \n",
        "        #src = [batch size, src len, hid dim]\n",
        "        \n",
        "        for layer in self.layers:\n",
        "            src = layer(src, src_mask)\n",
        "            \n",
        "        #src = [batch size, src len, hid dim]\n",
        "            \n",
        "        return src"
      ],
      "execution_count": 24,
      "outputs": []
    },
    {
      "cell_type": "code",
      "metadata": {
        "id": "lKnjbUpXTaZZ"
      },
      "source": [
        "class EncoderLayer(nn.Module):\n",
        "    def __init__(self, \n",
        "                 hid_dim, \n",
        "                 n_heads, \n",
        "                 pf_dim,  \n",
        "                 dropout, \n",
        "                 device):\n",
        "        super().__init__()\n",
        "        \n",
        "        self.self_attn_layer_norm = nn.LayerNorm(hid_dim)\n",
        "        self.ff_layer_norm = nn.LayerNorm(hid_dim)\n",
        "        self.self_attention = MultiHeadAttentionLayer(hid_dim, n_heads, dropout, device)\n",
        "        self.positionwise_feedforward = PositionwiseFeedforwardLayer(hid_dim, \n",
        "                                                                     pf_dim, \n",
        "                                                                     dropout)\n",
        "        self.dropout = nn.Dropout(dropout)\n",
        "        \n",
        "    def forward(self, src, src_mask):\n",
        "        \n",
        "        #src = [batch size, src len, hid dim]\n",
        "        #src_mask = [batch size, 1, 1, src len] \n",
        "                \n",
        "        #self attention\n",
        "        _src, _ = self.self_attention(src, src, src, src_mask)\n",
        "        \n",
        "        #dropout, residual connection and layer norm\n",
        "        src = self.self_attn_layer_norm(src + self.dropout(_src))\n",
        "        \n",
        "        #src = [batch size, src len, hid dim]\n",
        "        \n",
        "        #positionwise feedforward\n",
        "        _src = self.positionwise_feedforward(src)\n",
        "        \n",
        "        #dropout, residual and layer norm\n",
        "        src = self.ff_layer_norm(src + self.dropout(_src))\n",
        "        \n",
        "        #src = [batch size, src len, hid dim]\n",
        "        \n",
        "        return src"
      ],
      "execution_count": 25,
      "outputs": []
    },
    {
      "cell_type": "code",
      "metadata": {
        "id": "0ycLDCPuTf63"
      },
      "source": [
        "class MultiHeadAttentionLayer(nn.Module):\n",
        "    def __init__(self, hid_dim, n_heads, dropout, device):\n",
        "        super().__init__()\n",
        "        \n",
        "        assert hid_dim % n_heads == 0\n",
        "        \n",
        "        self.hid_dim = hid_dim\n",
        "        self.n_heads = n_heads\n",
        "        self.head_dim = hid_dim // n_heads\n",
        "        \n",
        "        self.fc_q = nn.Linear(hid_dim, hid_dim)\n",
        "        self.fc_k = nn.Linear(hid_dim, hid_dim)\n",
        "        self.fc_v = nn.Linear(hid_dim, hid_dim)\n",
        "        \n",
        "        self.fc_o = nn.Linear(hid_dim, hid_dim)\n",
        "        \n",
        "        self.dropout = nn.Dropout(dropout)\n",
        "        \n",
        "        self.scale = torch.sqrt(torch.FloatTensor([self.head_dim])).to(device)\n",
        "        \n",
        "    def forward(self, query, key, value, mask = None):\n",
        "        \n",
        "        batch_size = query.shape[0]\n",
        "        \n",
        "        #query = [batch size, query len, hid dim]\n",
        "        #key = [batch size, key len, hid dim]\n",
        "        #value = [batch size, value len, hid dim]\n",
        "                \n",
        "        Q = self.fc_q(query)\n",
        "        K = self.fc_k(key)\n",
        "        V = self.fc_v(value)\n",
        "        \n",
        "        #Q = [batch size, query len, hid dim]\n",
        "        #K = [batch size, key len, hid dim]\n",
        "        #V = [batch size, value len, hid dim]\n",
        "                \n",
        "        Q = Q.view(batch_size, -1, self.n_heads, self.head_dim).permute(0, 2, 1, 3)\n",
        "        K = K.view(batch_size, -1, self.n_heads, self.head_dim).permute(0, 2, 1, 3)\n",
        "        V = V.view(batch_size, -1, self.n_heads, self.head_dim).permute(0, 2, 1, 3)\n",
        "        \n",
        "        #Q = [batch size, n heads, query len, head dim]\n",
        "        #K = [batch size, n heads, key len, head dim]\n",
        "        #V = [batch size, n heads, value len, head dim]\n",
        "                \n",
        "        energy = torch.matmul(Q, K.permute(0, 1, 3, 2)) / self.scale\n",
        "        \n",
        "        #energy = [batch size, n heads, query len, key len]\n",
        "        \n",
        "        if mask is not None:\n",
        "            energy = energy.masked_fill(mask == 0, -1e10)\n",
        "        \n",
        "        attention = torch.softmax(energy, dim = -1)\n",
        "                \n",
        "        #attention = [batch size, n heads, query len, key len]\n",
        "                \n",
        "        x = torch.matmul(self.dropout(attention), V)\n",
        "        \n",
        "        #x = [batch size, n heads, query len, head dim]\n",
        "        \n",
        "        x = x.permute(0, 2, 1, 3).contiguous()\n",
        "        \n",
        "        #x = [batch size, query len, n heads, head dim]\n",
        "        \n",
        "        x = x.view(batch_size, -1, self.hid_dim)\n",
        "        \n",
        "        #x = [batch size, query len, hid dim]\n",
        "        \n",
        "        x = self.fc_o(x)\n",
        "        \n",
        "        #x = [batch size, query len, hid dim]\n",
        "        \n",
        "        return x, attention"
      ],
      "execution_count": 26,
      "outputs": []
    },
    {
      "cell_type": "code",
      "metadata": {
        "id": "OmIaAPSlTl-K"
      },
      "source": [
        "class PositionwiseFeedforwardLayer(nn.Module):\n",
        "    def __init__(self, hid_dim, pf_dim, dropout):\n",
        "        super().__init__()\n",
        "        \n",
        "        self.fc_1 = nn.Linear(hid_dim, pf_dim)\n",
        "        self.fc_2 = nn.Linear(pf_dim, hid_dim)\n",
        "        \n",
        "        self.dropout = nn.Dropout(dropout)\n",
        "        \n",
        "    def forward(self, x):\n",
        "        \n",
        "        #x = [batch size, seq len, hid dim]\n",
        "        \n",
        "        x = self.dropout(torch.relu(self.fc_1(x)))\n",
        "        \n",
        "        #x = [batch size, seq len, pf dim]\n",
        "        \n",
        "        x = self.fc_2(x)\n",
        "        \n",
        "        #x = [batch size, seq len, hid dim]\n",
        "        \n",
        "        return x"
      ],
      "execution_count": 27,
      "outputs": []
    },
    {
      "cell_type": "code",
      "metadata": {
        "id": "dEbFPA6XTp_g"
      },
      "source": [
        "class Decoder(nn.Module):\n",
        "    def __init__(self, \n",
        "                 output_dim, \n",
        "                 hid_dim, \n",
        "                 n_layers, \n",
        "                 n_heads, \n",
        "                 pf_dim, \n",
        "                 dropout, \n",
        "                 device,\n",
        "                 max_length = 250):\n",
        "        super().__init__()\n",
        "        \n",
        "        self.device = device\n",
        "        \n",
        "        self.tok_embedding = nn.Embedding(output_dim, hid_dim)\n",
        "        self.pos_embedding = nn.Embedding(max_length, hid_dim)\n",
        "        \n",
        "        self.layers = nn.ModuleList([DecoderLayer(hid_dim, \n",
        "                                                  n_heads, \n",
        "                                                  pf_dim, \n",
        "                                                  dropout, \n",
        "                                                  device)\n",
        "                                     for _ in range(n_layers)])\n",
        "        \n",
        "        self.fc_out = nn.Linear(hid_dim, output_dim)\n",
        "        \n",
        "        self.dropout = nn.Dropout(dropout)\n",
        "        \n",
        "        self.scale = torch.sqrt(torch.FloatTensor([hid_dim])).to(device)\n",
        "        \n",
        "    def forward(self, trg, enc_src, trg_mask, src_mask):\n",
        "        \n",
        "        #trg = [batch size, trg len]\n",
        "        #enc_src = [batch size, src len, hid dim]\n",
        "        #trg_mask = [batch size, 1, trg len, trg len]\n",
        "        #src_mask = [batch size, 1, 1, src len]\n",
        "                \n",
        "        batch_size = trg.shape[0]\n",
        "        trg_len = trg.shape[1]\n",
        "        \n",
        "        pos = torch.arange(0, trg_len).unsqueeze(0).repeat(batch_size, 1).to(self.device)\n",
        "                            \n",
        "        #pos = [batch size, trg len]\n",
        "            \n",
        "        trg = self.dropout((self.tok_embedding(trg) * self.scale) + self.pos_embedding(pos))\n",
        "                \n",
        "        #trg = [batch size, trg len, hid dim]\n",
        "        \n",
        "        for layer in self.layers:\n",
        "            trg, attention = layer(trg, enc_src, trg_mask, src_mask)\n",
        "        \n",
        "        #trg = [batch size, trg len, hid dim]\n",
        "        #attention = [batch size, n heads, trg len, src len]\n",
        "        \n",
        "        output = self.fc_out(trg)\n",
        "        \n",
        "        #output = [batch size, trg len, output dim]\n",
        "            \n",
        "        return output, attention"
      ],
      "execution_count": 28,
      "outputs": []
    },
    {
      "cell_type": "code",
      "metadata": {
        "id": "uBHcoWU0TvW6"
      },
      "source": [
        "class DecoderLayer(nn.Module):\n",
        "    def __init__(self, \n",
        "                 hid_dim, \n",
        "                 n_heads, \n",
        "                 pf_dim, \n",
        "                 dropout, \n",
        "                 device):\n",
        "        super().__init__()\n",
        "        \n",
        "        self.self_attn_layer_norm = nn.LayerNorm(hid_dim)\n",
        "        self.enc_attn_layer_norm = nn.LayerNorm(hid_dim)\n",
        "        self.ff_layer_norm = nn.LayerNorm(hid_dim)\n",
        "        self.self_attention = MultiHeadAttentionLayer(hid_dim, n_heads, dropout, device)\n",
        "        self.encoder_attention = MultiHeadAttentionLayer(hid_dim, n_heads, dropout, device)\n",
        "        self.positionwise_feedforward = PositionwiseFeedforwardLayer(hid_dim, \n",
        "                                                                     pf_dim, \n",
        "                                                                     dropout)\n",
        "        self.dropout = nn.Dropout(dropout)\n",
        "        \n",
        "    def forward(self, trg, enc_src, trg_mask, src_mask):\n",
        "        \n",
        "        #trg = [batch size, trg len, hid dim]\n",
        "        #enc_src = [batch size, src len, hid dim]\n",
        "        #trg_mask = [batch size, 1, trg len, trg len]\n",
        "        #src_mask = [batch size, 1, 1, src len]\n",
        "        \n",
        "        #self attention\n",
        "        _trg, _ = self.self_attention(trg, trg, trg, trg_mask)\n",
        "        \n",
        "        #dropout, residual connection and layer norm\n",
        "        trg = self.self_attn_layer_norm(trg + self.dropout(_trg))\n",
        "            \n",
        "        #trg = [batch size, trg len, hid dim]\n",
        "            \n",
        "        #encoder attention\n",
        "        _trg, attention = self.encoder_attention(trg, enc_src, enc_src, src_mask)\n",
        "        # query, key, value\n",
        "        \n",
        "        #dropout, residual connection and layer norm\n",
        "        trg = self.enc_attn_layer_norm(trg + self.dropout(_trg))\n",
        "                    \n",
        "        #trg = [batch size, trg len, hid dim]\n",
        "        \n",
        "        #positionwise feedforward\n",
        "        _trg = self.positionwise_feedforward(trg)\n",
        "        \n",
        "        #dropout, residual and layer norm\n",
        "        trg = self.ff_layer_norm(trg + self.dropout(_trg))\n",
        "        \n",
        "        #trg = [batch size, trg len, hid dim]\n",
        "        #attention = [batch size, n heads, trg len, src len]\n",
        "        \n",
        "        return trg, attention"
      ],
      "execution_count": 29,
      "outputs": []
    },
    {
      "cell_type": "code",
      "metadata": {
        "id": "06x-eTpHTxmJ"
      },
      "source": [
        "class Seq2Seq(nn.Module):\n",
        "    def __init__(self, \n",
        "                 encoder, \n",
        "                 decoder, \n",
        "                 src_pad_idx, \n",
        "                 trg_pad_idx, \n",
        "                 device):\n",
        "        super().__init__()\n",
        "        \n",
        "        self.encoder = encoder\n",
        "        self.decoder = decoder\n",
        "        self.src_pad_idx = src_pad_idx\n",
        "        self.trg_pad_idx = trg_pad_idx\n",
        "        self.device = device\n",
        "        \n",
        "    def make_src_mask(self, src):\n",
        "        \n",
        "        #src = [batch size, src len]\n",
        "        \n",
        "        src_mask = (src != self.src_pad_idx).unsqueeze(1).unsqueeze(2)\n",
        "\n",
        "        #src_mask = [batch size, 1, 1, src len]\n",
        "\n",
        "        return src_mask\n",
        "    \n",
        "    def make_trg_mask(self, trg):\n",
        "        \n",
        "        #trg = [batch size, trg len]\n",
        "        \n",
        "        trg_pad_mask = (trg != self.trg_pad_idx).unsqueeze(1).unsqueeze(2)\n",
        "        \n",
        "        #trg_pad_mask = [batch size, 1, 1, trg len]\n",
        "        \n",
        "        trg_len = trg.shape[1]\n",
        "        \n",
        "        trg_sub_mask = torch.tril(torch.ones((trg_len, trg_len), device = self.device)).bool()\n",
        "        \n",
        "        #trg_sub_mask = [trg len, trg len]\n",
        "            \n",
        "        trg_mask = trg_pad_mask & trg_sub_mask\n",
        "        \n",
        "        #trg_mask = [batch size, 1, trg len, trg len]\n",
        "        \n",
        "        return trg_mask\n",
        "\n",
        "    def forward(self, src, trg):\n",
        "        \n",
        "        #src = [batch size, src len]\n",
        "        #trg = [batch size, trg len]\n",
        "                \n",
        "        src_mask = self.make_src_mask(src)\n",
        "        trg_mask = self.make_trg_mask(trg)\n",
        "        \n",
        "        #src_mask = [batch size, 1, 1, src len]\n",
        "        #trg_mask = [batch size, 1, trg len, trg len]\n",
        "        \n",
        "        enc_src = self.encoder(src, src_mask)\n",
        "        \n",
        "        #enc_src = [batch size, src len, hid dim]\n",
        "                \n",
        "        output, attention = self.decoder(trg, enc_src, trg_mask, src_mask)\n",
        "        \n",
        "        #output = [batch size, trg len, output dim]\n",
        "        #attention = [batch size, n heads, trg len, src len]\n",
        "        \n",
        "        return output, attention"
      ],
      "execution_count": 30,
      "outputs": []
    },
    {
      "cell_type": "code",
      "metadata": {
        "id": "jzgmVhkoTz1D"
      },
      "source": [
        "INPUT_DIM = len(SRC.vocab)\n",
        "OUTPUT_DIM = len(TRG.vocab)\n",
        "HID_DIM = 512\n",
        "ENC_LAYERS = 3\n",
        "DEC_LAYERS = 3\n",
        "ENC_HEADS = 8\n",
        "DEC_HEADS = 8\n",
        "ENC_PF_DIM = 1024\n",
        "DEC_PF_DIM = 1024\n",
        "ENC_DROPOUT = 0.2\n",
        "DEC_DROPOUT = 0.2\n",
        "\n",
        "enc = Encoder(INPUT_DIM, \n",
        "              HID_DIM, \n",
        "              ENC_LAYERS, \n",
        "              ENC_HEADS, \n",
        "              ENC_PF_DIM, \n",
        "              ENC_DROPOUT, \n",
        "              device)\n",
        "\n",
        "dec = Decoder(OUTPUT_DIM, \n",
        "              HID_DIM, \n",
        "              DEC_LAYERS, \n",
        "              DEC_HEADS, \n",
        "              DEC_PF_DIM, \n",
        "              DEC_DROPOUT, \n",
        "              device)"
      ],
      "execution_count": 47,
      "outputs": []
    },
    {
      "cell_type": "code",
      "metadata": {
        "id": "7pHkV-bLT3lO"
      },
      "source": [
        "SRC_PAD_IDX = SRC.vocab.stoi[SRC.pad_token]\n",
        "TRG_PAD_IDX = TRG.vocab.stoi[TRG.pad_token]\n",
        "\n",
        "model = Seq2Seq(enc, dec, SRC_PAD_IDX, TRG_PAD_IDX, device).to(device)"
      ],
      "execution_count": 48,
      "outputs": []
    },
    {
      "cell_type": "code",
      "metadata": {
        "colab": {
          "base_uri": "https://localhost:8080/"
        },
        "id": "a5ku2QdmT7G6",
        "outputId": "44f93cd7-027c-4bd9-e09e-382f7e30826b"
      },
      "source": [
        "def count_parameters(model):\n",
        "    return sum(p.numel() for p in model.parameters() if p.requires_grad)\n",
        "\n",
        "print(f'The model has {count_parameters(model):,} trainable parameters')"
      ],
      "execution_count": 49,
      "outputs": [
        {
          "output_type": "stream",
          "text": [
            "The model has 22,984,982 trainable parameters\n"
          ],
          "name": "stdout"
        }
      ]
    },
    {
      "cell_type": "code",
      "metadata": {
        "id": "KALu_7hxUJmP"
      },
      "source": [
        "def initialize_weights(m):\n",
        "    if hasattr(m, 'weight') and m.weight.dim() > 1:\n",
        "        nn.init.xavier_uniform_(m.weight.data)"
      ],
      "execution_count": 50,
      "outputs": []
    },
    {
      "cell_type": "code",
      "metadata": {
        "id": "qlaoFi4PUMpb"
      },
      "source": [
        "model.apply(initialize_weights);"
      ],
      "execution_count": 51,
      "outputs": []
    },
    {
      "cell_type": "code",
      "metadata": {
        "id": "_aGeLVbfUOhw"
      },
      "source": [
        "LEARNING_RATE = 0.00001\n",
        "\n",
        "optimizer = torch.optim.Adam(model.parameters(), lr = LEARNING_RATE)"
      ],
      "execution_count": 52,
      "outputs": []
    },
    {
      "cell_type": "code",
      "metadata": {
        "id": "_iFH6VuIUQsN"
      },
      "source": [
        "criterion = LabelSmoothingCrossEntropy(ignore_index = TRG_PAD_IDX)\n",
        "# criterion = nn.CrossEntropyLoss(ignore_index = TRG_PAD_IDX)"
      ],
      "execution_count": 53,
      "outputs": []
    },
    {
      "cell_type": "markdown",
      "metadata": {
        "id": "67vxplARCKWU"
      },
      "source": [
        "# One Cycle LR"
      ]
    },
    {
      "cell_type": "code",
      "metadata": {
        "id": "at_ZxwaaCIph"
      },
      "source": [
        "max_lr = 0.0001\n",
        "N_EPOCHS = 100\n",
        "max_epoch = 30\n",
        "scheduler = optim.lr_scheduler.OneCycleLR(optimizer, max_lr=max_lr,\n",
        "                                     epochs = N_EPOCHS, steps_per_epoch=1, pct_start=max_epoch/N_EPOCHS, \n",
        "                                     anneal_strategy='linear', div_factor=10.0, final_div_factor=1.0)"
      ],
      "execution_count": 54,
      "outputs": []
    },
    {
      "cell_type": "code",
      "metadata": {
        "id": "xSeRKtvzUSRd"
      },
      "source": [
        "def train(model, iterator, optimizer, criterion, clip):\n",
        "    \n",
        "    model.train()\n",
        "    \n",
        "    epoch_loss = 0\n",
        "    \n",
        "    for i, batch in enumerate(iterator):\n",
        "        \n",
        "        src = batch.src\n",
        "        trg = batch.trg\n",
        "        \n",
        "        optimizer.zero_grad()\n",
        "        \n",
        "        output, _ = model(src, trg[:,:-1])\n",
        "                \n",
        "        #output = [batch size, trg len - 1, output dim]\n",
        "        #trg = [batch size, trg len]\n",
        "            \n",
        "        output_dim = output.shape[-1]\n",
        "            \n",
        "        output = output.contiguous().view(-1, output_dim)\n",
        "        trg = trg[:,1:].contiguous().view(-1)\n",
        "                \n",
        "        #output = [batch size * trg len - 1, output dim]\n",
        "        #trg = [batch size * trg len - 1]\n",
        "            \n",
        "        loss = criterion(output, trg)\n",
        "        \n",
        "        loss.backward()\n",
        "        \n",
        "        torch.nn.utils.clip_grad_norm_(model.parameters(), clip)\n",
        "        \n",
        "        optimizer.step()\n",
        "        \n",
        "        epoch_loss += loss.item()\n",
        "        \n",
        "    return epoch_loss / len(iterator)"
      ],
      "execution_count": 55,
      "outputs": []
    },
    {
      "cell_type": "code",
      "metadata": {
        "id": "8RtYKHfPUUF3"
      },
      "source": [
        "def evaluate(model, iterator, criterion):\n",
        "    \n",
        "    model.eval()\n",
        "    \n",
        "    epoch_loss = 0\n",
        "    \n",
        "    with torch.no_grad():\n",
        "    \n",
        "        for i, batch in enumerate(iterator):\n",
        "\n",
        "            src = batch.src\n",
        "            trg = batch.trg\n",
        "\n",
        "            output, _ = model(src, trg[:,:-1])\n",
        "            \n",
        "            #output = [batch size, trg len - 1, output dim]\n",
        "            #trg = [batch size, trg len]\n",
        "            \n",
        "            output_dim = output.shape[-1]\n",
        "            \n",
        "            output = output.contiguous().view(-1, output_dim)\n",
        "            trg = trg[:,1:].contiguous().view(-1)\n",
        "            \n",
        "            #output = [batch size * trg len - 1, output dim]\n",
        "            #trg = [batch size * trg len - 1]\n",
        "            \n",
        "            loss = criterion(output, trg)\n",
        "\n",
        "            epoch_loss += loss.item()\n",
        "        \n",
        "    return epoch_loss / len(iterator)"
      ],
      "execution_count": 56,
      "outputs": []
    },
    {
      "cell_type": "code",
      "metadata": {
        "id": "L1bzVnDHUWIR"
      },
      "source": [
        "def epoch_time(start_time, end_time):\n",
        "    elapsed_time = end_time - start_time\n",
        "    elapsed_mins = int(elapsed_time / 60)\n",
        "    elapsed_secs = int(elapsed_time - (elapsed_mins * 60))\n",
        "    return elapsed_mins, elapsed_secs"
      ],
      "execution_count": 57,
      "outputs": []
    },
    {
      "cell_type": "code",
      "metadata": {
        "colab": {
          "base_uri": "https://localhost:8080/"
        },
        "id": "0QpGdTj_UYtL",
        "outputId": "310aa939-8db9-408b-8bd4-d90fb95a16a7"
      },
      "source": [
        "CLIP = 1\n",
        "best_valid_loss = float('inf')\n",
        "train_losses = []\n",
        "valid_losses = []\n",
        "\n",
        "for epoch in range(N_EPOCHS):\n",
        "    \n",
        "    start_time = time.time()\n",
        "    \n",
        "    train_loss = train(model, train_iterator, optimizer, criterion, CLIP)\n",
        "    valid_loss = evaluate(model, valid_iterator, criterion)\n",
        "    \n",
        "    end_time = time.time()\n",
        "    \n",
        "    epoch_mins, epoch_secs = epoch_time(start_time, end_time)\n",
        "    \n",
        "    if valid_loss < best_valid_loss:\n",
        "        best_valid_loss = valid_loss\n",
        "        torch.save(model.state_dict(), 'Experiment_3.pt')\n",
        "    train_losses.append(train_loss)\n",
        "    valid_losses.append(valid_loss)\n",
        "    scheduler.step()\n",
        "    print(f'Epoch: {epoch+1:02} | Time: {epoch_mins}m {epoch_secs}s')\n",
        "    print(f'\\tTrain Loss: {train_loss:.3f} | Train PPL: {math.exp(train_loss):7.3f}')\n",
        "    print(f'\\t Val. Loss: {valid_loss:.3f} |  Val. PPL: {math.exp(valid_loss):7.3f}')"
      ],
      "execution_count": 58,
      "outputs": [
        {
          "output_type": "stream",
          "text": [
            "Epoch: 01 | Time: 0m 21s\n",
            "\tTrain Loss: 7.617 | Train PPL: 2031.704\n",
            "\t Val. Loss: 6.783 |  Val. PPL: 882.359\n",
            "Epoch: 02 | Time: 0m 21s\n",
            "\tTrain Loss: 6.644 | Train PPL: 768.312\n",
            "\t Val. Loss: 6.109 |  Val. PPL: 450.054\n",
            "Epoch: 03 | Time: 0m 21s\n",
            "\tTrain Loss: 5.938 | Train PPL: 379.222\n",
            "\t Val. Loss: 5.412 |  Val. PPL: 224.046\n",
            "Epoch: 04 | Time: 0m 21s\n",
            "\tTrain Loss: 5.178 | Train PPL: 177.350\n",
            "\t Val. Loss: 4.594 |  Val. PPL:  98.930\n",
            "Epoch: 05 | Time: 0m 21s\n",
            "\tTrain Loss: 4.470 | Train PPL:  87.378\n",
            "\t Val. Loss: 4.084 |  Val. PPL:  59.397\n",
            "Epoch: 06 | Time: 0m 21s\n",
            "\tTrain Loss: 4.068 | Train PPL:  58.447\n",
            "\t Val. Loss: 3.855 |  Val. PPL:  47.212\n",
            "Epoch: 07 | Time: 0m 21s\n",
            "\tTrain Loss: 3.842 | Train PPL:  46.639\n",
            "\t Val. Loss: 3.669 |  Val. PPL:  39.224\n",
            "Epoch: 08 | Time: 0m 21s\n",
            "\tTrain Loss: 3.681 | Train PPL:  39.681\n",
            "\t Val. Loss: 3.542 |  Val. PPL:  34.529\n",
            "Epoch: 09 | Time: 0m 21s\n",
            "\tTrain Loss: 3.556 | Train PPL:  35.014\n",
            "\t Val. Loss: 3.435 |  Val. PPL:  31.043\n",
            "Epoch: 10 | Time: 0m 21s\n",
            "\tTrain Loss: 3.450 | Train PPL:  31.486\n",
            "\t Val. Loss: 3.342 |  Val. PPL:  28.287\n",
            "Epoch: 11 | Time: 0m 21s\n",
            "\tTrain Loss: 3.361 | Train PPL:  28.806\n",
            "\t Val. Loss: 3.264 |  Val. PPL:  26.145\n",
            "Epoch: 12 | Time: 0m 22s\n",
            "\tTrain Loss: 3.282 | Train PPL:  26.621\n",
            "\t Val. Loss: 3.200 |  Val. PPL:  24.525\n",
            "Epoch: 13 | Time: 0m 22s\n",
            "\tTrain Loss: 3.207 | Train PPL:  24.701\n",
            "\t Val. Loss: 3.136 |  Val. PPL:  23.006\n",
            "Epoch: 14 | Time: 0m 21s\n",
            "\tTrain Loss: 3.138 | Train PPL:  23.051\n",
            "\t Val. Loss: 3.073 |  Val. PPL:  21.603\n",
            "Epoch: 15 | Time: 0m 21s\n",
            "\tTrain Loss: 3.073 | Train PPL:  21.611\n",
            "\t Val. Loss: 3.014 |  Val. PPL:  20.368\n",
            "Epoch: 16 | Time: 0m 21s\n",
            "\tTrain Loss: 3.007 | Train PPL:  20.232\n",
            "\t Val. Loss: 2.968 |  Val. PPL:  19.446\n",
            "Epoch: 17 | Time: 0m 21s\n",
            "\tTrain Loss: 2.946 | Train PPL:  19.033\n",
            "\t Val. Loss: 2.906 |  Val. PPL:  18.288\n",
            "Epoch: 18 | Time: 0m 21s\n",
            "\tTrain Loss: 2.888 | Train PPL:  17.966\n",
            "\t Val. Loss: 2.861 |  Val. PPL:  17.485\n",
            "Epoch: 19 | Time: 0m 21s\n",
            "\tTrain Loss: 2.828 | Train PPL:  16.914\n",
            "\t Val. Loss: 2.824 |  Val. PPL:  16.845\n",
            "Epoch: 20 | Time: 0m 21s\n",
            "\tTrain Loss: 2.773 | Train PPL:  16.011\n",
            "\t Val. Loss: 2.780 |  Val. PPL:  16.118\n",
            "Epoch: 21 | Time: 0m 21s\n",
            "\tTrain Loss: 2.726 | Train PPL:  15.271\n",
            "\t Val. Loss: 2.734 |  Val. PPL:  15.393\n",
            "Epoch: 22 | Time: 0m 21s\n",
            "\tTrain Loss: 2.673 | Train PPL:  14.485\n",
            "\t Val. Loss: 2.708 |  Val. PPL:  14.994\n",
            "Epoch: 23 | Time: 0m 21s\n",
            "\tTrain Loss: 2.623 | Train PPL:  13.779\n",
            "\t Val. Loss: 2.678 |  Val. PPL:  14.555\n",
            "Epoch: 24 | Time: 0m 21s\n",
            "\tTrain Loss: 2.579 | Train PPL:  13.188\n",
            "\t Val. Loss: 2.644 |  Val. PPL:  14.070\n",
            "Epoch: 25 | Time: 0m 21s\n",
            "\tTrain Loss: 2.528 | Train PPL:  12.531\n",
            "\t Val. Loss: 2.607 |  Val. PPL:  13.558\n",
            "Epoch: 26 | Time: 0m 21s\n",
            "\tTrain Loss: 2.483 | Train PPL:  11.980\n",
            "\t Val. Loss: 2.576 |  Val. PPL:  13.144\n",
            "Epoch: 27 | Time: 0m 21s\n",
            "\tTrain Loss: 2.436 | Train PPL:  11.425\n",
            "\t Val. Loss: 2.552 |  Val. PPL:  12.834\n",
            "Epoch: 28 | Time: 0m 21s\n",
            "\tTrain Loss: 2.395 | Train PPL:  10.965\n",
            "\t Val. Loss: 2.530 |  Val. PPL:  12.558\n",
            "Epoch: 29 | Time: 0m 21s\n",
            "\tTrain Loss: 2.355 | Train PPL:  10.535\n",
            "\t Val. Loss: 2.501 |  Val. PPL:  12.198\n",
            "Epoch: 30 | Time: 0m 21s\n",
            "\tTrain Loss: 2.311 | Train PPL:  10.080\n",
            "\t Val. Loss: 2.474 |  Val. PPL:  11.871\n",
            "Epoch: 31 | Time: 0m 21s\n",
            "\tTrain Loss: 2.271 | Train PPL:   9.689\n",
            "\t Val. Loss: 2.445 |  Val. PPL:  11.536\n",
            "Epoch: 32 | Time: 0m 21s\n",
            "\tTrain Loss: 2.232 | Train PPL:   9.322\n",
            "\t Val. Loss: 2.439 |  Val. PPL:  11.458\n",
            "Epoch: 33 | Time: 0m 22s\n",
            "\tTrain Loss: 2.194 | Train PPL:   8.969\n",
            "\t Val. Loss: 2.415 |  Val. PPL:  11.194\n",
            "Epoch: 34 | Time: 0m 21s\n",
            "\tTrain Loss: 2.158 | Train PPL:   8.654\n",
            "\t Val. Loss: 2.401 |  Val. PPL:  11.030\n",
            "Epoch: 35 | Time: 0m 21s\n",
            "\tTrain Loss: 2.123 | Train PPL:   8.359\n",
            "\t Val. Loss: 2.387 |  Val. PPL:  10.878\n",
            "Epoch: 36 | Time: 0m 21s\n",
            "\tTrain Loss: 2.090 | Train PPL:   8.086\n",
            "\t Val. Loss: 2.362 |  Val. PPL:  10.608\n",
            "Epoch: 37 | Time: 0m 21s\n",
            "\tTrain Loss: 2.061 | Train PPL:   7.854\n",
            "\t Val. Loss: 2.347 |  Val. PPL:  10.450\n",
            "Epoch: 38 | Time: 0m 21s\n",
            "\tTrain Loss: 2.031 | Train PPL:   7.619\n",
            "\t Val. Loss: 2.339 |  Val. PPL:  10.367\n",
            "Epoch: 39 | Time: 0m 21s\n",
            "\tTrain Loss: 2.000 | Train PPL:   7.386\n",
            "\t Val. Loss: 2.328 |  Val. PPL:  10.255\n",
            "Epoch: 40 | Time: 0m 21s\n",
            "\tTrain Loss: 1.976 | Train PPL:   7.211\n",
            "\t Val. Loss: 2.317 |  Val. PPL:  10.141\n",
            "Epoch: 41 | Time: 0m 21s\n",
            "\tTrain Loss: 1.949 | Train PPL:   7.025\n",
            "\t Val. Loss: 2.309 |  Val. PPL:  10.061\n",
            "Epoch: 42 | Time: 0m 21s\n",
            "\tTrain Loss: 1.925 | Train PPL:   6.856\n",
            "\t Val. Loss: 2.302 |  Val. PPL:   9.994\n",
            "Epoch: 43 | Time: 0m 21s\n",
            "\tTrain Loss: 1.903 | Train PPL:   6.704\n",
            "\t Val. Loss: 2.297 |  Val. PPL:   9.949\n",
            "Epoch: 44 | Time: 0m 21s\n",
            "\tTrain Loss: 1.880 | Train PPL:   6.554\n",
            "\t Val. Loss: 2.288 |  Val. PPL:   9.858\n",
            "Epoch: 45 | Time: 0m 21s\n",
            "\tTrain Loss: 1.857 | Train PPL:   6.402\n",
            "\t Val. Loss: 2.279 |  Val. PPL:   9.767\n",
            "Epoch: 46 | Time: 0m 21s\n",
            "\tTrain Loss: 1.837 | Train PPL:   6.279\n",
            "\t Val. Loss: 2.276 |  Val. PPL:   9.738\n",
            "Epoch: 47 | Time: 0m 21s\n",
            "\tTrain Loss: 1.821 | Train PPL:   6.177\n",
            "\t Val. Loss: 2.269 |  Val. PPL:   9.669\n",
            "Epoch: 48 | Time: 0m 21s\n",
            "\tTrain Loss: 1.800 | Train PPL:   6.051\n",
            "\t Val. Loss: 2.269 |  Val. PPL:   9.668\n",
            "Epoch: 49 | Time: 0m 21s\n",
            "\tTrain Loss: 1.782 | Train PPL:   5.942\n",
            "\t Val. Loss: 2.261 |  Val. PPL:   9.588\n",
            "Epoch: 50 | Time: 0m 21s\n",
            "\tTrain Loss: 1.766 | Train PPL:   5.849\n",
            "\t Val. Loss: 2.255 |  Val. PPL:   9.532\n",
            "Epoch: 51 | Time: 0m 21s\n",
            "\tTrain Loss: 1.747 | Train PPL:   5.737\n",
            "\t Val. Loss: 2.252 |  Val. PPL:   9.504\n",
            "Epoch: 52 | Time: 0m 21s\n",
            "\tTrain Loss: 1.731 | Train PPL:   5.646\n",
            "\t Val. Loss: 2.254 |  Val. PPL:   9.525\n",
            "Epoch: 53 | Time: 0m 21s\n",
            "\tTrain Loss: 1.716 | Train PPL:   5.565\n",
            "\t Val. Loss: 2.240 |  Val. PPL:   9.389\n",
            "Epoch: 54 | Time: 0m 21s\n",
            "\tTrain Loss: 1.701 | Train PPL:   5.480\n",
            "\t Val. Loss: 2.239 |  Val. PPL:   9.385\n",
            "Epoch: 55 | Time: 0m 21s\n",
            "\tTrain Loss: 1.691 | Train PPL:   5.424\n",
            "\t Val. Loss: 2.242 |  Val. PPL:   9.410\n",
            "Epoch: 56 | Time: 0m 21s\n",
            "\tTrain Loss: 1.677 | Train PPL:   5.352\n",
            "\t Val. Loss: 2.235 |  Val. PPL:   9.344\n",
            "Epoch: 57 | Time: 0m 21s\n",
            "\tTrain Loss: 1.663 | Train PPL:   5.275\n",
            "\t Val. Loss: 2.236 |  Val. PPL:   9.360\n",
            "Epoch: 58 | Time: 0m 21s\n",
            "\tTrain Loss: 1.652 | Train PPL:   5.216\n",
            "\t Val. Loss: 2.243 |  Val. PPL:   9.425\n",
            "Epoch: 59 | Time: 0m 21s\n",
            "\tTrain Loss: 1.641 | Train PPL:   5.161\n",
            "\t Val. Loss: 2.234 |  Val. PPL:   9.338\n",
            "Epoch: 60 | Time: 0m 21s\n",
            "\tTrain Loss: 1.628 | Train PPL:   5.095\n",
            "\t Val. Loss: 2.230 |  Val. PPL:   9.304\n",
            "Epoch: 61 | Time: 0m 21s\n",
            "\tTrain Loss: 1.618 | Train PPL:   5.041\n",
            "\t Val. Loss: 2.228 |  Val. PPL:   9.277\n",
            "Epoch: 62 | Time: 0m 21s\n",
            "\tTrain Loss: 1.607 | Train PPL:   4.987\n",
            "\t Val. Loss: 2.221 |  Val. PPL:   9.213\n",
            "Epoch: 63 | Time: 0m 21s\n",
            "\tTrain Loss: 1.597 | Train PPL:   4.940\n",
            "\t Val. Loss: 2.223 |  Val. PPL:   9.236\n",
            "Epoch: 64 | Time: 0m 21s\n",
            "\tTrain Loss: 1.587 | Train PPL:   4.889\n",
            "\t Val. Loss: 2.224 |  Val. PPL:   9.242\n",
            "Epoch: 65 | Time: 0m 21s\n",
            "\tTrain Loss: 1.578 | Train PPL:   4.847\n",
            "\t Val. Loss: 2.219 |  Val. PPL:   9.202\n",
            "Epoch: 66 | Time: 0m 21s\n",
            "\tTrain Loss: 1.570 | Train PPL:   4.805\n",
            "\t Val. Loss: 2.227 |  Val. PPL:   9.270\n",
            "Epoch: 67 | Time: 0m 21s\n",
            "\tTrain Loss: 1.563 | Train PPL:   4.773\n",
            "\t Val. Loss: 2.221 |  Val. PPL:   9.217\n",
            "Epoch: 68 | Time: 0m 21s\n",
            "\tTrain Loss: 1.554 | Train PPL:   4.729\n",
            "\t Val. Loss: 2.222 |  Val. PPL:   9.221\n",
            "Epoch: 69 | Time: 0m 21s\n",
            "\tTrain Loss: 1.546 | Train PPL:   4.694\n",
            "\t Val. Loss: 2.217 |  Val. PPL:   9.177\n",
            "Epoch: 70 | Time: 0m 21s\n",
            "\tTrain Loss: 1.538 | Train PPL:   4.653\n",
            "\t Val. Loss: 2.216 |  Val. PPL:   9.168\n",
            "Epoch: 71 | Time: 0m 21s\n",
            "\tTrain Loss: 1.531 | Train PPL:   4.622\n",
            "\t Val. Loss: 2.219 |  Val. PPL:   9.196\n",
            "Epoch: 72 | Time: 0m 21s\n",
            "\tTrain Loss: 1.523 | Train PPL:   4.586\n",
            "\t Val. Loss: 2.216 |  Val. PPL:   9.168\n",
            "Epoch: 73 | Time: 0m 21s\n",
            "\tTrain Loss: 1.516 | Train PPL:   4.554\n",
            "\t Val. Loss: 2.216 |  Val. PPL:   9.172\n",
            "Epoch: 74 | Time: 0m 21s\n",
            "\tTrain Loss: 1.508 | Train PPL:   4.519\n",
            "\t Val. Loss: 2.217 |  Val. PPL:   9.175\n",
            "Epoch: 75 | Time: 0m 21s\n",
            "\tTrain Loss: 1.503 | Train PPL:   4.495\n",
            "\t Val. Loss: 2.218 |  Val. PPL:   9.188\n",
            "Epoch: 76 | Time: 0m 21s\n",
            "\tTrain Loss: 1.498 | Train PPL:   4.471\n",
            "\t Val. Loss: 2.219 |  Val. PPL:   9.195\n",
            "Epoch: 77 | Time: 0m 21s\n",
            "\tTrain Loss: 1.493 | Train PPL:   4.448\n",
            "\t Val. Loss: 2.221 |  Val. PPL:   9.221\n",
            "Epoch: 78 | Time: 0m 21s\n",
            "\tTrain Loss: 1.488 | Train PPL:   4.430\n",
            "\t Val. Loss: 2.222 |  Val. PPL:   9.225\n",
            "Epoch: 79 | Time: 0m 21s\n",
            "\tTrain Loss: 1.478 | Train PPL:   4.384\n",
            "\t Val. Loss: 2.221 |  Val. PPL:   9.212\n",
            "Epoch: 80 | Time: 0m 21s\n",
            "\tTrain Loss: 1.473 | Train PPL:   4.360\n",
            "\t Val. Loss: 2.218 |  Val. PPL:   9.191\n",
            "Epoch: 81 | Time: 0m 21s\n",
            "\tTrain Loss: 1.469 | Train PPL:   4.346\n",
            "\t Val. Loss: 2.226 |  Val. PPL:   9.266\n",
            "Epoch: 82 | Time: 0m 21s\n",
            "\tTrain Loss: 1.465 | Train PPL:   4.327\n",
            "\t Val. Loss: 2.231 |  Val. PPL:   9.306\n",
            "Epoch: 83 | Time: 0m 21s\n",
            "\tTrain Loss: 1.462 | Train PPL:   4.315\n",
            "\t Val. Loss: 2.225 |  Val. PPL:   9.258\n",
            "Epoch: 84 | Time: 0m 21s\n",
            "\tTrain Loss: 1.455 | Train PPL:   4.283\n",
            "\t Val. Loss: 2.228 |  Val. PPL:   9.277\n",
            "Epoch: 85 | Time: 0m 21s\n",
            "\tTrain Loss: 1.453 | Train PPL:   4.275\n",
            "\t Val. Loss: 2.227 |  Val. PPL:   9.271\n",
            "Epoch: 86 | Time: 0m 21s\n",
            "\tTrain Loss: 1.449 | Train PPL:   4.259\n",
            "\t Val. Loss: 2.227 |  Val. PPL:   9.273\n",
            "Epoch: 87 | Time: 0m 21s\n",
            "\tTrain Loss: 1.443 | Train PPL:   4.235\n",
            "\t Val. Loss: 2.226 |  Val. PPL:   9.259\n",
            "Epoch: 88 | Time: 0m 21s\n",
            "\tTrain Loss: 1.442 | Train PPL:   4.227\n",
            "\t Val. Loss: 2.223 |  Val. PPL:   9.231\n",
            "Epoch: 89 | Time: 0m 21s\n",
            "\tTrain Loss: 1.441 | Train PPL:   4.224\n",
            "\t Val. Loss: 2.223 |  Val. PPL:   9.238\n",
            "Epoch: 90 | Time: 0m 21s\n",
            "\tTrain Loss: 1.437 | Train PPL:   4.206\n",
            "\t Val. Loss: 2.226 |  Val. PPL:   9.266\n",
            "Epoch: 91 | Time: 0m 21s\n",
            "\tTrain Loss: 1.432 | Train PPL:   4.188\n",
            "\t Val. Loss: 2.224 |  Val. PPL:   9.243\n",
            "Epoch: 92 | Time: 0m 21s\n",
            "\tTrain Loss: 1.429 | Train PPL:   4.176\n",
            "\t Val. Loss: 2.228 |  Val. PPL:   9.279\n",
            "Epoch: 93 | Time: 0m 21s\n",
            "\tTrain Loss: 1.425 | Train PPL:   4.160\n",
            "\t Val. Loss: 2.225 |  Val. PPL:   9.256\n",
            "Epoch: 94 | Time: 0m 21s\n",
            "\tTrain Loss: 1.425 | Train PPL:   4.157\n",
            "\t Val. Loss: 2.226 |  Val. PPL:   9.264\n",
            "Epoch: 95 | Time: 0m 21s\n",
            "\tTrain Loss: 1.423 | Train PPL:   4.150\n",
            "\t Val. Loss: 2.221 |  Val. PPL:   9.221\n",
            "Epoch: 96 | Time: 0m 21s\n",
            "\tTrain Loss: 1.420 | Train PPL:   4.135\n",
            "\t Val. Loss: 2.226 |  Val. PPL:   9.266\n",
            "Epoch: 97 | Time: 0m 21s\n",
            "\tTrain Loss: 1.415 | Train PPL:   4.115\n",
            "\t Val. Loss: 2.226 |  Val. PPL:   9.262\n",
            "Epoch: 98 | Time: 0m 21s\n",
            "\tTrain Loss: 1.416 | Train PPL:   4.120\n",
            "\t Val. Loss: 2.225 |  Val. PPL:   9.251\n",
            "Epoch: 99 | Time: 0m 21s\n",
            "\tTrain Loss: 1.414 | Train PPL:   4.112\n",
            "\t Val. Loss: 2.226 |  Val. PPL:   9.259\n",
            "Epoch: 100 | Time: 0m 21s\n",
            "\tTrain Loss: 1.414 | Train PPL:   4.112\n",
            "\t Val. Loss: 2.225 |  Val. PPL:   9.249\n"
          ],
          "name": "stdout"
        }
      ]
    },
    {
      "cell_type": "code",
      "metadata": {
        "colab": {
          "base_uri": "https://localhost:8080/"
        },
        "id": "x7Dty35Sf9bL",
        "outputId": "e83a2f17-946f-43e8-ab9d-b1de33a9458d"
      },
      "source": [
        "model.load_state_dict(torch.load('Experiment_3.pt'))\n",
        "\n",
        "test_loss = evaluate(model, test_iterator, criterion)\n",
        "\n",
        "print(f'| Test Loss: {test_loss:.3f} | Test PPL: {math.exp(test_loss):7.3f} |')"
      ],
      "execution_count": 59,
      "outputs": [
        {
          "output_type": "stream",
          "text": [
            "| Test Loss: 2.238 | Test PPL:   9.374 |\n"
          ],
          "name": "stdout"
        }
      ]
    },
    {
      "cell_type": "code",
      "metadata": {
        "colab": {
          "base_uri": "https://localhost:8080/",
          "height": 404
        },
        "id": "_pmW1KVL9fIA",
        "outputId": "e26c58d0-7026-445c-b18e-8861765623ef"
      },
      "source": [
        "def plot_losses(train_losses, valid_losses):\n",
        "  fig, ax = plt.subplots(figsize = (12, 6))\n",
        "  epochs = list(range(len(train_losses)))\n",
        "  ax.plot(epochs, train_losses, label = 'train_loss', color = 'green')\n",
        "  ax.plot(epochs, valid_losses, label = 'valid_loss', color = 'red')\n",
        "  ax.legend()\n",
        "  ax.set(xlabel = 'Epochs', ylabel = 'Cross_Entropy_Loss', title = 'Variation of loss with epochs')\n",
        "\n",
        "plot_losses(train_losses, valid_losses)"
      ],
      "execution_count": 60,
      "outputs": [
        {
          "output_type": "display_data",
          "data": {
            "image/png": "[encoded data removed]",
            "text/plain": [
              "<Figure size 864x432 with 1 Axes>"
            ]
          },
          "metadata": {
            "tags": [],
            "needs_background": "light"
          }
        }
      ]
    },
    {
      "cell_type": "code",
      "metadata": {
        "id": "I_WBWxvDzPoB"
      },
      "source": [
        "def translate_sentence(sentence, src_field, trg_field, model, device, max_len = 50):\n",
        "    \n",
        "    model.eval()\n",
        "        \n",
        "    if isinstance(sentence, str):\n",
        "        nlp = spacy.load('en')\n",
        "        tokens = [token.text.lower() for token in nlp(sentence)]\n",
        "    else:\n",
        "        tokens = [token.lower() for token in sentence]\n",
        "\n",
        "    tokens = [src_field.init_token] + tokens + [src_field.eos_token]\n",
        "        \n",
        "    src_indexes = [src_field.vocab.stoi[token] for token in tokens]\n",
        "\n",
        "    src_tensor = torch.LongTensor(src_indexes).unsqueeze(0).to(device)\n",
        "    \n",
        "    src_mask = model.make_src_mask(src_tensor)\n",
        "    \n",
        "    with torch.no_grad():\n",
        "        enc_src = model.encoder(src_tensor, src_mask)\n",
        "\n",
        "    trg_indexes = [trg_field.vocab.stoi[trg_field.init_token]]\n",
        "\n",
        "    for i in range(max_len):\n",
        "\n",
        "        trg_tensor = torch.LongTensor(trg_indexes).unsqueeze(0).to(device)\n",
        "\n",
        "        trg_mask = model.make_trg_mask(trg_tensor)\n",
        "        \n",
        "        with torch.no_grad():\n",
        "            output, attention = model.decoder(trg_tensor, enc_src, trg_mask, src_mask)\n",
        "        \n",
        "        pred_token = output.argmax(2)[:,-1].item()\n",
        "        \n",
        "        trg_indexes.append(pred_token)\n",
        "\n",
        "        if pred_token == trg_field.vocab.stoi[trg_field.eos_token]:\n",
        "            break\n",
        "    \n",
        "    trg_tokens = [trg_field.vocab.itos[i] for i in trg_indexes]\n",
        "    \n",
        "    return trg_tokens[1:], attention"
      ],
      "execution_count": 61,
      "outputs": []
    },
    {
      "cell_type": "code",
      "metadata": {
        "id": "O7e5Ny4dzToy"
      },
      "source": [
        "def display_attention(sentence, translation, attention, n_heads = 8, n_rows = 8, n_cols = 1):\n",
        "    \n",
        "    assert n_rows * n_cols == n_heads\n",
        "    \n",
        "    fig = plt.figure(figsize=(200,100))\n",
        "    \n",
        "    for i in range(n_heads):\n",
        "        \n",
        "        ax = fig.add_subplot(n_rows, n_cols, i+1)\n",
        "        \n",
        "        _attention = attention.squeeze(0)[i].cpu().detach().numpy()\n",
        "\n",
        "        cax = ax.matshow(_attention, cmap='bone')\n",
        "\n",
        "        ax.tick_params(labelsize=12)\n",
        "        ax.set_xticklabels(['']+['<sos>']+[t.lower() for t in sentence]+['<eos>'], \n",
        "                           rotation=45)\n",
        "        ax.set_yticklabels(['']+translation)\n",
        "\n",
        "        ax.xaxis.set_major_locator(ticker.MultipleLocator(1))\n",
        "        ax.yaxis.set_major_locator(ticker.MultipleLocator(1))\n",
        "\n",
        "    plt.show()"
      ],
      "execution_count": 62,
      "outputs": []
    },
    {
      "cell_type": "code",
      "metadata": {
        "id": "hN50LEW3zX3F"
      },
      "source": [
        "def show_results(infer_data, example_idx):\n",
        "  src = vars(infer_data.examples[example_idx])['src']\n",
        "  trg = vars(infer_data.examples[example_idx])['trg']\n",
        "  # print(f'src = {\" \".join(src)}')\n",
        "  # print(f'trg :\\n {\" \".join(trg)}')\n",
        "\n",
        "  translation, attention = translate_sentence(src, SRC, TRG, model, device)\n",
        "\n",
        "  # print(f'predicted trg :\\n {\" \".join(translation)}')\n",
        "\n",
        "  # display_attention(src, translation, attention)\n",
        "  return \" \".join(src), \"\".join(trg), \"\".join(translation)"
      ],
      "execution_count": 63,
      "outputs": []
    }
  ]
}