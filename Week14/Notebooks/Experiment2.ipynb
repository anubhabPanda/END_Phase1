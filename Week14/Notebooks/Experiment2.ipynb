{
  "nbformat": 4,
  "nbformat_minor": 0,
  "metadata": {
    "colab": {
      "name": "Experiment2.ipynb",
      "provenance": [],
      "collapsed_sections": [],
      "toc_visible": true
    },
    "kernelspec": {
      "name": "python3",
      "display_name": "Python 3"
    },
    "accelerator": "GPU",
    "widgets": {
      "application/vnd.jupyter.widget-state+json": {
        "bdc93cf837144928a3009655639e34d2": {
          "model_module": "@jupyter-widgets/controls",
          "model_name": "HBoxModel",
          "state": {
            "_view_name": "HBoxView",
            "_dom_classes": [],
            "_model_name": "HBoxModel",
            "_view_module": "@jupyter-widgets/controls",
            "_model_module_version": "1.5.0",
            "_view_count": null,
            "_view_module_version": "1.5.0",
            "box_style": "",
            "layout": "IPY_MODEL_96498cf317654005b5aebd34ef3e7305",
            "_model_module": "@jupyter-widgets/controls",
            "children": [
              "IPY_MODEL_4d8f8134d01b47fcac5321f28bf29daf",
              "IPY_MODEL_3aac2d978a004f8f9cc11ecea52b51bb"
            ]
          }
        },
        "96498cf317654005b5aebd34ef3e7305": {
          "model_module": "@jupyter-widgets/base",
          "model_name": "LayoutModel",
          "state": {
            "_view_name": "LayoutView",
            "grid_template_rows": null,
            "right": null,
            "justify_content": null,
            "_view_module": "@jupyter-widgets/base",
            "overflow": null,
            "_model_module_version": "1.2.0",
            "_view_count": null,
            "flex_flow": null,
            "width": null,
            "min_width": null,
            "border": null,
            "align_items": null,
            "bottom": null,
            "_model_module": "@jupyter-widgets/base",
            "top": null,
            "grid_column": null,
            "overflow_y": null,
            "overflow_x": null,
            "grid_auto_flow": null,
            "grid_area": null,
            "grid_template_columns": null,
            "flex": null,
            "_model_name": "LayoutModel",
            "justify_items": null,
            "grid_row": null,
            "max_height": null,
            "align_content": null,
            "visibility": null,
            "align_self": null,
            "height": null,
            "min_height": null,
            "padding": null,
            "grid_auto_rows": null,
            "grid_gap": null,
            "max_width": null,
            "order": null,
            "_view_module_version": "1.2.0",
            "grid_template_areas": null,
            "object_position": null,
            "object_fit": null,
            "grid_auto_columns": null,
            "margin": null,
            "display": null,
            "left": null
          }
        },
        "4d8f8134d01b47fcac5321f28bf29daf": {
          "model_module": "@jupyter-widgets/controls",
          "model_name": "FloatProgressModel",
          "state": {
            "_view_name": "ProgressView",
            "style": "IPY_MODEL_69300322050f4a4bab300069b7a4e06b",
            "_dom_classes": [],
            "description": "100%",
            "_model_name": "FloatProgressModel",
            "bar_style": "success",
            "max": 177,
            "_view_module": "@jupyter-widgets/controls",
            "_model_module_version": "1.5.0",
            "value": 177,
            "_view_count": null,
            "_view_module_version": "1.5.0",
            "orientation": "horizontal",
            "min": 0,
            "description_tooltip": null,
            "_model_module": "@jupyter-widgets/controls",
            "layout": "IPY_MODEL_2d456c50b8834d89bcff02ba59f9952e"
          }
        },
        "3aac2d978a004f8f9cc11ecea52b51bb": {
          "model_module": "@jupyter-widgets/controls",
          "model_name": "HTMLModel",
          "state": {
            "_view_name": "HTMLView",
            "style": "IPY_MODEL_4c573b7c31104d9fb6e7f4d3a801bdc5",
            "_dom_classes": [],
            "description": "",
            "_model_name": "HTMLModel",
            "placeholder": "​",
            "_view_module": "@jupyter-widgets/controls",
            "_model_module_version": "1.5.0",
            "value": " 177/177 [00:35&lt;00:00,  4.95it/s]",
            "_view_count": null,
            "_view_module_version": "1.5.0",
            "description_tooltip": null,
            "_model_module": "@jupyter-widgets/controls",
            "layout": "IPY_MODEL_197d5d6b7c5546cd95d289b9feb5e295"
          }
        },
        "69300322050f4a4bab300069b7a4e06b": {
          "model_module": "@jupyter-widgets/controls",
          "model_name": "ProgressStyleModel",
          "state": {
            "_view_name": "StyleView",
            "_model_name": "ProgressStyleModel",
            "description_width": "initial",
            "_view_module": "@jupyter-widgets/base",
            "_model_module_version": "1.5.0",
            "_view_count": null,
            "_view_module_version": "1.2.0",
            "bar_color": null,
            "_model_module": "@jupyter-widgets/controls"
          }
        },
        "2d456c50b8834d89bcff02ba59f9952e": {
          "model_module": "@jupyter-widgets/base",
          "model_name": "LayoutModel",
          "state": {
            "_view_name": "LayoutView",
            "grid_template_rows": null,
            "right": null,
            "justify_content": null,
            "_view_module": "@jupyter-widgets/base",
            "overflow": null,
            "_model_module_version": "1.2.0",
            "_view_count": null,
            "flex_flow": null,
            "width": null,
            "min_width": null,
            "border": null,
            "align_items": null,
            "bottom": null,
            "_model_module": "@jupyter-widgets/base",
            "top": null,
            "grid_column": null,
            "overflow_y": null,
            "overflow_x": null,
            "grid_auto_flow": null,
            "grid_area": null,
            "grid_template_columns": null,
            "flex": null,
            "_model_name": "LayoutModel",
            "justify_items": null,
            "grid_row": null,
            "max_height": null,
            "align_content": null,
            "visibility": null,
            "align_self": null,
            "height": null,
            "min_height": null,
            "padding": null,
            "grid_auto_rows": null,
            "grid_gap": null,
            "max_width": null,
            "order": null,
            "_view_module_version": "1.2.0",
            "grid_template_areas": null,
            "object_position": null,
            "object_fit": null,
            "grid_auto_columns": null,
            "margin": null,
            "display": null,
            "left": null
          }
        },
        "4c573b7c31104d9fb6e7f4d3a801bdc5": {
          "model_module": "@jupyter-widgets/controls",
          "model_name": "DescriptionStyleModel",
          "state": {
            "_view_name": "StyleView",
            "_model_name": "DescriptionStyleModel",
            "description_width": "",
            "_view_module": "@jupyter-widgets/base",
            "_model_module_version": "1.5.0",
            "_view_count": null,
            "_view_module_version": "1.2.0",
            "_model_module": "@jupyter-widgets/controls"
          }
        },
        "197d5d6b7c5546cd95d289b9feb5e295": {
          "model_module": "@jupyter-widgets/base",
          "model_name": "LayoutModel",
          "state": {
            "_view_name": "LayoutView",
            "grid_template_rows": null,
            "right": null,
            "justify_content": null,
            "_view_module": "@jupyter-widgets/base",
            "overflow": null,
            "_model_module_version": "1.2.0",
            "_view_count": null,
            "flex_flow": null,
            "width": null,
            "min_width": null,
            "border": null,
            "align_items": null,
            "bottom": null,
            "_model_module": "@jupyter-widgets/base",
            "top": null,
            "grid_column": null,
            "overflow_y": null,
            "overflow_x": null,
            "grid_auto_flow": null,
            "grid_area": null,
            "grid_template_columns": null,
            "flex": null,
            "_model_name": "LayoutModel",
            "justify_items": null,
            "grid_row": null,
            "max_height": null,
            "align_content": null,
            "visibility": null,
            "align_self": null,
            "height": null,
            "min_height": null,
            "padding": null,
            "grid_auto_rows": null,
            "grid_gap": null,
            "max_width": null,
            "order": null,
            "_view_module_version": "1.2.0",
            "grid_template_areas": null,
            "object_position": null,
            "object_fit": null,
            "grid_auto_columns": null,
            "margin": null,
            "display": null,
            "left": null
          }
        }
      }
    }
  },
  "cells": [
    {
      "cell_type": "markdown",
      "metadata": {
        "id": "2p9am1aey1ym"
      },
      "source": [
        "### Features of this notebook\n",
        "1. Custom Tokenizer\n",
        "2. One Cyle LR\n"
      ]
    },
    {
      "cell_type": "code",
      "metadata": {
        "colab": {
          "base_uri": "https://localhost:8080/"
        },
        "id": "3cWl5cbOxnvV",
        "outputId": "fa1f05e2-184e-4654-9c2f-1d75e1a9b96c"
      },
      "source": [
        "from google.colab import drive\n",
        "drive.mount('/content/drive')"
      ],
      "execution_count": 1,
      "outputs": [
        {
          "output_type": "stream",
          "text": [
            "Mounted at /content/drive\n"
          ],
          "name": "stdout"
        }
      ]
    },
    {
      "cell_type": "code",
      "metadata": {
        "colab": {
          "base_uri": "https://localhost:8080/"
        },
        "id": "WKkIH7bnyBAR",
        "outputId": "3f608109-28d1-4669-ab42-9bc24ef67c9e"
      },
      "source": [
        "%cd /content/drive/MyDrive/END/Transformer"
      ],
      "execution_count": 2,
      "outputs": [
        {
          "output_type": "stream",
          "text": [
            "/content/drive/MyDrive/END/Transformer\n"
          ],
          "name": "stdout"
        }
      ]
    },
    {
      "cell_type": "code",
      "metadata": {
        "id": "Kc2IFI5Rqxqd"
      },
      "source": [
        "import sys\n",
        "sys.path.append('/content/drive/MyDrive/Picasso')"
      ],
      "execution_count": 3,
      "outputs": []
    },
    {
      "cell_type": "markdown",
      "metadata": {
        "id": "q-dzij1s3ByF"
      },
      "source": [
        "# Imports"
      ]
    },
    {
      "cell_type": "code",
      "metadata": {
        "id": "LJVyVrloxtU0"
      },
      "source": [
        "import torch\n",
        "import torch.nn as nn\n",
        "import torch.optim as optim\n",
        "\n",
        "import torchtext\n",
        "from torchtext.legacy.data import Field, BucketIterator, Example, Dataset\n",
        "\n",
        "import matplotlib.pyplot as plt\n",
        "import matplotlib.ticker as ticker\n",
        "from main_engine import lr_finder, schedulers\n",
        "import spacy\n",
        "import numpy as np\n",
        "import pandas as pd\n",
        "import re\n",
        "from spacy.tokenizer import Tokenizer\n",
        "import random\n",
        "import math\n",
        "import time\n",
        "from sklearn.model_selection import train_test_split\n",
        "import pygments\n",
        "from pygments.lexers import PythonLexer"
      ],
      "execution_count": 4,
      "outputs": []
    },
    {
      "cell_type": "code",
      "metadata": {
        "id": "CD6T3VORx-Ak"
      },
      "source": [
        "# Setting Random Seeds\n",
        "SEED = 1234\n",
        "\n",
        "random.seed(SEED)\n",
        "np.random.seed(SEED)\n",
        "torch.manual_seed(SEED)\n",
        "torch.cuda.manual_seed(SEED)\n",
        "torch.backends.cudnn.deterministic = True"
      ],
      "execution_count": 5,
      "outputs": []
    },
    {
      "cell_type": "code",
      "metadata": {
        "colab": {
          "base_uri": "https://localhost:8080/"
        },
        "id": "dZf2qzPKyFc2",
        "outputId": "aba4504c-c9d0-411e-a70a-56aa84b23a01"
      },
      "source": [
        "!python -m spacy download en"
      ],
      "execution_count": 6,
      "outputs": [
        {
          "output_type": "stream",
          "text": [
            "Requirement already satisfied: en_core_web_sm==2.2.5 from https://github.com/explosion/spacy-models/releases/download/en_core_web_sm-2.2.5/en_core_web_sm-2.2.5.tar.gz#egg=en_core_web_sm==2.2.5 in /usr/local/lib/python3.7/dist-packages (2.2.5)\n",
            "Requirement already satisfied: spacy>=2.2.2 in /usr/local/lib/python3.7/dist-packages (from en_core_web_sm==2.2.5) (2.2.4)\n",
            "Requirement already satisfied: tqdm<5.0.0,>=4.38.0 in /usr/local/lib/python3.7/dist-packages (from spacy>=2.2.2->en_core_web_sm==2.2.5) (4.41.1)\n",
            "Requirement already satisfied: requests<3.0.0,>=2.13.0 in /usr/local/lib/python3.7/dist-packages (from spacy>=2.2.2->en_core_web_sm==2.2.5) (2.23.0)\n",
            "Requirement already satisfied: blis<0.5.0,>=0.4.0 in /usr/local/lib/python3.7/dist-packages (from spacy>=2.2.2->en_core_web_sm==2.2.5) (0.4.1)\n",
            "Requirement already satisfied: preshed<3.1.0,>=3.0.2 in /usr/local/lib/python3.7/dist-packages (from spacy>=2.2.2->en_core_web_sm==2.2.5) (3.0.5)\n",
            "Requirement already satisfied: thinc==7.4.0 in /usr/local/lib/python3.7/dist-packages (from spacy>=2.2.2->en_core_web_sm==2.2.5) (7.4.0)\n",
            "Requirement already satisfied: numpy>=1.15.0 in /usr/local/lib/python3.7/dist-packages (from spacy>=2.2.2->en_core_web_sm==2.2.5) (1.19.5)\n",
            "Requirement already satisfied: plac<1.2.0,>=0.9.6 in /usr/local/lib/python3.7/dist-packages (from spacy>=2.2.2->en_core_web_sm==2.2.5) (1.1.3)\n",
            "Requirement already satisfied: cymem<2.1.0,>=2.0.2 in /usr/local/lib/python3.7/dist-packages (from spacy>=2.2.2->en_core_web_sm==2.2.5) (2.0.5)\n",
            "Requirement already satisfied: srsly<1.1.0,>=1.0.2 in /usr/local/lib/python3.7/dist-packages (from spacy>=2.2.2->en_core_web_sm==2.2.5) (1.0.5)\n",
            "Requirement already satisfied: wasabi<1.1.0,>=0.4.0 in /usr/local/lib/python3.7/dist-packages (from spacy>=2.2.2->en_core_web_sm==2.2.5) (0.8.2)\n",
            "Requirement already satisfied: murmurhash<1.1.0,>=0.28.0 in /usr/local/lib/python3.7/dist-packages (from spacy>=2.2.2->en_core_web_sm==2.2.5) (1.0.5)\n",
            "Requirement already satisfied: catalogue<1.1.0,>=0.0.7 in /usr/local/lib/python3.7/dist-packages (from spacy>=2.2.2->en_core_web_sm==2.2.5) (1.0.0)\n",
            "Requirement already satisfied: setuptools in /usr/local/lib/python3.7/dist-packages (from spacy>=2.2.2->en_core_web_sm==2.2.5) (54.1.2)\n",
            "Requirement already satisfied: certifi>=2017.4.17 in /usr/local/lib/python3.7/dist-packages (from requests<3.0.0,>=2.13.0->spacy>=2.2.2->en_core_web_sm==2.2.5) (2020.12.5)\n",
            "Requirement already satisfied: idna<3,>=2.5 in /usr/local/lib/python3.7/dist-packages (from requests<3.0.0,>=2.13.0->spacy>=2.2.2->en_core_web_sm==2.2.5) (2.10)\n",
            "Requirement already satisfied: urllib3!=1.25.0,!=1.25.1,<1.26,>=1.21.1 in /usr/local/lib/python3.7/dist-packages (from requests<3.0.0,>=2.13.0->spacy>=2.2.2->en_core_web_sm==2.2.5) (1.24.3)\n",
            "Requirement already satisfied: chardet<4,>=3.0.2 in /usr/local/lib/python3.7/dist-packages (from requests<3.0.0,>=2.13.0->spacy>=2.2.2->en_core_web_sm==2.2.5) (3.0.4)\n",
            "Requirement already satisfied: importlib-metadata>=0.20; python_version < \"3.8\" in /usr/local/lib/python3.7/dist-packages (from catalogue<1.1.0,>=0.0.7->spacy>=2.2.2->en_core_web_sm==2.2.5) (3.7.2)\n",
            "Requirement already satisfied: zipp>=0.5 in /usr/local/lib/python3.7/dist-packages (from importlib-metadata>=0.20; python_version < \"3.8\"->catalogue<1.1.0,>=0.0.7->spacy>=2.2.2->en_core_web_sm==2.2.5) (3.4.1)\n",
            "Requirement already satisfied: typing-extensions>=3.6.4; python_version < \"3.8\" in /usr/local/lib/python3.7/dist-packages (from importlib-metadata>=0.20; python_version < \"3.8\"->catalogue<1.1.0,>=0.0.7->spacy>=2.2.2->en_core_web_sm==2.2.5) (3.7.4.3)\n",
            "\u001b[38;5;2m✔ Download and installation successful\u001b[0m\n",
            "You can now load the model via spacy.load('en_core_web_sm')\n",
            "\u001b[38;5;2m✔ Linking successful\u001b[0m\n",
            "/usr/local/lib/python3.7/dist-packages/en_core_web_sm -->\n",
            "/usr/local/lib/python3.7/dist-packages/spacy/data/en\n",
            "You can now load the model via spacy.load('en')\n"
          ],
          "name": "stdout"
        }
      ]
    },
    {
      "cell_type": "markdown",
      "metadata": {
        "id": "WzO_Rw8w3Zli"
      },
      "source": [
        "# Data Preprocessing"
      ]
    },
    {
      "cell_type": "code",
      "metadata": {
        "id": "mM7r4aI4yHrU"
      },
      "source": [
        "lines = []\n",
        "with open('english_python_data_corrected.txt', encoding='utf-8') as f:\n",
        "    for counter, line in enumerate(f):\n",
        "            lines.append(line)\n",
        "#Removing comments  \n",
        "comment_re = re.compile(r'#\\s*\\dx\\d\\s*matrix|#\\s*result|#\\s*iterate|#\\s*initialize|#\\s*Driver|#\\s*This function|#\\s*Iterate', \n",
        "                        re.IGNORECASE)\n",
        "lines = [x for x in lines if re.search(comment_re, x) is None]\n",
        "\n",
        "example_start_id = [counter for counter,_ in enumerate(lines) if (_.startswith(\"#\") or _.startswith(\" #\")) and (lines[counter-1].strip() == '')]\n",
        "training_examples = []\n",
        "for num, idx in enumerate(example_start_id):\n",
        "    if idx != example_start_id[-1]:\n",
        "        example_dict = {}\n",
        "        example = lines[example_start_id[num]:example_start_id[num+1]]\n",
        "        if (re.search(r\"#\\s*\\d\", example[0], re.IGNORECASE)) and (re.search(r\"#\", example[1], re.IGNORECASE)) is not None:\n",
        "                    example_dict['ques_prompt'] = example[1].strip()\n",
        "                    example_dict['source_code'] = \"\".join(example[2:]).strip()\n",
        "        elif re.search(r'#\\s*In\\[\\d*\\]', \"\".join(example), re.IGNORECASE) is not None:\n",
        "            continue\n",
        "        else:\n",
        "            example_dict['ques_prompt'] = example[0].strip()\n",
        "            example_dict['source_code'] = \"\".join(example[1:]).strip()\n",
        "        training_examples.append(example_dict)\n",
        "    else:\n",
        "        example_dict = {}\n",
        "        example = lines[example_start_id[num]:]\n",
        "        example_dict['ques_prompt'] = example[0].strip()\n",
        "        example_dict['source_code'] = \"\".join(example[1:]).strip()\n",
        "        training_examples.append(example_dict)"
      ],
      "execution_count": 7,
      "outputs": []
    },
    {
      "cell_type": "code",
      "metadata": {
        "id": "zWDP2kEEyQCN"
      },
      "source": [
        "full_data = pd.DataFrame(training_examples)\n",
        "# Dropping examples where length of code was greater than 250 characters\n",
        "len_filter = full_data['source_code'].apply(lambda x:len(x) > 250)\n",
        "full_data.drop(len_filter[len_filter == True].index.tolist(), inplace = True, axis = 0)\n",
        "full_data.reset_index(drop = True, inplace = True)\n",
        "full_data['ques_prompt'] = full_data['ques_prompt'].apply(lambda x:re.sub(r'\\d*', '', x))\n",
        "full_data['ques_prompt'] = full_data['ques_prompt'].apply(lambda x:re.sub(r'(#\\s)+', '', x))\n",
        "full_data.columns = ['src', 'trg']"
      ],
      "execution_count": 8,
      "outputs": []
    },
    {
      "cell_type": "code",
      "metadata": {
        "colab": {
          "base_uri": "https://localhost:8080/",
          "height": 194
        },
        "id": "UifQzF1uIx2N",
        "outputId": "f4a4cb48-e04f-4785-abe7-3207cf1f9df5"
      },
      "source": [
        "full_data.head()"
      ],
      "execution_count": 9,
      "outputs": [
        {
          "output_type": "execute_result",
          "data": {
            "text/html": [
              "<div>\n",
              "<style scoped>\n",
              "    .dataframe tbody tr th:only-of-type {\n",
              "        vertical-align: middle;\n",
              "    }\n",
              "\n",
              "    .dataframe tbody tr th {\n",
              "        vertical-align: top;\n",
              "    }\n",
              "\n",
              "    .dataframe thead th {\n",
              "        text-align: right;\n",
              "    }\n",
              "</style>\n",
              "<table border=\"1\" class=\"dataframe\">\n",
              "  <thead>\n",
              "    <tr style=\"text-align: right;\">\n",
              "      <th></th>\n",
              "      <th>src</th>\n",
              "      <th>trg</th>\n",
              "    </tr>\n",
              "  </thead>\n",
              "  <tbody>\n",
              "    <tr>\n",
              "      <th>0</th>\n",
              "      <td>write a python program to add two numbers</td>\n",
              "      <td>num1 = 1.5\\nnum2 = 6.3\\nsum = num1 + num2\\npri...</td>\n",
              "    </tr>\n",
              "    <tr>\n",
              "      <th>1</th>\n",
              "      <td>write a python function to add two user provid...</td>\n",
              "      <td>def add_two_numbers(num1, num2):\\n    sum = nu...</td>\n",
              "    </tr>\n",
              "    <tr>\n",
              "      <th>2</th>\n",
              "      <td>write a program to find and print the largest ...</td>\n",
              "      <td>num1 = 10\\nnum2 = 12\\nnum3 = 14\\nif (num1 &gt;= n...</td>\n",
              "    </tr>\n",
              "    <tr>\n",
              "      <th>3</th>\n",
              "      <td>write a program to find and print the smallest...</td>\n",
              "      <td>num1 = 10\\nnum2 = 12\\nnum3 = 14\\nif (num1 &lt;= n...</td>\n",
              "    </tr>\n",
              "    <tr>\n",
              "      <th>4</th>\n",
              "      <td>Write a python function to merge two given lis...</td>\n",
              "      <td>def merge_lists(l1, l2):\\n    return l1 + l2</td>\n",
              "    </tr>\n",
              "  </tbody>\n",
              "</table>\n",
              "</div>"
            ],
            "text/plain": [
              "                                                 src                                                trg\n",
              "0          write a python program to add two numbers  num1 = 1.5\\nnum2 = 6.3\\nsum = num1 + num2\\npri...\n",
              "1  write a python function to add two user provid...  def add_two_numbers(num1, num2):\\n    sum = nu...\n",
              "2  write a program to find and print the largest ...  num1 = 10\\nnum2 = 12\\nnum3 = 14\\nif (num1 >= n...\n",
              "3  write a program to find and print the smallest...  num1 = 10\\nnum2 = 12\\nnum3 = 14\\nif (num1 <= n...\n",
              "4  Write a python function to merge two given lis...       def merge_lists(l1, l2):\\n    return l1 + l2"
            ]
          },
          "metadata": {
            "tags": []
          },
          "execution_count": 9
        }
      ]
    },
    {
      "cell_type": "code",
      "metadata": {
        "id": "fdrOdQr80B3J"
      },
      "source": [
        "# Loading spacy language models for tokenization\n",
        "en_tokenizer = spacy.load('en')"
      ],
      "execution_count": 10,
      "outputs": []
    },
    {
      "cell_type": "markdown",
      "metadata": {
        "id": "cqfrzvJE3wJm"
      },
      "source": [
        "# Custom Tokenization"
      ]
    },
    {
      "cell_type": "code",
      "metadata": {
        "id": "qtzXgqS6pfeQ"
      },
      "source": [
        "lexer = PythonLexer()\n",
        "def tokenize_py(text):\n",
        "    \"\"\"\n",
        "    Tokenizes Python text from a string into a list of tokens\n",
        "    \"\"\"\n",
        "    tokens_texts = lexer.get_tokens(text)\n",
        "    tokens_texts = [i[1] for i in tokens_texts if i[0] != pygments.token.Comment.Single]\n",
        "    return tokens_texts\n",
        "\n",
        "def tokenize_en(text):\n",
        "    \"\"\"\n",
        "    Tokenizes English text from a string into a list of tokens\n",
        "    \"\"\"\n",
        "    return [tok.text for tok in en_tokenizer.tokenizer(text)]"
      ],
      "execution_count": 11,
      "outputs": []
    },
    {
      "cell_type": "code",
      "metadata": {
        "colab": {
          "base_uri": "https://localhost:8080/"
        },
        "id": "pQcuYk3C4XgX",
        "outputId": "c796d5b5-f691-4e1e-98d4-e8bc4cd5140f"
      },
      "source": [
        "# Let's test our custom tokenizer\n",
        "idx = 1\n",
        "print(f'Target Sentence :\\n{full_data.iloc[idx, 1]}\\n')\n",
        "print(f'Tokens : {tokenize_py(full_data.iloc[idx, 1])}\\n',)\n",
        "print(f'Reconstructed sentence from Tokens : \\n{\"\".join(tokenize_py(full_data.iloc[idx, 1]))}\\n')"
      ],
      "execution_count": 12,
      "outputs": [
        {
          "output_type": "stream",
          "text": [
            "Target Sentence :\n",
            "def add_two_numbers(num1, num2):\n",
            "    sum = num1 + num2\n",
            "    return sum\n",
            "\n",
            "Tokens : ['def', ' ', 'add_two_numbers', '(', 'num1', ',', ' ', 'num2', ')', ':', '\\n', '    ', 'sum', ' ', '=', ' ', 'num1', ' ', '+', ' ', 'num2', '\\n', '    ', 'return', ' ', 'sum', '\\n']\n",
            "\n",
            "Reconstructed sentence from Tokens : \n",
            "def add_two_numbers(num1, num2):\n",
            "    sum = num1 + num2\n",
            "    return sum\n",
            "\n",
            "\n"
          ],
          "name": "stdout"
        }
      ]
    },
    {
      "cell_type": "code",
      "metadata": {
        "colab": {
          "base_uri": "https://localhost:8080/"
        },
        "id": "4To5gq4E5oUR",
        "outputId": "610ee329-2e29-4c64-ade7-90edb4cb3882"
      },
      "source": [
        "idx = 1454\n",
        "print(f'Target Sentence :\\n{full_data.iloc[idx, 1]}\\n')\n",
        "print(f'Tokens : {tokenize_py(full_data.iloc[idx, 1])}\\n',)\n",
        "print(f'Reconstructed sentence from Tokens : \\n{\"\".join(tokenize_py(full_data.iloc[idx, 1]))}\\n')"
      ],
      "execution_count": 13,
      "outputs": [
        {
          "output_type": "stream",
          "text": [
            "Target Sentence :\n",
            "test_list = [(1, 3), (1, 4), (2, 3), (3, 2), (5, 3), (6, 4)] \n",
            "res = {} \n",
            "for i, j in test_list: \n",
            "     res.setdefault(j, []).append(i) \n",
            "print(\"The dictionary converted from tuple list : \" + str(res))\n",
            "\n",
            "Tokens : ['test_list', ' ', '=', ' ', '[', '(', '1', ',', ' ', '3', ')', ',', ' ', '(', '1', ',', ' ', '4', ')', ',', ' ', '(', '2', ',', ' ', '3', ')', ',', ' ', '(', '3', ',', ' ', '2', ')', ',', ' ', '(', '5', ',', ' ', '3', ')', ',', ' ', '(', '6', ',', ' ', '4', ')', ']', ' ', '\\n', 'res', ' ', '=', ' ', '{', '}', ' ', '\\n', 'for', ' ', 'i', ',', ' ', 'j', ' ', 'in', ' ', 'test_list', ':', ' ', '\\n', '     ', 'res', '.', 'setdefault', '(', 'j', ',', ' ', '[', ']', ')', '.', 'append', '(', 'i', ')', ' ', '\\n', 'print', '(', '\"', 'The dictionary converted from tuple list : ', '\"', ' ', '+', ' ', 'str', '(', 'res', ')', ')', '\\n']\n",
            "\n",
            "Reconstructed sentence from Tokens : \n",
            "test_list = [(1, 3), (1, 4), (2, 3), (3, 2), (5, 3), (6, 4)] \n",
            "res = {} \n",
            "for i, j in test_list: \n",
            "     res.setdefault(j, []).append(i) \n",
            "print(\"The dictionary converted from tuple list : \" + str(res))\n",
            "\n",
            "\n"
          ],
          "name": "stdout"
        }
      ]
    },
    {
      "cell_type": "markdown",
      "metadata": {
        "id": "0mUtDWea5uOV"
      },
      "source": [
        "As we can see that the python code structure is maintained and proper tokenization is there for f-strings, spaces, newline, python operators and brackets"
      ]
    },
    {
      "cell_type": "code",
      "metadata": {
        "id": "6iSMa5iYJG-i"
      },
      "source": [
        "# Defining the fields\n",
        "SRC = Field(tokenize = tokenize_en, \n",
        "            init_token = '<sos>', \n",
        "            eos_token = '<eos>', \n",
        "            lower = True, \n",
        "            batch_first = True)\n",
        "\n",
        "# lower=False since python is case sensitive language\n",
        "TRG = Field(tokenize = tokenize_py, \n",
        "            init_token = '<sos>', \n",
        "            eos_token = '<eos>', \n",
        "            lower = False, \n",
        "            batch_first = True)"
      ],
      "execution_count": 14,
      "outputs": []
    },
    {
      "cell_type": "code",
      "metadata": {
        "id": "pX4CJzLKJXqE"
      },
      "source": [
        "# Creating torchtext dataset \n",
        "fields = [('src', SRC), ('trg', TRG)]\n",
        "examples = [Example.fromlist([full_data.src[i], full_data.trg[i]], fields) for i in range(full_data.shape[0])]\n",
        "complete_dataset = Dataset(examples, fields)"
      ],
      "execution_count": 15,
      "outputs": []
    },
    {
      "cell_type": "code",
      "metadata": {
        "id": "5sxQcLlGMv0-"
      },
      "source": [
        "# Splitting into train, test and validation\n",
        "train_data, valid_data, test_data = complete_dataset.split(split_ratio=[0.80, 0.05, 0.15], \n",
        "                                    random_state=random.seed(SEED))"
      ],
      "execution_count": 16,
      "outputs": []
    },
    {
      "cell_type": "code",
      "metadata": {
        "colab": {
          "base_uri": "https://localhost:8080/"
        },
        "id": "g6pfjzztO-HE",
        "outputId": "b2b482ee-1e02-4158-ac8d-2b2ef5fee744"
      },
      "source": [
        "len(train_data), len(valid_data), len(test_data)"
      ],
      "execution_count": 17,
      "outputs": [
        {
          "output_type": "execute_result",
          "data": {
            "text/plain": [
              "(2828, 530, 177)"
            ]
          },
          "metadata": {
            "tags": []
          },
          "execution_count": 17
        }
      ]
    },
    {
      "cell_type": "code",
      "metadata": {
        "colab": {
          "base_uri": "https://localhost:8080/"
        },
        "id": "9YhWJpg8PD8B",
        "outputId": "fb62c495-2dde-4f57-a470-0f506326c044"
      },
      "source": [
        "# Let's look at a few examples from the dataset\n",
        "idx = 9\n",
        "print(''.join(vars(train_data.examples[idx])['trg']))\n",
        "print(vars(train_data.examples[idx])['trg'])\n",
        "print(len(vars(train_data.examples[idx])['trg']))"
      ],
      "execution_count": 18,
      "outputs": [
        {
          "output_type": "stream",
          "text": [
            "sentence = 'The Quick 123 Fox'\n",
            "digits = 0\n",
            "letters = 0\n",
            "for c in sentence:\n",
            "   if c.isdigit():\n",
            "      digits += 1\n",
            "   elif c.isalpha():\n",
            "      letters += 1\n",
            "   else:\n",
            "      pass\n",
            "print(f'Digits: {digits}, Letters: {letters}')\n",
            "\n",
            "['sentence', ' ', '=', ' ', \"'\", 'The Quick 123 Fox', \"'\", '\\n', 'digits', ' ', '=', ' ', '0', '\\n', 'letters', ' ', '=', ' ', '0', '\\n', 'for', ' ', 'c', ' ', 'in', ' ', 'sentence', ':', '\\n', '   ', 'if', ' ', 'c', '.', 'isdigit', '(', ')', ':', '\\n', '      ', 'digits', ' ', '+', '=', ' ', '1', '\\n', '   ', 'elif', ' ', 'c', '.', 'isalpha', '(', ')', ':', '\\n', '      ', 'letters', ' ', '+', '=', ' ', '1', '\\n', '   ', 'else', ':', '\\n', '      ', 'pass', '\\n', 'print', '(', 'f', \"'\", 'Digits: ', '{', 'digits', '}', ', Letters: ', '{', 'letters', '}', \"'\", ')', '\\n']\n",
            "87\n"
          ],
          "name": "stdout"
        }
      ]
    },
    {
      "cell_type": "code",
      "metadata": {
        "colab": {
          "base_uri": "https://localhost:8080/"
        },
        "id": "orcMjw5KohfG",
        "outputId": "7f7ee916-03ef-483a-f3df-15799380cf90"
      },
      "source": [
        "idx = 0\n",
        "print(''.join(vars(train_data.examples[idx])['trg']))\n",
        "print(vars(train_data.examples[idx])['trg'])"
      ],
      "execution_count": 19,
      "outputs": [
        {
          "output_type": "stream",
          "text": [
            "word = \"Hello World\"\n",
            "replace = \"Bye\"\n",
            "input = \"Hello\"\n",
            "after_replace = word.replace(input, replace)\n",
            "print(f\"String ater replacement: {after_replace}\")\n",
            "\n",
            "['word', ' ', '=', ' ', '\"', 'Hello World', '\"', '\\n', 'replace', ' ', '=', ' ', '\"', 'Bye', '\"', '\\n', 'input', ' ', '=', ' ', '\"', 'Hello', '\"', '\\n', 'after_replace', ' ', '=', ' ', 'word', '.', 'replace', '(', 'input', ',', ' ', 'replace', ')', '\\n', 'print', '(', 'f', '\"', 'String ater replacement: ', '{', 'after_replace', '}', '\"', ')', '\\n']\n"
          ],
          "name": "stdout"
        }
      ]
    },
    {
      "cell_type": "code",
      "metadata": {
        "id": "AWATKYiJPKHY"
      },
      "source": [
        "SRC.build_vocab(train_data, min_freq = 2)\n",
        "TRG.build_vocab(train_data, min_freq = 1)"
      ],
      "execution_count": 20,
      "outputs": []
    },
    {
      "cell_type": "code",
      "metadata": {
        "colab": {
          "base_uri": "https://localhost:8080/"
        },
        "id": "STmUMUnjSeFG",
        "outputId": "22509ad0-d399-40b4-8626-e3c798950361"
      },
      "source": [
        "device = torch.device('cuda' if torch.cuda.is_available() else 'cpu')\n",
        "# device = 'cpu'\n",
        "device"
      ],
      "execution_count": 21,
      "outputs": [
        {
          "output_type": "execute_result",
          "data": {
            "text/plain": [
              "device(type='cuda')"
            ]
          },
          "metadata": {
            "tags": []
          },
          "execution_count": 21
        }
      ]
    },
    {
      "cell_type": "code",
      "metadata": {
        "id": "3eYIBgWrSkln"
      },
      "source": [
        "BATCH_SIZE = 64\n",
        "\n",
        "train_iterator, valid_iterator, test_iterator = BucketIterator.splits(\n",
        "    (train_data, valid_data, test_data), sort_key = lambda x:len(x.src), sort_within_batch = False,\n",
        "     batch_size = BATCH_SIZE,\n",
        "     device = device)"
      ],
      "execution_count": 22,
      "outputs": []
    },
    {
      "cell_type": "code",
      "metadata": {
        "id": "uCkVjzBuTXFC"
      },
      "source": [
        "class Encoder(nn.Module):\n",
        "    def __init__(self, \n",
        "                 input_dim, \n",
        "                 hid_dim, \n",
        "                 n_layers, \n",
        "                 n_heads, \n",
        "                 pf_dim,\n",
        "                 dropout, \n",
        "                 device,\n",
        "                 max_length = 200):\n",
        "        super().__init__()\n",
        "\n",
        "        self.device = device\n",
        "        \n",
        "        self.tok_embedding = nn.Embedding(input_dim, hid_dim)\n",
        "        self.pos_embedding = nn.Embedding(max_length, hid_dim)\n",
        "        \n",
        "        self.layers = nn.ModuleList([EncoderLayer(hid_dim, \n",
        "                                                  n_heads, \n",
        "                                                  pf_dim,\n",
        "                                                  dropout, \n",
        "                                                  device) \n",
        "                                     for _ in range(n_layers)])\n",
        "        \n",
        "        self.dropout = nn.Dropout(dropout)\n",
        "        \n",
        "        self.scale = torch.sqrt(torch.FloatTensor([hid_dim])).to(device)\n",
        "        \n",
        "    def forward(self, src, src_mask):\n",
        "        \n",
        "        #src = [batch size, src len]\n",
        "        #src_mask = [batch size, 1, 1, src len]\n",
        "        \n",
        "        batch_size = src.shape[0]\n",
        "        src_len = src.shape[1]\n",
        "        \n",
        "        pos = torch.arange(0, src_len).unsqueeze(0).repeat(batch_size, 1).to(self.device)\n",
        "        \n",
        "        #pos = [batch size, src len]\n",
        "        \n",
        "        src = self.dropout((self.tok_embedding(src) * self.scale) + self.pos_embedding(pos))\n",
        "        \n",
        "        #src = [batch size, src len, hid dim]\n",
        "        \n",
        "        for layer in self.layers:\n",
        "            src = layer(src, src_mask)\n",
        "            \n",
        "        #src = [batch size, src len, hid dim]\n",
        "            \n",
        "        return src"
      ],
      "execution_count": 23,
      "outputs": []
    },
    {
      "cell_type": "code",
      "metadata": {
        "id": "lKnjbUpXTaZZ"
      },
      "source": [
        "class EncoderLayer(nn.Module):\n",
        "    def __init__(self, \n",
        "                 hid_dim, \n",
        "                 n_heads, \n",
        "                 pf_dim,  \n",
        "                 dropout, \n",
        "                 device):\n",
        "        super().__init__()\n",
        "        \n",
        "        self.self_attn_layer_norm = nn.LayerNorm(hid_dim)\n",
        "        self.ff_layer_norm = nn.LayerNorm(hid_dim)\n",
        "        self.self_attention = MultiHeadAttentionLayer(hid_dim, n_heads, dropout, device)\n",
        "        self.positionwise_feedforward = PositionwiseFeedforwardLayer(hid_dim, \n",
        "                                                                     pf_dim, \n",
        "                                                                     dropout)\n",
        "        self.dropout = nn.Dropout(dropout)\n",
        "        \n",
        "    def forward(self, src, src_mask):\n",
        "        \n",
        "        #src = [batch size, src len, hid dim]\n",
        "        #src_mask = [batch size, 1, 1, src len] \n",
        "                \n",
        "        #self attention\n",
        "        _src, _ = self.self_attention(src, src, src, src_mask)\n",
        "        \n",
        "        #dropout, residual connection and layer norm\n",
        "        src = self.self_attn_layer_norm(src + self.dropout(_src))\n",
        "        \n",
        "        #src = [batch size, src len, hid dim]\n",
        "        \n",
        "        #positionwise feedforward\n",
        "        _src = self.positionwise_feedforward(src)\n",
        "        \n",
        "        #dropout, residual and layer norm\n",
        "        src = self.ff_layer_norm(src + self.dropout(_src))\n",
        "        \n",
        "        #src = [batch size, src len, hid dim]\n",
        "        \n",
        "        return src"
      ],
      "execution_count": 24,
      "outputs": []
    },
    {
      "cell_type": "code",
      "metadata": {
        "id": "0ycLDCPuTf63"
      },
      "source": [
        "class MultiHeadAttentionLayer(nn.Module):\n",
        "    def __init__(self, hid_dim, n_heads, dropout, device):\n",
        "        super().__init__()\n",
        "        \n",
        "        assert hid_dim % n_heads == 0\n",
        "        \n",
        "        self.hid_dim = hid_dim\n",
        "        self.n_heads = n_heads\n",
        "        self.head_dim = hid_dim // n_heads\n",
        "        \n",
        "        self.fc_q = nn.Linear(hid_dim, hid_dim)\n",
        "        self.fc_k = nn.Linear(hid_dim, hid_dim)\n",
        "        self.fc_v = nn.Linear(hid_dim, hid_dim)\n",
        "        \n",
        "        self.fc_o = nn.Linear(hid_dim, hid_dim)\n",
        "        \n",
        "        self.dropout = nn.Dropout(dropout)\n",
        "        \n",
        "        self.scale = torch.sqrt(torch.FloatTensor([self.head_dim])).to(device)\n",
        "        \n",
        "    def forward(self, query, key, value, mask = None):\n",
        "        \n",
        "        batch_size = query.shape[0]\n",
        "        \n",
        "        #query = [batch size, query len, hid dim]\n",
        "        #key = [batch size, key len, hid dim]\n",
        "        #value = [batch size, value len, hid dim]\n",
        "                \n",
        "        Q = self.fc_q(query)\n",
        "        K = self.fc_k(key)\n",
        "        V = self.fc_v(value)\n",
        "        \n",
        "        #Q = [batch size, query len, hid dim]\n",
        "        #K = [batch size, key len, hid dim]\n",
        "        #V = [batch size, value len, hid dim]\n",
        "                \n",
        "        Q = Q.view(batch_size, -1, self.n_heads, self.head_dim).permute(0, 2, 1, 3)\n",
        "        K = K.view(batch_size, -1, self.n_heads, self.head_dim).permute(0, 2, 1, 3)\n",
        "        V = V.view(batch_size, -1, self.n_heads, self.head_dim).permute(0, 2, 1, 3)\n",
        "        \n",
        "        #Q = [batch size, n heads, query len, head dim]\n",
        "        #K = [batch size, n heads, key len, head dim]\n",
        "        #V = [batch size, n heads, value len, head dim]\n",
        "                \n",
        "        energy = torch.matmul(Q, K.permute(0, 1, 3, 2)) / self.scale\n",
        "        \n",
        "        #energy = [batch size, n heads, query len, key len]\n",
        "        \n",
        "        if mask is not None:\n",
        "            energy = energy.masked_fill(mask == 0, -1e10)\n",
        "        \n",
        "        attention = torch.softmax(energy, dim = -1)\n",
        "                \n",
        "        #attention = [batch size, n heads, query len, key len]\n",
        "                \n",
        "        x = torch.matmul(self.dropout(attention), V)\n",
        "        \n",
        "        #x = [batch size, n heads, query len, head dim]\n",
        "        \n",
        "        x = x.permute(0, 2, 1, 3).contiguous()\n",
        "        \n",
        "        #x = [batch size, query len, n heads, head dim]\n",
        "        \n",
        "        x = x.view(batch_size, -1, self.hid_dim)\n",
        "        \n",
        "        #x = [batch size, query len, hid dim]\n",
        "        \n",
        "        x = self.fc_o(x)\n",
        "        \n",
        "        #x = [batch size, query len, hid dim]\n",
        "        \n",
        "        return x, attention"
      ],
      "execution_count": 25,
      "outputs": []
    },
    {
      "cell_type": "code",
      "metadata": {
        "id": "OmIaAPSlTl-K"
      },
      "source": [
        "class PositionwiseFeedforwardLayer(nn.Module):\n",
        "    def __init__(self, hid_dim, pf_dim, dropout):\n",
        "        super().__init__()\n",
        "        \n",
        "        self.fc_1 = nn.Linear(hid_dim, pf_dim)\n",
        "        self.fc_2 = nn.Linear(pf_dim, hid_dim)\n",
        "        \n",
        "        self.dropout = nn.Dropout(dropout)\n",
        "        \n",
        "    def forward(self, x):\n",
        "        \n",
        "        #x = [batch size, seq len, hid dim]\n",
        "        \n",
        "        x = self.dropout(torch.relu(self.fc_1(x)))\n",
        "        \n",
        "        #x = [batch size, seq len, pf dim]\n",
        "        \n",
        "        x = self.fc_2(x)\n",
        "        \n",
        "        #x = [batch size, seq len, hid dim]\n",
        "        \n",
        "        return x"
      ],
      "execution_count": 26,
      "outputs": []
    },
    {
      "cell_type": "code",
      "metadata": {
        "id": "dEbFPA6XTp_g"
      },
      "source": [
        "class Decoder(nn.Module):\n",
        "    def __init__(self, \n",
        "                 output_dim, \n",
        "                 hid_dim, \n",
        "                 n_layers, \n",
        "                 n_heads, \n",
        "                 pf_dim, \n",
        "                 dropout, \n",
        "                 device,\n",
        "                 max_length = 250):\n",
        "        super().__init__()\n",
        "        \n",
        "        self.device = device\n",
        "        \n",
        "        self.tok_embedding = nn.Embedding(output_dim, hid_dim)\n",
        "        self.pos_embedding = nn.Embedding(max_length, hid_dim)\n",
        "        \n",
        "        self.layers = nn.ModuleList([DecoderLayer(hid_dim, \n",
        "                                                  n_heads, \n",
        "                                                  pf_dim, \n",
        "                                                  dropout, \n",
        "                                                  device)\n",
        "                                     for _ in range(n_layers)])\n",
        "        \n",
        "        self.fc_out = nn.Linear(hid_dim, output_dim)\n",
        "        \n",
        "        self.dropout = nn.Dropout(dropout)\n",
        "        \n",
        "        self.scale = torch.sqrt(torch.FloatTensor([hid_dim])).to(device)\n",
        "        \n",
        "    def forward(self, trg, enc_src, trg_mask, src_mask):\n",
        "        \n",
        "        #trg = [batch size, trg len]\n",
        "        #enc_src = [batch size, src len, hid dim]\n",
        "        #trg_mask = [batch size, 1, trg len, trg len]\n",
        "        #src_mask = [batch size, 1, 1, src len]\n",
        "                \n",
        "        batch_size = trg.shape[0]\n",
        "        trg_len = trg.shape[1]\n",
        "        \n",
        "        pos = torch.arange(0, trg_len).unsqueeze(0).repeat(batch_size, 1).to(self.device)\n",
        "                            \n",
        "        #pos = [batch size, trg len]\n",
        "            \n",
        "        trg = self.dropout((self.tok_embedding(trg) * self.scale) + self.pos_embedding(pos))\n",
        "                \n",
        "        #trg = [batch size, trg len, hid dim]\n",
        "        \n",
        "        for layer in self.layers:\n",
        "            trg, attention = layer(trg, enc_src, trg_mask, src_mask)\n",
        "        \n",
        "        #trg = [batch size, trg len, hid dim]\n",
        "        #attention = [batch size, n heads, trg len, src len]\n",
        "        \n",
        "        output = self.fc_out(trg)\n",
        "        \n",
        "        #output = [batch size, trg len, output dim]\n",
        "            \n",
        "        return output, attention"
      ],
      "execution_count": 27,
      "outputs": []
    },
    {
      "cell_type": "code",
      "metadata": {
        "id": "uBHcoWU0TvW6"
      },
      "source": [
        "class DecoderLayer(nn.Module):\n",
        "    def __init__(self, \n",
        "                 hid_dim, \n",
        "                 n_heads, \n",
        "                 pf_dim, \n",
        "                 dropout, \n",
        "                 device):\n",
        "        super().__init__()\n",
        "        \n",
        "        self.self_attn_layer_norm = nn.LayerNorm(hid_dim)\n",
        "        self.enc_attn_layer_norm = nn.LayerNorm(hid_dim)\n",
        "        self.ff_layer_norm = nn.LayerNorm(hid_dim)\n",
        "        self.self_attention = MultiHeadAttentionLayer(hid_dim, n_heads, dropout, device)\n",
        "        self.encoder_attention = MultiHeadAttentionLayer(hid_dim, n_heads, dropout, device)\n",
        "        self.positionwise_feedforward = PositionwiseFeedforwardLayer(hid_dim, \n",
        "                                                                     pf_dim, \n",
        "                                                                     dropout)\n",
        "        self.dropout = nn.Dropout(dropout)\n",
        "        \n",
        "    def forward(self, trg, enc_src, trg_mask, src_mask):\n",
        "        \n",
        "        #trg = [batch size, trg len, hid dim]\n",
        "        #enc_src = [batch size, src len, hid dim]\n",
        "        #trg_mask = [batch size, 1, trg len, trg len]\n",
        "        #src_mask = [batch size, 1, 1, src len]\n",
        "        \n",
        "        #self attention\n",
        "        _trg, _ = self.self_attention(trg, trg, trg, trg_mask)\n",
        "        \n",
        "        #dropout, residual connection and layer norm\n",
        "        trg = self.self_attn_layer_norm(trg + self.dropout(_trg))\n",
        "            \n",
        "        #trg = [batch size, trg len, hid dim]\n",
        "            \n",
        "        #encoder attention\n",
        "        _trg, attention = self.encoder_attention(trg, enc_src, enc_src, src_mask)\n",
        "        # query, key, value\n",
        "        \n",
        "        #dropout, residual connection and layer norm\n",
        "        trg = self.enc_attn_layer_norm(trg + self.dropout(_trg))\n",
        "                    \n",
        "        #trg = [batch size, trg len, hid dim]\n",
        "        \n",
        "        #positionwise feedforward\n",
        "        _trg = self.positionwise_feedforward(trg)\n",
        "        \n",
        "        #dropout, residual and layer norm\n",
        "        trg = self.ff_layer_norm(trg + self.dropout(_trg))\n",
        "        \n",
        "        #trg = [batch size, trg len, hid dim]\n",
        "        #attention = [batch size, n heads, trg len, src len]\n",
        "        \n",
        "        return trg, attention"
      ],
      "execution_count": 28,
      "outputs": []
    },
    {
      "cell_type": "code",
      "metadata": {
        "id": "06x-eTpHTxmJ"
      },
      "source": [
        "class Seq2Seq(nn.Module):\n",
        "    def __init__(self, \n",
        "                 encoder, \n",
        "                 decoder, \n",
        "                 src_pad_idx, \n",
        "                 trg_pad_idx, \n",
        "                 device):\n",
        "        super().__init__()\n",
        "        \n",
        "        self.encoder = encoder\n",
        "        self.decoder = decoder\n",
        "        self.src_pad_idx = src_pad_idx\n",
        "        self.trg_pad_idx = trg_pad_idx\n",
        "        self.device = device\n",
        "        \n",
        "    def make_src_mask(self, src):\n",
        "        \n",
        "        #src = [batch size, src len]\n",
        "        \n",
        "        src_mask = (src != self.src_pad_idx).unsqueeze(1).unsqueeze(2)\n",
        "\n",
        "        #src_mask = [batch size, 1, 1, src len]\n",
        "\n",
        "        return src_mask\n",
        "    \n",
        "    def make_trg_mask(self, trg):\n",
        "        \n",
        "        #trg = [batch size, trg len]\n",
        "        \n",
        "        trg_pad_mask = (trg != self.trg_pad_idx).unsqueeze(1).unsqueeze(2)\n",
        "        \n",
        "        #trg_pad_mask = [batch size, 1, 1, trg len]\n",
        "        \n",
        "        trg_len = trg.shape[1]\n",
        "        \n",
        "        trg_sub_mask = torch.tril(torch.ones((trg_len, trg_len), device = self.device)).bool()\n",
        "        \n",
        "        #trg_sub_mask = [trg len, trg len]\n",
        "            \n",
        "        trg_mask = trg_pad_mask & trg_sub_mask\n",
        "        \n",
        "        #trg_mask = [batch size, 1, trg len, trg len]\n",
        "        \n",
        "        return trg_mask\n",
        "\n",
        "    def forward(self, src, trg):\n",
        "        \n",
        "        #src = [batch size, src len]\n",
        "        #trg = [batch size, trg len]\n",
        "                \n",
        "        src_mask = self.make_src_mask(src)\n",
        "        trg_mask = self.make_trg_mask(trg)\n",
        "        \n",
        "        #src_mask = [batch size, 1, 1, src len]\n",
        "        #trg_mask = [batch size, 1, trg len, trg len]\n",
        "        \n",
        "        enc_src = self.encoder(src, src_mask)\n",
        "        \n",
        "        #enc_src = [batch size, src len, hid dim]\n",
        "                \n",
        "        output, attention = self.decoder(trg, enc_src, trg_mask, src_mask)\n",
        "        \n",
        "        #output = [batch size, trg len, output dim]\n",
        "        #attention = [batch size, n heads, trg len, src len]\n",
        "        \n",
        "        return output, attention"
      ],
      "execution_count": 29,
      "outputs": []
    },
    {
      "cell_type": "code",
      "metadata": {
        "id": "jzgmVhkoTz1D"
      },
      "source": [
        "INPUT_DIM = len(SRC.vocab)\n",
        "OUTPUT_DIM = len(TRG.vocab)\n",
        "HID_DIM = 512\n",
        "ENC_LAYERS = 4\n",
        "DEC_LAYERS = 4\n",
        "ENC_HEADS = 8\n",
        "DEC_HEADS = 8\n",
        "ENC_PF_DIM = 1024\n",
        "DEC_PF_DIM = 1024\n",
        "ENC_DROPOUT = 0.2\n",
        "DEC_DROPOUT = 0.2\n",
        "\n",
        "enc = Encoder(INPUT_DIM, \n",
        "              HID_DIM, \n",
        "              ENC_LAYERS, \n",
        "              ENC_HEADS, \n",
        "              ENC_PF_DIM, \n",
        "              ENC_DROPOUT, \n",
        "              device)\n",
        "\n",
        "dec = Decoder(OUTPUT_DIM, \n",
        "              HID_DIM, \n",
        "              DEC_LAYERS, \n",
        "              DEC_HEADS, \n",
        "              DEC_PF_DIM, \n",
        "              DEC_DROPOUT, \n",
        "              device)"
      ],
      "execution_count": 30,
      "outputs": []
    },
    {
      "cell_type": "code",
      "metadata": {
        "id": "7pHkV-bLT3lO"
      },
      "source": [
        "SRC_PAD_IDX = SRC.vocab.stoi[SRC.pad_token]\n",
        "TRG_PAD_IDX = TRG.vocab.stoi[TRG.pad_token]\n",
        "\n",
        "model = Seq2Seq(enc, dec, SRC_PAD_IDX, TRG_PAD_IDX, device).to(device)"
      ],
      "execution_count": 31,
      "outputs": []
    },
    {
      "cell_type": "code",
      "metadata": {
        "colab": {
          "base_uri": "https://localhost:8080/"
        },
        "id": "a5ku2QdmT7G6",
        "outputId": "7824d22a-f537-417d-fdf6-579e904f3c43"
      },
      "source": [
        "def count_parameters(model):\n",
        "    return sum(p.numel() for p in model.parameters() if p.requires_grad)\n",
        "\n",
        "print(f'The model has {count_parameters(model):,} trainable parameters')"
      ],
      "execution_count": 32,
      "outputs": [
        {
          "output_type": "stream",
          "text": [
            "The model has 25,676,464 trainable parameters\n"
          ],
          "name": "stdout"
        }
      ]
    },
    {
      "cell_type": "code",
      "metadata": {
        "id": "KALu_7hxUJmP"
      },
      "source": [
        "def initialize_weights(m):\n",
        "    if hasattr(m, 'weight') and m.weight.dim() > 1:\n",
        "        nn.init.xavier_uniform_(m.weight.data)"
      ],
      "execution_count": 33,
      "outputs": []
    },
    {
      "cell_type": "code",
      "metadata": {
        "id": "qlaoFi4PUMpb"
      },
      "source": [
        "model.apply(initialize_weights);"
      ],
      "execution_count": 34,
      "outputs": []
    },
    {
      "cell_type": "code",
      "metadata": {
        "id": "_aGeLVbfUOhw"
      },
      "source": [
        "LEARNING_RATE = 0.00001\n",
        "\n",
        "optimizer = torch.optim.Adam(model.parameters(), lr = LEARNING_RATE)"
      ],
      "execution_count": 35,
      "outputs": []
    },
    {
      "cell_type": "code",
      "metadata": {
        "id": "_iFH6VuIUQsN"
      },
      "source": [
        "criterion = nn.CrossEntropyLoss(ignore_index = TRG_PAD_IDX)"
      ],
      "execution_count": 36,
      "outputs": []
    },
    {
      "cell_type": "markdown",
      "metadata": {
        "id": "67vxplARCKWU"
      },
      "source": [
        "# One Cycle LR"
      ]
    },
    {
      "cell_type": "code",
      "metadata": {
        "id": "at_ZxwaaCIph"
      },
      "source": [
        "max_lr = 0.0001\n",
        "N_EPOCHS = 100\n",
        "max_epoch = 30\n",
        "scheduler = optim.lr_scheduler.OneCycleLR(optimizer, max_lr=max_lr,\n",
        "                                     epochs = N_EPOCHS, steps_per_epoch=1, pct_start=max_epoch/N_EPOCHS, \n",
        "                                     anneal_strategy='linear', div_factor=10.0, final_div_factor=1.0)"
      ],
      "execution_count": 37,
      "outputs": []
    },
    {
      "cell_type": "code",
      "metadata": {
        "id": "xSeRKtvzUSRd"
      },
      "source": [
        "def train(model, iterator, optimizer, criterion, clip):\n",
        "    \n",
        "    model.train()\n",
        "    \n",
        "    epoch_loss = 0\n",
        "    \n",
        "    for i, batch in enumerate(iterator):\n",
        "        \n",
        "        src = batch.src\n",
        "        trg = batch.trg\n",
        "        \n",
        "        optimizer.zero_grad()\n",
        "        \n",
        "        output, _ = model(src, trg[:,:-1])\n",
        "                \n",
        "        #output = [batch size, trg len - 1, output dim]\n",
        "        #trg = [batch size, trg len]\n",
        "            \n",
        "        output_dim = output.shape[-1]\n",
        "            \n",
        "        output = output.contiguous().view(-1, output_dim)\n",
        "        trg = trg[:,1:].contiguous().view(-1)\n",
        "                \n",
        "        #output = [batch size * trg len - 1, output dim]\n",
        "        #trg = [batch size * trg len - 1]\n",
        "            \n",
        "        loss = criterion(output, trg)\n",
        "        \n",
        "        loss.backward()\n",
        "        \n",
        "        torch.nn.utils.clip_grad_norm_(model.parameters(), clip)\n",
        "        \n",
        "        optimizer.step()\n",
        "        \n",
        "        epoch_loss += loss.item()\n",
        "        \n",
        "    return epoch_loss / len(iterator)"
      ],
      "execution_count": 38,
      "outputs": []
    },
    {
      "cell_type": "code",
      "metadata": {
        "id": "8RtYKHfPUUF3"
      },
      "source": [
        "def evaluate(model, iterator, criterion):\n",
        "    \n",
        "    model.eval()\n",
        "    \n",
        "    epoch_loss = 0\n",
        "    \n",
        "    with torch.no_grad():\n",
        "    \n",
        "        for i, batch in enumerate(iterator):\n",
        "\n",
        "            src = batch.src\n",
        "            trg = batch.trg\n",
        "\n",
        "            output, _ = model(src, trg[:,:-1])\n",
        "            \n",
        "            #output = [batch size, trg len - 1, output dim]\n",
        "            #trg = [batch size, trg len]\n",
        "            \n",
        "            output_dim = output.shape[-1]\n",
        "            \n",
        "            output = output.contiguous().view(-1, output_dim)\n",
        "            trg = trg[:,1:].contiguous().view(-1)\n",
        "            \n",
        "            #output = [batch size * trg len - 1, output dim]\n",
        "            #trg = [batch size * trg len - 1]\n",
        "            \n",
        "            loss = criterion(output, trg)\n",
        "\n",
        "            epoch_loss += loss.item()\n",
        "        \n",
        "    return epoch_loss / len(iterator)"
      ],
      "execution_count": 39,
      "outputs": []
    },
    {
      "cell_type": "code",
      "metadata": {
        "id": "L1bzVnDHUWIR"
      },
      "source": [
        "def epoch_time(start_time, end_time):\n",
        "    elapsed_time = end_time - start_time\n",
        "    elapsed_mins = int(elapsed_time / 60)\n",
        "    elapsed_secs = int(elapsed_time - (elapsed_mins * 60))\n",
        "    return elapsed_mins, elapsed_secs"
      ],
      "execution_count": 40,
      "outputs": []
    },
    {
      "cell_type": "code",
      "metadata": {
        "colab": {
          "base_uri": "https://localhost:8080/"
        },
        "id": "0QpGdTj_UYtL",
        "outputId": "311f1e7e-aa91-490d-9340-cfd9af6a9ba2"
      },
      "source": [
        "CLIP = 1\n",
        "best_valid_loss = float('inf')\n",
        "train_losses = []\n",
        "valid_losses = []\n",
        "\n",
        "for epoch in range(N_EPOCHS):\n",
        "    \n",
        "    start_time = time.time()\n",
        "    \n",
        "    train_loss = train(model, train_iterator, optimizer, criterion, CLIP)\n",
        "    valid_loss = evaluate(model, valid_iterator, criterion)\n",
        "    \n",
        "    end_time = time.time()\n",
        "    \n",
        "    epoch_mins, epoch_secs = epoch_time(start_time, end_time)\n",
        "    \n",
        "    if valid_loss < best_valid_loss:\n",
        "        best_valid_loss = valid_loss\n",
        "        torch.save(model.state_dict(), 'Experiment_2.pt')\n",
        "    train_losses.append(train_loss)\n",
        "    valid_losses.append(valid_loss)\n",
        "\n",
        "    scheduler.step()\n",
        "    print(f'Epoch: {epoch+1:02} | Time: {epoch_mins}m {epoch_secs}s')\n",
        "    print(f'\\tTrain Loss: {train_loss:.3f} | Train PPL: {math.exp(train_loss):7.3f}')\n",
        "    print(f'\\t Val. Loss: {valid_loss:.3f} |  Val. PPL: {math.exp(valid_loss):7.3f}')"
      ],
      "execution_count": 41,
      "outputs": [
        {
          "output_type": "stream",
          "text": [
            "Epoch: 01 | Time: 0m 14s\n",
            "\tTrain Loss: 7.150 | Train PPL: 1273.543\n",
            "\t Val. Loss: 6.163 |  Val. PPL: 474.794\n",
            "Epoch: 02 | Time: 0m 14s\n",
            "\tTrain Loss: 6.066 | Train PPL: 430.767\n",
            "\t Val. Loss: 5.589 |  Val. PPL: 267.443\n",
            "Epoch: 03 | Time: 0m 14s\n",
            "\tTrain Loss: 5.549 | Train PPL: 256.974\n",
            "\t Val. Loss: 5.154 |  Val. PPL: 173.067\n",
            "Epoch: 04 | Time: 0m 15s\n",
            "\tTrain Loss: 5.072 | Train PPL: 159.480\n",
            "\t Val. Loss: 4.677 |  Val. PPL: 107.472\n",
            "Epoch: 05 | Time: 0m 14s\n",
            "\tTrain Loss: 4.532 | Train PPL:  92.968\n",
            "\t Val. Loss: 3.987 |  Val. PPL:  53.885\n",
            "Epoch: 06 | Time: 0m 14s\n",
            "\tTrain Loss: 3.933 | Train PPL:  51.051\n",
            "\t Val. Loss: 3.551 |  Val. PPL:  34.842\n",
            "Epoch: 07 | Time: 0m 14s\n",
            "\tTrain Loss: 3.520 | Train PPL:  33.771\n",
            "\t Val. Loss: 3.273 |  Val. PPL:  26.394\n",
            "Epoch: 08 | Time: 0m 14s\n",
            "\tTrain Loss: 3.271 | Train PPL:  26.340\n",
            "\t Val. Loss: 3.104 |  Val. PPL:  22.277\n",
            "Epoch: 09 | Time: 0m 14s\n",
            "\tTrain Loss: 3.103 | Train PPL:  22.261\n",
            "\t Val. Loss: 2.961 |  Val. PPL:  19.309\n",
            "Epoch: 10 | Time: 0m 14s\n",
            "\tTrain Loss: 2.970 | Train PPL:  19.494\n",
            "\t Val. Loss: 2.838 |  Val. PPL:  17.086\n",
            "Epoch: 11 | Time: 0m 14s\n",
            "\tTrain Loss: 2.844 | Train PPL:  17.177\n",
            "\t Val. Loss: 2.738 |  Val. PPL:  15.453\n",
            "Epoch: 12 | Time: 0m 14s\n",
            "\tTrain Loss: 2.740 | Train PPL:  15.492\n",
            "\t Val. Loss: 2.647 |  Val. PPL:  14.116\n",
            "Epoch: 13 | Time: 0m 14s\n",
            "\tTrain Loss: 2.648 | Train PPL:  14.131\n",
            "\t Val. Loss: 2.575 |  Val. PPL:  13.133\n",
            "Epoch: 14 | Time: 0m 14s\n",
            "\tTrain Loss: 2.565 | Train PPL:  12.996\n",
            "\t Val. Loss: 2.516 |  Val. PPL:  12.375\n",
            "Epoch: 15 | Time: 0m 14s\n",
            "\tTrain Loss: 2.492 | Train PPL:  12.084\n",
            "\t Val. Loss: 2.434 |  Val. PPL:  11.400\n",
            "Epoch: 16 | Time: 0m 14s\n",
            "\tTrain Loss: 2.417 | Train PPL:  11.215\n",
            "\t Val. Loss: 2.370 |  Val. PPL:  10.696\n",
            "Epoch: 17 | Time: 0m 14s\n",
            "\tTrain Loss: 2.346 | Train PPL:  10.442\n",
            "\t Val. Loss: 2.313 |  Val. PPL:  10.104\n",
            "Epoch: 18 | Time: 0m 14s\n",
            "\tTrain Loss: 2.278 | Train PPL:   9.756\n",
            "\t Val. Loss: 2.263 |  Val. PPL:   9.614\n",
            "Epoch: 19 | Time: 0m 14s\n",
            "\tTrain Loss: 2.212 | Train PPL:   9.138\n",
            "\t Val. Loss: 2.209 |  Val. PPL:   9.108\n",
            "Epoch: 20 | Time: 0m 14s\n",
            "\tTrain Loss: 2.152 | Train PPL:   8.600\n",
            "\t Val. Loss: 2.168 |  Val. PPL:   8.741\n",
            "Epoch: 21 | Time: 0m 14s\n",
            "\tTrain Loss: 2.091 | Train PPL:   8.096\n",
            "\t Val. Loss: 2.106 |  Val. PPL:   8.216\n",
            "Epoch: 22 | Time: 0m 14s\n",
            "\tTrain Loss: 2.025 | Train PPL:   7.576\n",
            "\t Val. Loss: 2.058 |  Val. PPL:   7.828\n",
            "Epoch: 23 | Time: 0m 14s\n",
            "\tTrain Loss: 1.967 | Train PPL:   7.151\n",
            "\t Val. Loss: 2.012 |  Val. PPL:   7.477\n",
            "Epoch: 24 | Time: 0m 14s\n",
            "\tTrain Loss: 1.914 | Train PPL:   6.783\n",
            "\t Val. Loss: 1.975 |  Val. PPL:   7.204\n",
            "Epoch: 25 | Time: 0m 14s\n",
            "\tTrain Loss: 1.858 | Train PPL:   6.412\n",
            "\t Val. Loss: 1.918 |  Val. PPL:   6.809\n",
            "Epoch: 26 | Time: 0m 14s\n",
            "\tTrain Loss: 1.807 | Train PPL:   6.091\n",
            "\t Val. Loss: 1.879 |  Val. PPL:   6.547\n",
            "Epoch: 27 | Time: 0m 14s\n",
            "\tTrain Loss: 1.753 | Train PPL:   5.770\n",
            "\t Val. Loss: 1.848 |  Val. PPL:   6.349\n",
            "Epoch: 28 | Time: 0m 14s\n",
            "\tTrain Loss: 1.698 | Train PPL:   5.462\n",
            "\t Val. Loss: 1.795 |  Val. PPL:   6.021\n",
            "Epoch: 29 | Time: 0m 14s\n",
            "\tTrain Loss: 1.655 | Train PPL:   5.232\n",
            "\t Val. Loss: 1.783 |  Val. PPL:   5.946\n",
            "Epoch: 30 | Time: 0m 14s\n",
            "\tTrain Loss: 1.608 | Train PPL:   4.995\n",
            "\t Val. Loss: 1.756 |  Val. PPL:   5.788\n",
            "Epoch: 31 | Time: 0m 14s\n",
            "\tTrain Loss: 1.562 | Train PPL:   4.767\n",
            "\t Val. Loss: 1.719 |  Val. PPL:   5.581\n",
            "Epoch: 32 | Time: 0m 14s\n",
            "\tTrain Loss: 1.511 | Train PPL:   4.529\n",
            "\t Val. Loss: 1.688 |  Val. PPL:   5.406\n",
            "Epoch: 33 | Time: 0m 14s\n",
            "\tTrain Loss: 1.472 | Train PPL:   4.359\n",
            "\t Val. Loss: 1.660 |  Val. PPL:   5.260\n",
            "Epoch: 34 | Time: 0m 14s\n",
            "\tTrain Loss: 1.428 | Train PPL:   4.169\n",
            "\t Val. Loss: 1.626 |  Val. PPL:   5.083\n",
            "Epoch: 35 | Time: 0m 14s\n",
            "\tTrain Loss: 1.390 | Train PPL:   4.014\n",
            "\t Val. Loss: 1.612 |  Val. PPL:   5.015\n",
            "Epoch: 36 | Time: 0m 14s\n",
            "\tTrain Loss: 1.349 | Train PPL:   3.853\n",
            "\t Val. Loss: 1.574 |  Val. PPL:   4.828\n",
            "Epoch: 37 | Time: 0m 14s\n",
            "\tTrain Loss: 1.313 | Train PPL:   3.716\n",
            "\t Val. Loss: 1.559 |  Val. PPL:   4.752\n",
            "Epoch: 38 | Time: 0m 14s\n",
            "\tTrain Loss: 1.279 | Train PPL:   3.594\n",
            "\t Val. Loss: 1.534 |  Val. PPL:   4.635\n",
            "Epoch: 39 | Time: 0m 14s\n",
            "\tTrain Loss: 1.242 | Train PPL:   3.464\n",
            "\t Val. Loss: 1.513 |  Val. PPL:   4.540\n",
            "Epoch: 40 | Time: 0m 14s\n",
            "\tTrain Loss: 1.211 | Train PPL:   3.358\n",
            "\t Val. Loss: 1.517 |  Val. PPL:   4.559\n",
            "Epoch: 41 | Time: 0m 14s\n",
            "\tTrain Loss: 1.189 | Train PPL:   3.282\n",
            "\t Val. Loss: 1.471 |  Val. PPL:   4.354\n",
            "Epoch: 42 | Time: 0m 14s\n",
            "\tTrain Loss: 1.155 | Train PPL:   3.175\n",
            "\t Val. Loss: 1.471 |  Val. PPL:   4.355\n",
            "Epoch: 43 | Time: 0m 14s\n",
            "\tTrain Loss: 1.133 | Train PPL:   3.105\n",
            "\t Val. Loss: 1.446 |  Val. PPL:   4.245\n",
            "Epoch: 44 | Time: 0m 14s\n",
            "\tTrain Loss: 1.097 | Train PPL:   2.995\n",
            "\t Val. Loss: 1.444 |  Val. PPL:   4.238\n",
            "Epoch: 45 | Time: 0m 14s\n",
            "\tTrain Loss: 1.076 | Train PPL:   2.933\n",
            "\t Val. Loss: 1.426 |  Val. PPL:   4.163\n",
            "Epoch: 46 | Time: 0m 14s\n",
            "\tTrain Loss: 1.046 | Train PPL:   2.845\n",
            "\t Val. Loss: 1.419 |  Val. PPL:   4.134\n",
            "Epoch: 47 | Time: 0m 14s\n",
            "\tTrain Loss: 1.028 | Train PPL:   2.796\n",
            "\t Val. Loss: 1.412 |  Val. PPL:   4.104\n",
            "Epoch: 48 | Time: 0m 14s\n",
            "\tTrain Loss: 1.009 | Train PPL:   2.744\n",
            "\t Val. Loss: 1.396 |  Val. PPL:   4.040\n",
            "Epoch: 49 | Time: 0m 14s\n",
            "\tTrain Loss: 0.985 | Train PPL:   2.678\n",
            "\t Val. Loss: 1.371 |  Val. PPL:   3.938\n",
            "Epoch: 50 | Time: 0m 14s\n",
            "\tTrain Loss: 0.961 | Train PPL:   2.614\n",
            "\t Val. Loss: 1.379 |  Val. PPL:   3.970\n",
            "Epoch: 51 | Time: 0m 14s\n",
            "\tTrain Loss: 0.941 | Train PPL:   2.562\n",
            "\t Val. Loss: 1.369 |  Val. PPL:   3.932\n",
            "Epoch: 52 | Time: 0m 14s\n",
            "\tTrain Loss: 0.922 | Train PPL:   2.515\n",
            "\t Val. Loss: 1.356 |  Val. PPL:   3.880\n",
            "Epoch: 53 | Time: 0m 14s\n",
            "\tTrain Loss: 0.905 | Train PPL:   2.472\n",
            "\t Val. Loss: 1.339 |  Val. PPL:   3.814\n",
            "Epoch: 54 | Time: 0m 14s\n",
            "\tTrain Loss: 0.889 | Train PPL:   2.433\n",
            "\t Val. Loss: 1.345 |  Val. PPL:   3.838\n",
            "Epoch: 55 | Time: 0m 14s\n",
            "\tTrain Loss: 0.870 | Train PPL:   2.388\n",
            "\t Val. Loss: 1.338 |  Val. PPL:   3.810\n",
            "Epoch: 56 | Time: 0m 14s\n",
            "\tTrain Loss: 0.848 | Train PPL:   2.335\n",
            "\t Val. Loss: 1.329 |  Val. PPL:   3.776\n",
            "Epoch: 57 | Time: 0m 14s\n",
            "\tTrain Loss: 0.837 | Train PPL:   2.310\n",
            "\t Val. Loss: 1.325 |  Val. PPL:   3.762\n",
            "Epoch: 58 | Time: 0m 14s\n",
            "\tTrain Loss: 0.819 | Train PPL:   2.269\n",
            "\t Val. Loss: 1.320 |  Val. PPL:   3.745\n",
            "Epoch: 59 | Time: 0m 14s\n",
            "\tTrain Loss: 0.808 | Train PPL:   2.244\n",
            "\t Val. Loss: 1.313 |  Val. PPL:   3.716\n",
            "Epoch: 60 | Time: 0m 14s\n",
            "\tTrain Loss: 0.791 | Train PPL:   2.205\n",
            "\t Val. Loss: 1.296 |  Val. PPL:   3.653\n",
            "Epoch: 61 | Time: 0m 14s\n",
            "\tTrain Loss: 0.780 | Train PPL:   2.182\n",
            "\t Val. Loss: 1.300 |  Val. PPL:   3.669\n",
            "Epoch: 62 | Time: 0m 14s\n",
            "\tTrain Loss: 0.763 | Train PPL:   2.145\n",
            "\t Val. Loss: 1.294 |  Val. PPL:   3.646\n",
            "Epoch: 63 | Time: 0m 14s\n",
            "\tTrain Loss: 0.752 | Train PPL:   2.121\n",
            "\t Val. Loss: 1.298 |  Val. PPL:   3.664\n",
            "Epoch: 64 | Time: 0m 14s\n",
            "\tTrain Loss: 0.740 | Train PPL:   2.097\n",
            "\t Val. Loss: 1.285 |  Val. PPL:   3.613\n",
            "Epoch: 65 | Time: 0m 14s\n",
            "\tTrain Loss: 0.729 | Train PPL:   2.073\n",
            "\t Val. Loss: 1.286 |  Val. PPL:   3.618\n",
            "Epoch: 66 | Time: 0m 14s\n",
            "\tTrain Loss: 0.714 | Train PPL:   2.043\n",
            "\t Val. Loss: 1.287 |  Val. PPL:   3.621\n",
            "Epoch: 67 | Time: 0m 14s\n",
            "\tTrain Loss: 0.702 | Train PPL:   2.018\n",
            "\t Val. Loss: 1.277 |  Val. PPL:   3.585\n",
            "Epoch: 68 | Time: 0m 14s\n",
            "\tTrain Loss: 0.698 | Train PPL:   2.009\n",
            "\t Val. Loss: 1.284 |  Val. PPL:   3.611\n",
            "Epoch: 69 | Time: 0m 14s\n",
            "\tTrain Loss: 0.684 | Train PPL:   1.981\n",
            "\t Val. Loss: 1.280 |  Val. PPL:   3.596\n",
            "Epoch: 70 | Time: 0m 14s\n",
            "\tTrain Loss: 0.674 | Train PPL:   1.962\n",
            "\t Val. Loss: 1.275 |  Val. PPL:   3.578\n",
            "Epoch: 71 | Time: 0m 14s\n",
            "\tTrain Loss: 0.665 | Train PPL:   1.945\n",
            "\t Val. Loss: 1.273 |  Val. PPL:   3.572\n",
            "Epoch: 72 | Time: 0m 14s\n",
            "\tTrain Loss: 0.656 | Train PPL:   1.926\n",
            "\t Val. Loss: 1.265 |  Val. PPL:   3.542\n",
            "Epoch: 73 | Time: 0m 14s\n",
            "\tTrain Loss: 0.648 | Train PPL:   1.912\n",
            "\t Val. Loss: 1.269 |  Val. PPL:   3.558\n",
            "Epoch: 74 | Time: 0m 14s\n",
            "\tTrain Loss: 0.642 | Train PPL:   1.901\n",
            "\t Val. Loss: 1.264 |  Val. PPL:   3.540\n",
            "Epoch: 75 | Time: 0m 14s\n",
            "\tTrain Loss: 0.632 | Train PPL:   1.881\n",
            "\t Val. Loss: 1.263 |  Val. PPL:   3.535\n",
            "Epoch: 76 | Time: 0m 14s\n",
            "\tTrain Loss: 0.622 | Train PPL:   1.863\n",
            "\t Val. Loss: 1.259 |  Val. PPL:   3.523\n",
            "Epoch: 77 | Time: 0m 14s\n",
            "\tTrain Loss: 0.617 | Train PPL:   1.853\n",
            "\t Val. Loss: 1.255 |  Val. PPL:   3.508\n",
            "Epoch: 78 | Time: 0m 14s\n",
            "\tTrain Loss: 0.607 | Train PPL:   1.834\n",
            "\t Val. Loss: 1.260 |  Val. PPL:   3.525\n",
            "Epoch: 79 | Time: 0m 14s\n",
            "\tTrain Loss: 0.603 | Train PPL:   1.827\n",
            "\t Val. Loss: 1.257 |  Val. PPL:   3.515\n",
            "Epoch: 80 | Time: 0m 14s\n",
            "\tTrain Loss: 0.597 | Train PPL:   1.817\n",
            "\t Val. Loss: 1.258 |  Val. PPL:   3.519\n",
            "Epoch: 81 | Time: 0m 14s\n",
            "\tTrain Loss: 0.589 | Train PPL:   1.801\n",
            "\t Val. Loss: 1.260 |  Val. PPL:   3.527\n",
            "Epoch: 82 | Time: 0m 14s\n",
            "\tTrain Loss: 0.585 | Train PPL:   1.794\n",
            "\t Val. Loss: 1.256 |  Val. PPL:   3.511\n",
            "Epoch: 83 | Time: 0m 14s\n",
            "\tTrain Loss: 0.576 | Train PPL:   1.779\n",
            "\t Val. Loss: 1.257 |  Val. PPL:   3.514\n",
            "Epoch: 84 | Time: 0m 14s\n",
            "\tTrain Loss: 0.570 | Train PPL:   1.768\n",
            "\t Val. Loss: 1.256 |  Val. PPL:   3.512\n",
            "Epoch: 85 | Time: 0m 14s\n",
            "\tTrain Loss: 0.566 | Train PPL:   1.762\n",
            "\t Val. Loss: 1.256 |  Val. PPL:   3.510\n",
            "Epoch: 86 | Time: 0m 14s\n",
            "\tTrain Loss: 0.560 | Train PPL:   1.750\n",
            "\t Val. Loss: 1.260 |  Val. PPL:   3.525\n",
            "Epoch: 87 | Time: 0m 14s\n",
            "\tTrain Loss: 0.555 | Train PPL:   1.743\n",
            "\t Val. Loss: 1.251 |  Val. PPL:   3.492\n",
            "Epoch: 88 | Time: 0m 14s\n",
            "\tTrain Loss: 0.551 | Train PPL:   1.736\n",
            "\t Val. Loss: 1.258 |  Val. PPL:   3.519\n",
            "Epoch: 89 | Time: 0m 14s\n",
            "\tTrain Loss: 0.548 | Train PPL:   1.729\n",
            "\t Val. Loss: 1.253 |  Val. PPL:   3.502\n",
            "Epoch: 90 | Time: 0m 14s\n",
            "\tTrain Loss: 0.542 | Train PPL:   1.720\n",
            "\t Val. Loss: 1.248 |  Val. PPL:   3.483\n",
            "Epoch: 91 | Time: 0m 14s\n",
            "\tTrain Loss: 0.539 | Train PPL:   1.714\n",
            "\t Val. Loss: 1.246 |  Val. PPL:   3.478\n",
            "Epoch: 92 | Time: 0m 14s\n",
            "\tTrain Loss: 0.534 | Train PPL:   1.706\n",
            "\t Val. Loss: 1.249 |  Val. PPL:   3.488\n",
            "Epoch: 93 | Time: 0m 14s\n",
            "\tTrain Loss: 0.533 | Train PPL:   1.703\n",
            "\t Val. Loss: 1.254 |  Val. PPL:   3.506\n",
            "Epoch: 94 | Time: 0m 14s\n",
            "\tTrain Loss: 0.529 | Train PPL:   1.697\n",
            "\t Val. Loss: 1.249 |  Val. PPL:   3.488\n",
            "Epoch: 95 | Time: 0m 14s\n",
            "\tTrain Loss: 0.526 | Train PPL:   1.692\n",
            "\t Val. Loss: 1.249 |  Val. PPL:   3.488\n",
            "Epoch: 96 | Time: 0m 14s\n",
            "\tTrain Loss: 0.523 | Train PPL:   1.687\n",
            "\t Val. Loss: 1.248 |  Val. PPL:   3.483\n",
            "Epoch: 97 | Time: 0m 14s\n",
            "\tTrain Loss: 0.518 | Train PPL:   1.678\n",
            "\t Val. Loss: 1.254 |  Val. PPL:   3.506\n",
            "Epoch: 98 | Time: 0m 14s\n",
            "\tTrain Loss: 0.518 | Train PPL:   1.679\n",
            "\t Val. Loss: 1.248 |  Val. PPL:   3.482\n",
            "Epoch: 99 | Time: 0m 14s\n",
            "\tTrain Loss: 0.515 | Train PPL:   1.674\n",
            "\t Val. Loss: 1.248 |  Val. PPL:   3.484\n",
            "Epoch: 100 | Time: 0m 14s\n",
            "\tTrain Loss: 0.512 | Train PPL:   1.669\n",
            "\t Val. Loss: 1.249 |  Val. PPL:   3.486\n"
          ],
          "name": "stdout"
        }
      ]
    },
    {
      "cell_type": "code",
      "metadata": {
        "colab": {
          "base_uri": "https://localhost:8080/"
        },
        "id": "x7Dty35Sf9bL",
        "outputId": "d2d5b32f-c5a4-413a-fda7-a88945962147"
      },
      "source": [
        "model.load_state_dict(torch.load('Experiment_2.pt'))\n",
        "\n",
        "test_loss = evaluate(model, test_iterator, criterion)\n",
        "\n",
        "print(f'| Test Loss: {test_loss:.3f} | Test PPL: {math.exp(test_loss):7.3f} |')"
      ],
      "execution_count": 43,
      "outputs": [
        {
          "output_type": "stream",
          "text": [
            "| Test Loss: 1.359 | Test PPL:   3.893 |\n"
          ],
          "name": "stdout"
        }
      ]
    },
    {
      "cell_type": "code",
      "metadata": {
        "colab": {
          "base_uri": "https://localhost:8080/",
          "height": 404
        },
        "id": "_pmW1KVL9fIA",
        "outputId": "ea2a4e38-f2e3-4f97-f8cb-b2d75114118c"
      },
      "source": [
        "def plot_losses(train_losses, valid_losses):\n",
        "  fig, ax = plt.subplots(figsize = (12, 6))\n",
        "  epochs = list(range(len(train_losses)))\n",
        "  ax.plot(epochs, train_losses, label = 'train_loss', color = 'green')\n",
        "  ax.plot(epochs, valid_losses, label = 'valid_loss', color = 'red')\n",
        "  ax.legend()\n",
        "  ax.set(xlabel = 'Epochs', ylabel = 'Cross_Entropy_Loss', title = 'Variation of loss with epochs')\n",
        "\n",
        "plot_losses(train_losses, valid_losses)"
      ],
      "execution_count": 44,
      "outputs": [
        {
          "output_type": "display_data",
          "data": {
            "image/png": "[encoded data removed]",
            "text/plain": [
              "<Figure size 864x432 with 1 Axes>"
            ]
          },
          "metadata": {
            "tags": [],
            "needs_background": "light"
          }
        }
      ]
    },
    {
      "cell_type": "code",
      "metadata": {
        "id": "I_WBWxvDzPoB"
      },
      "source": [
        "def translate_sentence(sentence, src_field, trg_field, model, device, max_len = 50):\n",
        "    \n",
        "    model.eval()\n",
        "        \n",
        "    if isinstance(sentence, str):\n",
        "        nlp = spacy.load('en')\n",
        "        tokens = [token.text.lower() for token in nlp(sentence)]\n",
        "    else:\n",
        "        tokens = [token.lower() for token in sentence]\n",
        "\n",
        "    tokens = [src_field.init_token] + tokens + [src_field.eos_token]\n",
        "        \n",
        "    src_indexes = [src_field.vocab.stoi[token] for token in tokens]\n",
        "\n",
        "    src_tensor = torch.LongTensor(src_indexes).unsqueeze(0).to(device)\n",
        "    \n",
        "    src_mask = model.make_src_mask(src_tensor)\n",
        "    \n",
        "    with torch.no_grad():\n",
        "        enc_src = model.encoder(src_tensor, src_mask)\n",
        "\n",
        "    trg_indexes = [trg_field.vocab.stoi[trg_field.init_token]]\n",
        "\n",
        "    for i in range(max_len):\n",
        "\n",
        "        trg_tensor = torch.LongTensor(trg_indexes).unsqueeze(0).to(device)\n",
        "\n",
        "        trg_mask = model.make_trg_mask(trg_tensor)\n",
        "        \n",
        "        with torch.no_grad():\n",
        "            output, attention = model.decoder(trg_tensor, enc_src, trg_mask, src_mask)\n",
        "        \n",
        "        pred_token = output.argmax(2)[:,-1].item()\n",
        "        \n",
        "        trg_indexes.append(pred_token)\n",
        "\n",
        "        if pred_token == trg_field.vocab.stoi[trg_field.eos_token]:\n",
        "            break\n",
        "    \n",
        "    trg_tokens = [trg_field.vocab.itos[i] for i in trg_indexes]\n",
        "    \n",
        "    return trg_tokens[1:], attention"
      ],
      "execution_count": 45,
      "outputs": []
    },
    {
      "cell_type": "code",
      "metadata": {
        "id": "O7e5Ny4dzToy"
      },
      "source": [
        "def display_attention(sentence, translation, attention, n_heads = 8, n_rows = 8, n_cols = 1):\n",
        "    \n",
        "    assert n_rows * n_cols == n_heads\n",
        "    \n",
        "    fig = plt.figure(figsize=(200,100))\n",
        "    \n",
        "    for i in range(n_heads):\n",
        "        \n",
        "        ax = fig.add_subplot(n_rows, n_cols, i+1)\n",
        "        \n",
        "        _attention = attention.squeeze(0)[i].cpu().detach().numpy()\n",
        "\n",
        "        cax = ax.matshow(_attention, cmap='bone')\n",
        "\n",
        "        ax.tick_params(labelsize=12)\n",
        "        ax.set_xticklabels(['']+['<sos>']+[t.lower() for t in sentence]+['<eos>'], \n",
        "                           rotation=45)\n",
        "        ax.set_yticklabels(['']+translation)\n",
        "\n",
        "        ax.xaxis.set_major_locator(ticker.MultipleLocator(1))\n",
        "        ax.yaxis.set_major_locator(ticker.MultipleLocator(1))\n",
        "\n",
        "    plt.show()"
      ],
      "execution_count": 46,
      "outputs": []
    },
    {
      "cell_type": "code",
      "metadata": {
        "id": "hN50LEW3zX3F"
      },
      "source": [
        "def show_results(infer_data, example_idx):\n",
        "  src = vars(infer_data.examples[example_idx])['src']\n",
        "  trg = vars(infer_data.examples[example_idx])['trg']\n",
        "  # print(f'src = {\" \".join(src)}')\n",
        "  # print(f'trg :\\n {\" \".join(trg)}')\n",
        "\n",
        "  translation, attention = translate_sentence(src, SRC, TRG, model, device)\n",
        "\n",
        "  # print(f'predicted trg :\\n {\" \".join(translation)}')\n",
        "\n",
        "  # display_attention(src, translation, attention)\n",
        "  return \" \".join(src), \"\".join(trg), \"\".join(translation)"
      ],
      "execution_count": 47,
      "outputs": []
    },
    {
      "cell_type": "code",
      "metadata": {
        "id": "OPjskSMHzaHo"
      },
      "source": [
        "from tqdm.notebook import tqdm"
      ],
      "execution_count": 48,
      "outputs": []
    },
    {
      "cell_type": "code",
      "metadata": {
        "colab": {
          "base_uri": "https://localhost:8080/",
          "height": 67,
          "referenced_widgets": [
            "bdc93cf837144928a3009655639e34d2",
            "96498cf317654005b5aebd34ef3e7305",
            "4d8f8134d01b47fcac5321f28bf29daf",
            "3aac2d978a004f8f9cc11ecea52b51bb",
            "69300322050f4a4bab300069b7a4e06b",
            "2d456c50b8834d89bcff02ba59f9952e",
            "4c573b7c31104d9fb6e7f4d3a801bdc5",
            "197d5d6b7c5546cd95d289b9feb5e295"
          ]
        },
        "id": "SUib4Wduz8WM",
        "outputId": "4eb2144c-303d-43d5-f2b1-569965ef13f2"
      },
      "source": [
        "results_df = pd.DataFrame()\n",
        "for i in tqdm(range(len(test_data)), total = len(test_data)):\n",
        "  # print(i)\n",
        "  src, target, translation = show_results(test_data, i)\n",
        "  row_df = pd.DataFrame({'src': src, 'target': target, 'translation': translation}, index = [0])\n",
        "  results_df = pd.concat([results_df, row_df])"
      ],
      "execution_count": 49,
      "outputs": [
        {
          "output_type": "display_data",
          "data": {
            "application/vnd.jupyter.widget-view+json": {
              "model_id": "bdc93cf837144928a3009655639e34d2",
              "version_minor": 0,
              "version_major": 2
            },
            "text/plain": [
              "HBox(children=(FloatProgress(value=0.0, max=177.0), HTML(value='')))"
            ]
          },
          "metadata": {
            "tags": []
          }
        },
        {
          "output_type": "stream",
          "text": [
            "\n"
          ],
          "name": "stdout"
        }
      ]
    },
    {
      "cell_type": "code",
      "metadata": {
        "id": "acikDf8BzPsP"
      },
      "source": [
        "results_df.reset_index(drop = True, inplace = True)"
      ],
      "execution_count": 50,
      "outputs": []
    },
    {
      "cell_type": "code",
      "metadata": {
        "colab": {
          "base_uri": "https://localhost:8080/",
          "height": 399
        },
        "id": "P5asPFPB0maj",
        "outputId": "e230eac7-1489-4a87-afbf-404e03ad6a1d"
      },
      "source": [
        "results_df"
      ],
      "execution_count": 51,
      "outputs": [
        {
          "output_type": "execute_result",
          "data": {
            "text/html": [
              "<div>\n",
              "<style scoped>\n",
              "    .dataframe tbody tr th:only-of-type {\n",
              "        vertical-align: middle;\n",
              "    }\n",
              "\n",
              "    .dataframe tbody tr th {\n",
              "        vertical-align: top;\n",
              "    }\n",
              "\n",
              "    .dataframe thead th {\n",
              "        text-align: right;\n",
              "    }\n",
              "</style>\n",
              "<table border=\"1\" class=\"dataframe\">\n",
              "  <thead>\n",
              "    <tr style=\"text-align: right;\">\n",
              "      <th></th>\n",
              "      <th>src</th>\n",
              "      <th>target</th>\n",
              "      <th>translation</th>\n",
              "    </tr>\n",
              "  </thead>\n",
              "  <tbody>\n",
              "    <tr>\n",
              "      <th>0</th>\n",
              "      <td>write a python function to get the surface_are...</td>\n",
              "      <td>def rec_prism_surface_area(length, width, heig...</td>\n",
              "      <td>def cal_area_rect(length, height):\\n    return...</td>\n",
              "    </tr>\n",
              "    <tr>\n",
              "      <th>1</th>\n",
              "      <td>write a python function to add elements of two...</td>\n",
              "      <td>def add_two_lists(list1, list2):\\n   list1 = [...</td>\n",
              "      <td>def add_two_lists(list1, list2):\\n   list2 = [...</td>\n",
              "    </tr>\n",
              "    <tr>\n",
              "      <th>2</th>\n",
              "      <td>write a lambda function to multiply two numbers</td>\n",
              "      <td>multiply = lambda a, b: a*b\\n</td>\n",
              "      <td>a = {1, 2, 4, 6, 7}\\nresult = lambda a: a + b,...</td>\n",
              "    </tr>\n",
              "    <tr>\n",
              "      <th>3</th>\n",
              "      <td>write a python function to generate cube numbe...</td>\n",
              "      <td>def cube_numbers(n):\\n    for i in range(n):\\n...</td>\n",
              "      <td>def square_numbers(n):\\n    for i in range(1, ...</td>\n",
              "    </tr>\n",
              "    <tr>\n",
              "      <th>4</th>\n",
              "      <td>define a custom exception class which takes a ...</td>\n",
              "      <td>class MyError(Exception):\\n    def __init__(se...</td>\n",
              "      <td>class Person:\\n    def __init__(self, msg):\\n ...</td>\n",
              "    </tr>\n",
              "    <tr>\n",
              "      <th>...</th>\n",
              "      <td>...</td>\n",
              "      <td>...</td>\n",
              "      <td>...</td>\n",
              "    </tr>\n",
              "    <tr>\n",
              "      <th>172</th>\n",
              "      <td>write a   python function that returns the h...</td>\n",
              "      <td>def calculate_hcf(x1, x2):\\n    if x1 == 0:\\n ...</td>\n",
              "      <td>def hcf(num1, num2):\\n    if num1 &gt;= num2:\\n  ...</td>\n",
              "    </tr>\n",
              "    <tr>\n",
              "      <th>173</th>\n",
              "      <td>write a program to compute /+/+/+ ... +n / n+ ...</td>\n",
              "      <td>n=int(raw_input())\\nsum=0.0\\nfor i in range(1,...</td>\n",
              "      <td>num = int(input(\"Enter a number: \"))\\nsum = 0\\...</td>\n",
              "    </tr>\n",
              "    <tr>\n",
              "      <th>174</th>\n",
              "      <td>write a python program which takes input a num...</td>\n",
              "      <td>N = int(input(\"Please enter a number \"))\\nfirs...</td>\n",
              "      <td>n = int(input(\"Enter Number: \"))\\nn = 0\\nwhile...</td>\n",
              "    </tr>\n",
              "    <tr>\n",
              "      <th>175</th>\n",
              "      <td>write a python class that will initiate a numb...</td>\n",
              "      <td>class Number:\\n\\tdef __init__(self, num):\\n\\t\\...</td>\n",
              "      <td>class __init__(self, self):\\n    def __init__(...</td>\n",
              "    </tr>\n",
              "    <tr>\n",
              "      <th>176</th>\n",
              "      <td>write s python program to print the difference...</td>\n",
              "      <td>A = {1, 2, 3, 4, 5}\\n B = {4, 5, 6, 7, 8}\\n pr...</td>\n",
              "      <td>A = {1, 2, 3, 4, 5}\\n B = {4, 5, 6, 7, 8}\\n pr...</td>\n",
              "    </tr>\n",
              "  </tbody>\n",
              "</table>\n",
              "<p>177 rows × 3 columns</p>\n",
              "</div>"
            ],
            "text/plain": [
              "                                                   src  ...                                        translation\n",
              "0    write a python function to get the surface_are...  ...  def cal_area_rect(length, height):\\n    return...\n",
              "1    write a python function to add elements of two...  ...  def add_two_lists(list1, list2):\\n   list2 = [...\n",
              "2      write a lambda function to multiply two numbers  ...  a = {1, 2, 4, 6, 7}\\nresult = lambda a: a + b,...\n",
              "3    write a python function to generate cube numbe...  ...  def square_numbers(n):\\n    for i in range(1, ...\n",
              "4    define a custom exception class which takes a ...  ...  class Person:\\n    def __init__(self, msg):\\n ...\n",
              "..                                                 ...  ...                                                ...\n",
              "172    write a   python function that returns the h...  ...  def hcf(num1, num2):\\n    if num1 >= num2:\\n  ...\n",
              "173  write a program to compute /+/+/+ ... +n / n+ ...  ...  num = int(input(\"Enter a number: \"))\\nsum = 0\\...\n",
              "174  write a python program which takes input a num...  ...  n = int(input(\"Enter Number: \"))\\nn = 0\\nwhile...\n",
              "175  write a python class that will initiate a numb...  ...  class __init__(self, self):\\n    def __init__(...\n",
              "176  write s python program to print the difference...  ...  A = {1, 2, 3, 4, 5}\\n B = {4, 5, 6, 7, 8}\\n pr...\n",
              "\n",
              "[177 rows x 3 columns]"
            ]
          },
          "metadata": {
            "tags": []
          },
          "execution_count": 51
        }
      ]
    },
    {
      "cell_type": "code",
      "metadata": {
        "colab": {
          "base_uri": "https://localhost:8080/"
        },
        "id": "FFnYxCTe09rr",
        "outputId": "69b89b85-907e-4cc1-ff5e-930fafe058c8"
      },
      "source": [
        "idx = 34\n",
        "print(results_df.iloc[idx]['src'])\n",
        "print(\"\\n\")\n",
        "print(\"Target:\")\n",
        "print(results_df.iloc[idx]['target'])\n",
        "print(\"\\n\")\n",
        "print(\"Predictions:\")\n",
        "print(results_df.iloc[idx]['translation'])"
      ],
      "execution_count": 52,
      "outputs": [
        {
          "output_type": "stream",
          "text": [
            "create and print a dictionary\n",
            "\n",
            "\n",
            "Target:\n",
            "thisdict = {\n",
            "  \"brand\": \"Ford\",\n",
            "  \"model\": \"Mustang\",\n",
            "  \"year\": 1964\n",
            "}\n",
            "print(f\"Sample Dictionary:{thisdict}\")\n",
            "\n",
            "\n",
            "\n",
            "Predictions:\n",
            "thisdict = {\n",
            "  \"brand\": \"Ford\",\n",
            "  \"model\": \"Mustang\",\n",
            "  \"year\": 1964\n",
            "}\n",
            "print(f\"Sample Dictionary:{thisdict}\")\n",
            "<eos>\n"
          ],
          "name": "stdout"
        }
      ]
    },
    {
      "cell_type": "code",
      "metadata": {
        "id": "rBJsdf1Ra4lX"
      },
      "source": [
        ""
      ],
      "execution_count": null,
      "outputs": []
    }
  ]
}