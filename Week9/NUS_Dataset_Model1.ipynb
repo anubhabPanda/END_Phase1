{
  "nbformat": 4,
  "nbformat_minor": 0,
  "metadata": {
    "colab": {
      "name": "NUS_Dataset_Model1.ipynb",
      "provenance": [],
      "collapsed_sections": []
    },
    "kernelspec": {
      "name": "python3",
      "display_name": "Python 3"
    },
    "accelerator": "GPU"
  },
  "cells": [
    {
      "cell_type": "code",
      "metadata": {
        "colab": {
          "base_uri": "https://localhost:8080/"
        },
        "id": "nN5WEO2fIlXa",
        "outputId": "1e282396-d611-402f-b17b-63a55589c131"
      },
      "source": [
        "from google.colab import drive\r\n",
        "drive.mount('/content/drive')"
      ],
      "execution_count": null,
      "outputs": [
        {
          "output_type": "stream",
          "text": [
            "Mounted at /content/drive\n"
          ],
          "name": "stdout"
        }
      ]
    },
    {
      "cell_type": "code",
      "metadata": {
        "colab": {
          "base_uri": "https://localhost:8080/"
        },
        "id": "PVbw4ZVoIxiW",
        "outputId": "5af19b74-14cf-4b32-bc0a-75b764040e08"
      },
      "source": [
        "%cd /content/drive/MyDrive/END"
      ],
      "execution_count": null,
      "outputs": [
        {
          "output_type": "stream",
          "text": [
            "/content/drive/MyDrive/END\n"
          ],
          "name": "stdout"
        }
      ]
    },
    {
      "cell_type": "code",
      "metadata": {
        "colab": {
          "base_uri": "https://localhost:8080/"
        },
        "id": "93_UUguSI8HV",
        "outputId": "5f4dca21-3ea0-42c3-f7b5-2f69a2e2b80f"
      },
      "source": [
        "# !wget http://www.comp.nus.edu.sg/~nlp/sw/sm_norm_mt.tar.gz"
      ],
      "execution_count": null,
      "outputs": [
        {
          "output_type": "stream",
          "text": [
            "--2021-01-06 21:30:27--  http://www.comp.nus.edu.sg/~nlp/sw/sm_norm_mt.tar.gz\n",
            "Resolving www.comp.nus.edu.sg (www.comp.nus.edu.sg)... 45.60.35.225\n",
            "Connecting to www.comp.nus.edu.sg (www.comp.nus.edu.sg)|45.60.35.225|:80... connected.\n",
            "HTTP request sent, awaiting response... 301 Moved Permanently\n",
            "Location: https://www.comp.nus.edu.sg/~nlp/sw/sm_norm_mt.tar.gz [following]\n",
            "--2021-01-06 21:30:27--  https://www.comp.nus.edu.sg/~nlp/sw/sm_norm_mt.tar.gz\n",
            "Connecting to www.comp.nus.edu.sg (www.comp.nus.edu.sg)|45.60.35.225|:443... connected.\n",
            "HTTP request sent, awaiting response... 200 OK\n",
            "Length: 180034 (176K) [application/x-gzip]\n",
            "Saving to: ‘sm_norm_mt.tar.gz’\n",
            "\n",
            "sm_norm_mt.tar.gz   100%[===================>] 175.81K  1.03MB/s    in 0.2s    \n",
            "\n",
            "2021-01-06 21:30:27 (1.03 MB/s) - ‘sm_norm_mt.tar.gz’ saved [180034/180034]\n",
            "\n"
          ],
          "name": "stdout"
        }
      ]
    },
    {
      "cell_type": "code",
      "metadata": {
        "id": "y08GEy2PJEVn"
      },
      "source": [
        "# !tar -xf /content/drive/MyDrive/END/sm_norm_mt.tar.gz"
      ],
      "execution_count": null,
      "outputs": []
    },
    {
      "cell_type": "code",
      "metadata": {
        "id": "R73NCjBlKKqc"
      },
      "source": [
        "# !rm -r /content/drive/MyDrive/END/sm_norm_mt.tar.gz"
      ],
      "execution_count": null,
      "outputs": []
    },
    {
      "cell_type": "code",
      "metadata": {
        "colab": {
          "base_uri": "https://localhost:8080/"
        },
        "id": "Je-OaKnJqBnk",
        "outputId": "c44f7662-ac22-46b6-9692-620a7399899b"
      },
      "source": [
        "%%bash\r\n",
        "python -m spacy download en"
      ],
      "execution_count": null,
      "outputs": [
        {
          "output_type": "stream",
          "text": [
            "Requirement already satisfied: en_core_web_sm==2.2.5 from https://github.com/explosion/spacy-models/releases/download/en_core_web_sm-2.2.5/en_core_web_sm-2.2.5.tar.gz#egg=en_core_web_sm==2.2.5 in /usr/local/lib/python3.6/dist-packages (2.2.5)\n",
            "Requirement already satisfied: spacy>=2.2.2 in /usr/local/lib/python3.6/dist-packages (from en_core_web_sm==2.2.5) (2.2.4)\n",
            "Requirement already satisfied: preshed<3.1.0,>=3.0.2 in /usr/local/lib/python3.6/dist-packages (from spacy>=2.2.2->en_core_web_sm==2.2.5) (3.0.5)\n",
            "Requirement already satisfied: tqdm<5.0.0,>=4.38.0 in /usr/local/lib/python3.6/dist-packages (from spacy>=2.2.2->en_core_web_sm==2.2.5) (4.41.1)\n",
            "Requirement already satisfied: catalogue<1.1.0,>=0.0.7 in /usr/local/lib/python3.6/dist-packages (from spacy>=2.2.2->en_core_web_sm==2.2.5) (1.0.0)\n",
            "Requirement already satisfied: wasabi<1.1.0,>=0.4.0 in /usr/local/lib/python3.6/dist-packages (from spacy>=2.2.2->en_core_web_sm==2.2.5) (0.8.0)\n",
            "Requirement already satisfied: numpy>=1.15.0 in /usr/local/lib/python3.6/dist-packages (from spacy>=2.2.2->en_core_web_sm==2.2.5) (1.19.4)\n",
            "Requirement already satisfied: requests<3.0.0,>=2.13.0 in /usr/local/lib/python3.6/dist-packages (from spacy>=2.2.2->en_core_web_sm==2.2.5) (2.23.0)\n",
            "Requirement already satisfied: blis<0.5.0,>=0.4.0 in /usr/local/lib/python3.6/dist-packages (from spacy>=2.2.2->en_core_web_sm==2.2.5) (0.4.1)\n",
            "Requirement already satisfied: srsly<1.1.0,>=1.0.2 in /usr/local/lib/python3.6/dist-packages (from spacy>=2.2.2->en_core_web_sm==2.2.5) (1.0.5)\n",
            "Requirement already satisfied: cymem<2.1.0,>=2.0.2 in /usr/local/lib/python3.6/dist-packages (from spacy>=2.2.2->en_core_web_sm==2.2.5) (2.0.5)\n",
            "Requirement already satisfied: thinc==7.4.0 in /usr/local/lib/python3.6/dist-packages (from spacy>=2.2.2->en_core_web_sm==2.2.5) (7.4.0)\n",
            "Requirement already satisfied: plac<1.2.0,>=0.9.6 in /usr/local/lib/python3.6/dist-packages (from spacy>=2.2.2->en_core_web_sm==2.2.5) (1.1.3)\n",
            "Requirement already satisfied: setuptools in /usr/local/lib/python3.6/dist-packages (from spacy>=2.2.2->en_core_web_sm==2.2.5) (51.0.0)\n",
            "Requirement already satisfied: murmurhash<1.1.0,>=0.28.0 in /usr/local/lib/python3.6/dist-packages (from spacy>=2.2.2->en_core_web_sm==2.2.5) (1.0.5)\n",
            "Requirement already satisfied: importlib-metadata>=0.20; python_version < \"3.8\" in /usr/local/lib/python3.6/dist-packages (from catalogue<1.1.0,>=0.0.7->spacy>=2.2.2->en_core_web_sm==2.2.5) (3.3.0)\n",
            "Requirement already satisfied: chardet<4,>=3.0.2 in /usr/local/lib/python3.6/dist-packages (from requests<3.0.0,>=2.13.0->spacy>=2.2.2->en_core_web_sm==2.2.5) (3.0.4)\n",
            "Requirement already satisfied: certifi>=2017.4.17 in /usr/local/lib/python3.6/dist-packages (from requests<3.0.0,>=2.13.0->spacy>=2.2.2->en_core_web_sm==2.2.5) (2020.12.5)\n",
            "Requirement already satisfied: idna<3,>=2.5 in /usr/local/lib/python3.6/dist-packages (from requests<3.0.0,>=2.13.0->spacy>=2.2.2->en_core_web_sm==2.2.5) (2.10)\n",
            "Requirement already satisfied: urllib3!=1.25.0,!=1.25.1,<1.26,>=1.21.1 in /usr/local/lib/python3.6/dist-packages (from requests<3.0.0,>=2.13.0->spacy>=2.2.2->en_core_web_sm==2.2.5) (1.24.3)\n",
            "Requirement already satisfied: typing-extensions>=3.6.4; python_version < \"3.8\" in /usr/local/lib/python3.6/dist-packages (from importlib-metadata>=0.20; python_version < \"3.8\"->catalogue<1.1.0,>=0.0.7->spacy>=2.2.2->en_core_web_sm==2.2.5) (3.7.4.3)\n",
            "Requirement already satisfied: zipp>=0.5 in /usr/local/lib/python3.6/dist-packages (from importlib-metadata>=0.20; python_version < \"3.8\"->catalogue<1.1.0,>=0.0.7->spacy>=2.2.2->en_core_web_sm==2.2.5) (3.4.0)\n",
            "\u001b[38;5;2m✔ Download and installation successful\u001b[0m\n",
            "You can now load the model via spacy.load('en_core_web_sm')\n",
            "\u001b[38;5;2m✔ Linking successful\u001b[0m\n",
            "/usr/local/lib/python3.6/dist-packages/en_core_web_sm -->\n",
            "/usr/local/lib/python3.6/dist-packages/spacy/data/en\n",
            "You can now load the model via spacy.load('en')\n"
          ],
          "name": "stdout"
        }
      ]
    },
    {
      "cell_type": "code",
      "metadata": {
        "colab": {
          "base_uri": "https://localhost:8080/"
        },
        "id": "By9rGSM7rcxB",
        "outputId": "082c09d7-c258-45ed-835f-64bc5730fcd4"
      },
      "source": [
        "!pip install google-trans-new"
      ],
      "execution_count": null,
      "outputs": [
        {
          "output_type": "stream",
          "text": [
            "Collecting google-trans-new\n",
            "  Downloading https://files.pythonhosted.org/packages/f9/7b/9f136106dc5824dc98185c97991d3cd9b53e70a197154dd49f7b899128f6/google_trans_new-1.1.9-py3-none-any.whl\n",
            "Installing collected packages: google-trans-new\n",
            "Successfully installed google-trans-new-1.1.9\n"
          ],
          "name": "stdout"
        }
      ]
    },
    {
      "cell_type": "code",
      "metadata": {
        "id": "z7xn7RYlPie5"
      },
      "source": [
        "import pandas as pd\r\n",
        "import numpy as np\r\n",
        "from pandas import Series, DataFrame\r\n",
        "from tqdm.notebook import tqdm\r\n",
        "import torchtext\r\n",
        "import spacy\r\n",
        "from spacy.lang.zh import Chinese\r\n",
        "from torchtext.data import Field\r\n",
        "import torch\r\n",
        "import torch.nn as nn\r\n",
        "from torchtext.data import BucketIterator\r\n",
        "import torch.optim as optim\r\n",
        "import time\r\n",
        "import random\r\n",
        "import math\r\n",
        "from torchtext import data as data\r\n",
        "from google_trans_new import google_translator"
      ],
      "execution_count": null,
      "outputs": []
    },
    {
      "cell_type": "code",
      "metadata": {
        "id": "iPYfNrqzt96U"
      },
      "source": [
        "SEED = 1234\r\n",
        "random.seed(SEED)\r\n",
        "np.random.seed(SEED)\r\n",
        "torch.manual_seed(SEED)\r\n",
        "torch.cuda.manual_seed(SEED)\r\n",
        "torch.backends.cudnn.deterministic = True"
      ],
      "execution_count": null,
      "outputs": []
    },
    {
      "cell_type": "code",
      "metadata": {
        "id": "q5H1x6WFo1vR"
      },
      "source": [
        "text_data = pd.DataFrame(columns=['en', 'ch'])\r\n",
        "with open('release/en2cn-2k.en2nen2cn') as file:\r\n",
        "  while True:\r\n",
        "      temp = file.readline()\r\n",
        "      if len(temp) == 0:\r\n",
        "          break\r\n",
        "      \r\n",
        "      en_text = file.readline().rstrip()\r\n",
        "      ch_text = file.readline().rstrip()\r\n",
        "      text_data = text_data.append({'en': en_text, 'ch': ch_text}, ignore_index=True)"
      ],
      "execution_count": null,
      "outputs": []
    },
    {
      "cell_type": "code",
      "metadata": {
        "colab": {
          "base_uri": "https://localhost:8080/",
          "height": 399
        },
        "id": "PqM5Nw_ao8Jg",
        "outputId": "4f0abe3b-9451-4a84-a4cb-a9ddaa1f1af7"
      },
      "source": [
        "text_data"
      ],
      "execution_count": null,
      "outputs": [
        {
          "output_type": "execute_result",
          "data": {
            "text/html": [
              "<div>\n",
              "<style scoped>\n",
              "    .dataframe tbody tr th:only-of-type {\n",
              "        vertical-align: middle;\n",
              "    }\n",
              "\n",
              "    .dataframe tbody tr th {\n",
              "        vertical-align: top;\n",
              "    }\n",
              "\n",
              "    .dataframe thead th {\n",
              "        text-align: right;\n",
              "    }\n",
              "</style>\n",
              "<table border=\"1\" class=\"dataframe\">\n",
              "  <thead>\n",
              "    <tr style=\"text-align: right;\">\n",
              "      <th></th>\n",
              "      <th>en</th>\n",
              "      <th>ch</th>\n",
              "    </tr>\n",
              "  </thead>\n",
              "  <tbody>\n",
              "    <tr>\n",
              "      <th>0</th>\n",
              "      <td>Do you want me to reserve seat for you or not?</td>\n",
              "      <td>你要我帮你预留坐位吗？</td>\n",
              "    </tr>\n",
              "    <tr>\n",
              "      <th>1</th>\n",
              "      <td>Yeap. You reaching? We ordered some Durian pas...</td>\n",
              "      <td>对。你要到了吗？我们已经点了一些榴莲糕点。你快点来。</td>\n",
              "    </tr>\n",
              "    <tr>\n",
              "      <th>2</th>\n",
              "      <td>They become more expensive already. Mine is li...</td>\n",
              "      <td>他们变得更贵了。我的是大概25。这么坏然后他们还比我以前做得少。</td>\n",
              "    </tr>\n",
              "    <tr>\n",
              "      <th>3</th>\n",
              "      <td>I'm Thai. What do you do?</td>\n",
              "      <td>我是泰国人。你做什么？</td>\n",
              "    </tr>\n",
              "    <tr>\n",
              "      <th>4</th>\n",
              "      <td>Hi! How did your week go? Haven't heard from y...</td>\n",
              "      <td>嗨！你这周过的怎么样？好长时间没听到你的消息了。一切顺利吗？</td>\n",
              "    </tr>\n",
              "    <tr>\n",
              "      <th>...</th>\n",
              "      <td>...</td>\n",
              "      <td>...</td>\n",
              "    </tr>\n",
              "    <tr>\n",
              "      <th>1995</th>\n",
              "      <td>Hmm. I think I usually book on weekends. It de...</td>\n",
              "      <td>嗯。我想我通常在周末预订。也不一定了。</td>\n",
              "    </tr>\n",
              "    <tr>\n",
              "      <th>1996</th>\n",
              "      <td>Can you ask them whether they have for any sms...</td>\n",
              "      <td>可以问问他们有简讯可以给我吗？现在我只有比100多一点点，还不够。你们都在线上吗？当你们都休...</td>\n",
              "    </tr>\n",
              "    <tr>\n",
              "      <th>1997</th>\n",
              "      <td>We are near Coca already.</td>\n",
              "      <td>我们离Coca很近了。</td>\n",
              "    </tr>\n",
              "    <tr>\n",
              "      <th>1998</th>\n",
              "      <td>Hall eleven. Got lectures. And forget about co...</td>\n",
              "      <td>11号宿舍。有讲课了。还有忘了复数等。还有好像很多Wk-self的。</td>\n",
              "    </tr>\n",
              "    <tr>\n",
              "      <th>1999</th>\n",
              "      <td>I bring for you. I can not promise you 100% to...</td>\n",
              "      <td>我给你拿来。我不能承诺100%的赢。有时候我也输。</td>\n",
              "    </tr>\n",
              "  </tbody>\n",
              "</table>\n",
              "<p>2000 rows × 2 columns</p>\n",
              "</div>"
            ],
            "text/plain": [
              "                                                     en                                                 ch\n",
              "0        Do you want me to reserve seat for you or not?                                        你要我帮你预留坐位吗？\n",
              "1     Yeap. You reaching? We ordered some Durian pas...                         对。你要到了吗？我们已经点了一些榴莲糕点。你快点来。\n",
              "2     They become more expensive already. Mine is li...                   他们变得更贵了。我的是大概25。这么坏然后他们还比我以前做得少。\n",
              "3                             I'm Thai. What do you do?                                        我是泰国人。你做什么？\n",
              "4     Hi! How did your week go? Haven't heard from y...                     嗨！你这周过的怎么样？好长时间没听到你的消息了。一切顺利吗？\n",
              "...                                                 ...                                                ...\n",
              "1995  Hmm. I think I usually book on weekends. It de...                                嗯。我想我通常在周末预订。也不一定了。\n",
              "1996  Can you ask them whether they have for any sms...  可以问问他们有简讯可以给我吗？现在我只有比100多一点点，还不够。你们都在线上吗？当你们都休...\n",
              "1997                          We are near Coca already.                                        我们离Coca很近了。\n",
              "1998  Hall eleven. Got lectures. And forget about co...                 11号宿舍。有讲课了。还有忘了复数等。还有好像很多Wk-self的。\n",
              "1999  I bring for you. I can not promise you 100% to...                          我给你拿来。我不能承诺100%的赢。有时候我也输。\n",
              "\n",
              "[2000 rows x 2 columns]"
            ]
          },
          "metadata": {
            "tags": []
          },
          "execution_count": 8
        }
      ]
    },
    {
      "cell_type": "code",
      "metadata": {
        "id": "yj8ynuKzp3vS"
      },
      "source": [
        "spacy_en = spacy.load('en')\r\n",
        "spacy_zh = spacy.blank('zh')"
      ],
      "execution_count": null,
      "outputs": []
    },
    {
      "cell_type": "code",
      "metadata": {
        "id": "B8G_nMGaq7vQ"
      },
      "source": [
        "def tokenize_en(text):\r\n",
        "  return [token.text for token in spacy_en.tokenizer(text)]\r\n",
        "\r\n",
        "def tokenize_zh(text):\r\n",
        "  return [token.text for token in spacy_zh.tokenizer(text)]"
      ],
      "execution_count": null,
      "outputs": []
    },
    {
      "cell_type": "code",
      "metadata": {
        "id": "UCTDYGf3rXie"
      },
      "source": [
        "SRC = Field(tokenize=tokenize_en, init_token='<sos>', eos_token='<eos>', lower= True)\r\n",
        "TRG = Field(tokenize=tokenize_zh, init_token='<sos>', eos_token='<eos>', lower= True)"
      ],
      "execution_count": null,
      "outputs": []
    },
    {
      "cell_type": "code",
      "metadata": {
        "id": "IscwoTqZsI37"
      },
      "source": [
        "fields = [('src', SRC), ('trg', TRG)]"
      ],
      "execution_count": null,
      "outputs": []
    },
    {
      "cell_type": "code",
      "metadata": {
        "id": "iciSSzJdsdy2"
      },
      "source": [
        "examples = [data.Example.fromlist([text_data.en[i],text_data.ch[i]], fields) for i in range(text_data.shape[0])]"
      ],
      "execution_count": null,
      "outputs": []
    },
    {
      "cell_type": "code",
      "metadata": {
        "id": "itv1mt0SteFq"
      },
      "source": [
        "NUS_Dataset = data.Dataset(examples, fields)"
      ],
      "execution_count": null,
      "outputs": []
    },
    {
      "cell_type": "code",
      "metadata": {
        "id": "xn85nsjLtmSB"
      },
      "source": [
        "train, valid, test = NUS_Dataset.split(split_ratio=[0.7, 0.15, 0.15], random_state=random.seed(SEED))"
      ],
      "execution_count": null,
      "outputs": []
    },
    {
      "cell_type": "code",
      "metadata": {
        "colab": {
          "base_uri": "https://localhost:8080/"
        },
        "id": "PG6fgB1ot4Ju",
        "outputId": "97750f33-9f26-48f2-fa3d-1da9d9f4950d"
      },
      "source": [
        "len(train), len(valid), len(test)"
      ],
      "execution_count": null,
      "outputs": [
        {
          "output_type": "execute_result",
          "data": {
            "text/plain": [
              "(1400, 300, 300)"
            ]
          },
          "metadata": {
            "tags": []
          },
          "execution_count": 48
        }
      ]
    },
    {
      "cell_type": "code",
      "metadata": {
        "id": "tMxVASpruJgd"
      },
      "source": [
        "def get_example(data, example_number):\r\n",
        "    print(f\"English Sentence : \\n\\n{' '.join(data.examples[example_number].src)}\")\r\n",
        "    print(f\"\\nChinese Sentence : \\n\\n{' '.join(data.examples[example_number].trg)}\")"
      ],
      "execution_count": null,
      "outputs": []
    },
    {
      "cell_type": "code",
      "metadata": {
        "colab": {
          "base_uri": "https://localhost:8080/"
        },
        "id": "LuKhDTtOuZFh",
        "outputId": "065c1e61-688c-488c-f032-8d1c7cc1cf31"
      },
      "source": [
        "get_example(train, 0)"
      ],
      "execution_count": null,
      "outputs": [
        {
          "output_type": "stream",
          "text": [
            "English Sentence : \n",
            "\n",
            "why do n't you want to go ? tired ? or lazy ? i told you today is the last day to reply right ?   you still have n't made up your mind ?\n",
            "\n",
            "Chinese Sentence : \n",
            "\n",
            "为什么 你 不想 去 ？ 累 了 ？ 还是 太懒 了 ？ 我 通知 你 今天 是 答复 的 最后 一天 了 对 吗 ？ 你 还是 没有 下定决心 ？\n"
          ],
          "name": "stdout"
        }
      ]
    },
    {
      "cell_type": "code",
      "metadata": {
        "id": "ArmOjQIVub45"
      },
      "source": [
        "SRC.build_vocab(train, min_freq = 2)\r\n",
        "TRG.build_vocab(train, min_freq = 2)"
      ],
      "execution_count": null,
      "outputs": []
    },
    {
      "cell_type": "code",
      "metadata": {
        "id": "sefAlrD2umxO"
      },
      "source": [
        "device = torch.device('cuda' if torch.cuda.is_available else 'cpu')"
      ],
      "execution_count": null,
      "outputs": []
    },
    {
      "cell_type": "code",
      "metadata": {
        "id": "oCNvpytKuonM"
      },
      "source": [
        "BATCH_SIZE = 128\r\n",
        "\r\n",
        "train_iterator, valid_iterator, test_iterator = BucketIterator.splits(\r\n",
        "    (train, valid, test), \r\n",
        "    batch_size = BATCH_SIZE, sort = False,\r\n",
        "    device = device)"
      ],
      "execution_count": null,
      "outputs": []
    },
    {
      "cell_type": "code",
      "metadata": {
        "colab": {
          "base_uri": "https://localhost:8080/"
        },
        "id": "aPPtLkL6vJfi",
        "outputId": "7eb4a371-14e0-4789-b798-17941b2be520"
      },
      "source": [
        "len(SRC.vocab), len(TRG.vocab)"
      ],
      "execution_count": null,
      "outputs": [
        {
          "output_type": "execute_result",
          "data": {
            "text/plain": [
              "(1171, 1305)"
            ]
          },
          "metadata": {
            "tags": []
          },
          "execution_count": 56
        }
      ]
    },
    {
      "cell_type": "code",
      "metadata": {
        "id": "UCtJfDuJvNLF"
      },
      "source": [
        "class Encoder(nn.Module):\r\n",
        "    def __init__(self, input_dim, emb_dim, hid_dim, dropout):\r\n",
        "        super().__init__()\r\n",
        "\r\n",
        "        self.hid_dim = hid_dim\r\n",
        "        \r\n",
        "        self.embedding = nn.Embedding(input_dim, emb_dim) #no dropout as only one layer!\r\n",
        "        \r\n",
        "        self.rnn = nn.GRU(emb_dim, hid_dim)\r\n",
        "        \r\n",
        "        self.dropout = nn.Dropout(dropout)\r\n",
        "        \r\n",
        "    def forward(self, src):\r\n",
        "        \r\n",
        "        #src = [src len, batch size]\r\n",
        "        \r\n",
        "        embedded = self.dropout(self.embedding(src))\r\n",
        "        \r\n",
        "        #embedded = [src len, batch size, emb dim]\r\n",
        "        \r\n",
        "        outputs, hidden = self.rnn(embedded) #no cell state!\r\n",
        "        \r\n",
        "        #outputs = [src len, batch size, hid dim * n directions]\r\n",
        "        #hidden = [n layers * n directions, batch size, hid dim]\r\n",
        "        \r\n",
        "        #outputs are always from the top hidden layer\r\n",
        "        \r\n",
        "        return hidden"
      ],
      "execution_count": null,
      "outputs": []
    },
    {
      "cell_type": "code",
      "metadata": {
        "id": "c1FIWOwMvVfm"
      },
      "source": [
        "class Decoder(nn.Module):\r\n",
        "    def __init__(self, output_dim, emb_dim, hid_dim, dropout):\r\n",
        "        super().__init__()\r\n",
        "\r\n",
        "        self.hid_dim = hid_dim\r\n",
        "        self.output_dim = output_dim\r\n",
        "        \r\n",
        "        self.embedding = nn.Embedding(output_dim, emb_dim)\r\n",
        "        \r\n",
        "        self.rnn = nn.GRU(emb_dim + hid_dim, hid_dim)\r\n",
        "        \r\n",
        "        self.fc_out = nn.Linear(emb_dim + hid_dim * 2, output_dim)\r\n",
        "        \r\n",
        "        self.dropout = nn.Dropout(dropout)\r\n",
        "        \r\n",
        "    def forward(self, input, hidden, context):\r\n",
        "        \r\n",
        "        #input = [batch size]\r\n",
        "        #hidden = [n layers * n directions, batch size, hid dim]\r\n",
        "        #context = [n layers * n directions, batch size, hid dim]\r\n",
        "        \r\n",
        "        #n layers and n directions in the decoder will both always be 1, therefore:\r\n",
        "        #hidden = [1, batch size, hid dim]\r\n",
        "        #context = [1, batch size, hid dim]\r\n",
        "        \r\n",
        "        input = input.unsqueeze(0)\r\n",
        "        \r\n",
        "        #input = [1, batch size]\r\n",
        "        \r\n",
        "        embedded = self.dropout(self.embedding(input))\r\n",
        "        \r\n",
        "        #embedded = [1, batch size, emb dim]\r\n",
        "                \r\n",
        "        emb_con = torch.cat((embedded, context), dim = 2)\r\n",
        "            \r\n",
        "        #emb_con = [1, batch size, emb dim + hid dim]\r\n",
        "            \r\n",
        "        output, hidden = self.rnn(emb_con, hidden)\r\n",
        "        \r\n",
        "        #output = [seq len, batch size, hid dim * n directions]\r\n",
        "        #hidden = [n layers * n directions, batch size, hid dim]\r\n",
        "        \r\n",
        "        #seq len, n layers and n directions will always be 1 in the decoder, therefore:\r\n",
        "        #output = [1, batch size, hid dim]\r\n",
        "        #hidden = [1, batch size, hid dim]\r\n",
        "        \r\n",
        "        output = torch.cat((embedded.squeeze(0), hidden.squeeze(0), context.squeeze(0)), \r\n",
        "                           dim = 1)\r\n",
        "        \r\n",
        "        #output = [batch size, emb dim + hid dim * 2]\r\n",
        "        \r\n",
        "        prediction = self.fc_out(output)\r\n",
        "        \r\n",
        "        #prediction = [batch size, output dim]\r\n",
        "        \r\n",
        "        return prediction, hidden"
      ],
      "execution_count": null,
      "outputs": []
    },
    {
      "cell_type": "code",
      "metadata": {
        "id": "ruPmF6DOvadv"
      },
      "source": [
        "class Seq2Seq(nn.Module):\r\n",
        "    def __init__(self, encoder, decoder, device):\r\n",
        "        super().__init__()\r\n",
        "        \r\n",
        "        self.encoder = encoder\r\n",
        "        self.decoder = decoder\r\n",
        "        self.device = device\r\n",
        "        \r\n",
        "        assert encoder.hid_dim == decoder.hid_dim, \\\r\n",
        "            \"Hidden dimensions of encoder and decoder must be equal!\"\r\n",
        "        \r\n",
        "    def forward(self, src, trg, teacher_forcing_ratio = 0.5):\r\n",
        "        \r\n",
        "        #src = [src len, batch size]\r\n",
        "        #trg = [trg len, batch size]\r\n",
        "        #teacher_forcing_ratio is probability to use teacher forcing\r\n",
        "        #e.g. if teacher_forcing_ratio is 0.75 we use ground-truth inputs 75% of the time\r\n",
        "        \r\n",
        "        batch_size = trg.shape[1]\r\n",
        "        trg_len = trg.shape[0]\r\n",
        "        trg_vocab_size = self.decoder.output_dim\r\n",
        "        \r\n",
        "        #tensor to store decoder outputs\r\n",
        "        outputs = torch.zeros(trg_len, batch_size, trg_vocab_size).to(self.device)\r\n",
        "        \r\n",
        "        #last hidden state of the encoder is the context\r\n",
        "        context = self.encoder(src)\r\n",
        "        \r\n",
        "        #context also used as the initial hidden state of the decoder\r\n",
        "        hidden = context\r\n",
        "        \r\n",
        "        #first input to the decoder is the <sos> tokens\r\n",
        "        input = trg[0,:]\r\n",
        "        \r\n",
        "        for t in range(1, trg_len):\r\n",
        "            \r\n",
        "            #insert input token embedding, previous hidden state and the context state\r\n",
        "            #receive output tensor (predictions) and new hidden state\r\n",
        "            output, hidden = self.decoder(input, hidden, context)\r\n",
        "            \r\n",
        "            #place predictions in a tensor holding predictions for each token\r\n",
        "            outputs[t] = output\r\n",
        "            \r\n",
        "            #decide if we are going to use teacher forcing or not\r\n",
        "            teacher_force = random.random() < teacher_forcing_ratio\r\n",
        "            \r\n",
        "            #get the highest predicted token from our predictions\r\n",
        "            top1 = output.argmax(1) \r\n",
        "            \r\n",
        "            #if teacher forcing, use actual next token as next input\r\n",
        "            #if not, use predicted token\r\n",
        "            input = trg[t] if teacher_force else top1\r\n",
        "\r\n",
        "        return outputs"
      ],
      "execution_count": null,
      "outputs": []
    },
    {
      "cell_type": "code",
      "metadata": {
        "id": "LnpDm3rjvc7S"
      },
      "source": [
        "INPUT_DIM = len(SRC.vocab)\r\n",
        "OUTPUT_DIM = len(TRG.vocab)\r\n",
        "ENC_EMB_DIM = 512\r\n",
        "DEC_EMB_DIM = 512\r\n",
        "HID_DIM = 768\r\n",
        "ENC_DROPOUT = 0.5\r\n",
        "DEC_DROPOUT = 0.5\r\n",
        "\r\n",
        "enc = Encoder(INPUT_DIM, ENC_EMB_DIM, HID_DIM, ENC_DROPOUT)\r\n",
        "dec = Decoder(OUTPUT_DIM, DEC_EMB_DIM, HID_DIM, DEC_DROPOUT)\r\n",
        "\r\n",
        "device = torch.device('cuda' if torch.cuda.is_available() else 'cpu')\r\n",
        "\r\n",
        "model = Seq2Seq(enc, dec, device).to(device)"
      ],
      "execution_count": null,
      "outputs": []
    },
    {
      "cell_type": "code",
      "metadata": {
        "colab": {
          "base_uri": "https://localhost:8080/"
        },
        "id": "d0v_PfCUvfL8",
        "outputId": "ac9bcd11-5b7d-4632-f4d6-303eea9f7d22"
      },
      "source": [
        "def init_weights(m):\r\n",
        "    for name, param in m.named_parameters():\r\n",
        "        nn.init.normal_(param.data, mean=0, std=0.01)\r\n",
        "        \r\n",
        "model.apply(init_weights)"
      ],
      "execution_count": null,
      "outputs": [
        {
          "output_type": "execute_result",
          "data": {
            "text/plain": [
              "Seq2Seq(\n",
              "  (encoder): Encoder(\n",
              "    (embedding): Embedding(1171, 512)\n",
              "    (rnn): GRU(512, 768)\n",
              "    (dropout): Dropout(p=0.5, inplace=False)\n",
              "  )\n",
              "  (decoder): Decoder(\n",
              "    (embedding): Embedding(1305, 512)\n",
              "    (rnn): GRU(1280, 768)\n",
              "    (fc_out): Linear(in_features=2048, out_features=1305, bias=True)\n",
              "    (dropout): Dropout(p=0.5, inplace=False)\n",
              "  )\n",
              ")"
            ]
          },
          "metadata": {
            "tags": []
          },
          "execution_count": 70
        }
      ]
    },
    {
      "cell_type": "code",
      "metadata": {
        "colab": {
          "base_uri": "https://localhost:8080/"
        },
        "id": "Yqy_EWi3viKC",
        "outputId": "3ae51c8e-fab8-4118-a637-cfc45c809301"
      },
      "source": [
        "def count_parameters(model):\r\n",
        "    return sum(p.numel() for p in model.parameters() if p.requires_grad)\r\n",
        "\r\n",
        "print(f'The model has {count_parameters(model):,} trainable parameters')"
      ],
      "execution_count": null,
      "outputs": [
        {
          "output_type": "stream",
          "text": [
            "The model has 11,618,585 trainable parameters\n"
          ],
          "name": "stdout"
        }
      ]
    },
    {
      "cell_type": "code",
      "metadata": {
        "id": "U7X_LVYpvmE2"
      },
      "source": [
        "optimizer = optim.AdamW(model.parameters())\r\n",
        "TRG_PAD_IDX = TRG.vocab.stoi[TRG.pad_token]\r\n",
        "criterion = nn.CrossEntropyLoss(ignore_index = TRG_PAD_IDX)"
      ],
      "execution_count": null,
      "outputs": []
    },
    {
      "cell_type": "code",
      "metadata": {
        "id": "5OfT6XWgvs4G"
      },
      "source": [
        "def train(model, iterator, optimizer, criterion, clip):\r\n",
        "    \r\n",
        "    model.train()\r\n",
        "    \r\n",
        "    epoch_loss = 0\r\n",
        "    \r\n",
        "    for i, batch in enumerate(iterator):\r\n",
        "        \r\n",
        "        src = batch.src\r\n",
        "        trg = batch.trg\r\n",
        "        \r\n",
        "        optimizer.zero_grad()\r\n",
        "        \r\n",
        "        output = model(src, trg)\r\n",
        "        \r\n",
        "        #trg = [trg len, batch size]\r\n",
        "        #output = [trg len, batch size, output dim]\r\n",
        "        \r\n",
        "        output_dim = output.shape[-1]\r\n",
        "        \r\n",
        "        output = output[1:].view(-1, output_dim)\r\n",
        "        trg = trg[1:].view(-1)\r\n",
        "        \r\n",
        "        #trg = [(trg len - 1) * batch size]\r\n",
        "        #output = [(trg len - 1) * batch size, output dim]\r\n",
        "        \r\n",
        "        loss = criterion(output, trg)\r\n",
        "        \r\n",
        "        loss.backward()\r\n",
        "        \r\n",
        "        torch.nn.utils.clip_grad_norm_(model.parameters(), clip)\r\n",
        "        \r\n",
        "        optimizer.step()\r\n",
        "        \r\n",
        "        epoch_loss += loss.item()\r\n",
        "        \r\n",
        "    return epoch_loss / len(iterator)"
      ],
      "execution_count": null,
      "outputs": []
    },
    {
      "cell_type": "code",
      "metadata": {
        "id": "lsWToElmvvF1"
      },
      "source": [
        "def evaluate(model, iterator, criterion):\r\n",
        "    \r\n",
        "    model.eval()\r\n",
        "    \r\n",
        "    epoch_loss = 0\r\n",
        "    \r\n",
        "    with torch.no_grad():\r\n",
        "    \r\n",
        "        for i, batch in enumerate(iterator):\r\n",
        "\r\n",
        "            src = batch.src\r\n",
        "            trg = batch.trg\r\n",
        "\r\n",
        "            output = model(src, trg, 0) #turn off teacher forcing\r\n",
        "\r\n",
        "            #trg = [trg len, batch size]\r\n",
        "            #output = [trg len, batch size, output dim]\r\n",
        "\r\n",
        "            output_dim = output.shape[-1]\r\n",
        "            \r\n",
        "            output = output[1:].view(-1, output_dim)\r\n",
        "            trg = trg[1:].view(-1)\r\n",
        "\r\n",
        "            #trg = [(trg len - 1) * batch size]\r\n",
        "            #output = [(trg len - 1) * batch size, output dim]\r\n",
        "\r\n",
        "            loss = criterion(output, trg)\r\n",
        "\r\n",
        "            epoch_loss += loss.item()\r\n",
        "        \r\n",
        "    return epoch_loss / len(iterator)"
      ],
      "execution_count": null,
      "outputs": []
    },
    {
      "cell_type": "code",
      "metadata": {
        "id": "oXv6rrAkvxF6"
      },
      "source": [
        "def epoch_time(start_time, end_time):\r\n",
        "    elapsed_time = end_time - start_time\r\n",
        "    elapsed_mins = int(elapsed_time / 60)\r\n",
        "    elapsed_secs = int(elapsed_time - (elapsed_mins * 60))\r\n",
        "    return elapsed_mins, elapsed_secs"
      ],
      "execution_count": null,
      "outputs": []
    },
    {
      "cell_type": "code",
      "metadata": {
        "colab": {
          "base_uri": "https://localhost:8080/"
        },
        "id": "gfPUWpisvy3M",
        "outputId": "1551ea48-c0e4-4df0-8a50-6b33104c4cbf"
      },
      "source": [
        "N_EPOCHS = 15\r\n",
        "CLIP = 1\r\n",
        "\r\n",
        "best_valid_loss = float('inf')\r\n",
        "\r\n",
        "for epoch in range(N_EPOCHS):\r\n",
        "    \r\n",
        "    start_time = time.time()\r\n",
        "    \r\n",
        "    train_loss = train(model, train_iterator, optimizer, criterion, CLIP)\r\n",
        "    valid_loss = evaluate(model, valid_iterator, criterion)\r\n",
        "    \r\n",
        "    end_time = time.time()\r\n",
        "    \r\n",
        "    epoch_mins, epoch_secs = epoch_time(start_time, end_time)\r\n",
        "    \r\n",
        "    if valid_loss < best_valid_loss:\r\n",
        "        best_valid_loss = valid_loss\r\n",
        "        torch.save(model.state_dict(), 'NUS_model1.pt')\r\n",
        "    \r\n",
        "    print(f'Epoch: {epoch+1:02} | Time: {epoch_mins}m {epoch_secs}s')\r\n",
        "    print(f'\\tTrain Loss: {train_loss:.3f} | Train PPL: {math.exp(train_loss):7.3f}')\r\n",
        "    print(f'\\t Val. Loss: {valid_loss:.3f} |  Val. PPL: {math.exp(valid_loss):7.3f}')"
      ],
      "execution_count": null,
      "outputs": [
        {
          "output_type": "stream",
          "text": [
            "Epoch: 01 | Time: 0m 2s\n",
            "\tTrain Loss: 6.336 | Train PPL: 564.482\n",
            "\t Val. Loss: 5.021 |  Val. PPL: 151.600\n",
            "Epoch: 02 | Time: 0m 2s\n",
            "\tTrain Loss: 5.167 | Train PPL: 175.362\n",
            "\t Val. Loss: 4.730 |  Val. PPL: 113.312\n",
            "Epoch: 03 | Time: 0m 2s\n",
            "\tTrain Loss: 4.992 | Train PPL: 147.259\n",
            "\t Val. Loss: 4.714 |  Val. PPL: 111.475\n",
            "Epoch: 04 | Time: 0m 2s\n",
            "\tTrain Loss: 4.929 | Train PPL: 138.252\n",
            "\t Val. Loss: 4.663 |  Val. PPL: 105.914\n",
            "Epoch: 05 | Time: 0m 2s\n",
            "\tTrain Loss: 4.862 | Train PPL: 129.322\n",
            "\t Val. Loss: 4.660 |  Val. PPL: 105.611\n",
            "Epoch: 06 | Time: 0m 2s\n",
            "\tTrain Loss: 4.810 | Train PPL: 122.700\n",
            "\t Val. Loss: 4.676 |  Val. PPL: 107.381\n",
            "Epoch: 07 | Time: 0m 2s\n",
            "\tTrain Loss: 4.769 | Train PPL: 117.816\n",
            "\t Val. Loss: 4.699 |  Val. PPL: 109.871\n",
            "Epoch: 08 | Time: 0m 2s\n",
            "\tTrain Loss: 4.705 | Train PPL: 110.551\n",
            "\t Val. Loss: 4.734 |  Val. PPL: 113.727\n",
            "Epoch: 09 | Time: 0m 2s\n",
            "\tTrain Loss: 4.681 | Train PPL: 107.842\n",
            "\t Val. Loss: 4.699 |  Val. PPL: 109.886\n",
            "Epoch: 10 | Time: 0m 2s\n",
            "\tTrain Loss: 4.577 | Train PPL:  97.224\n",
            "\t Val. Loss: 4.661 |  Val. PPL: 105.764\n",
            "Epoch: 11 | Time: 0m 2s\n",
            "\tTrain Loss: 4.525 | Train PPL:  92.288\n",
            "\t Val. Loss: 4.636 |  Val. PPL: 103.080\n",
            "Epoch: 12 | Time: 0m 2s\n",
            "\tTrain Loss: 4.484 | Train PPL:  88.571\n",
            "\t Val. Loss: 4.703 |  Val. PPL: 110.282\n",
            "Epoch: 13 | Time: 0m 2s\n",
            "\tTrain Loss: 4.457 | Train PPL:  86.199\n",
            "\t Val. Loss: 4.657 |  Val. PPL: 105.366\n",
            "Epoch: 14 | Time: 0m 2s\n",
            "\tTrain Loss: 4.356 | Train PPL:  77.924\n",
            "\t Val. Loss: 4.664 |  Val. PPL: 106.084\n",
            "Epoch: 15 | Time: 0m 2s\n",
            "\tTrain Loss: 4.341 | Train PPL:  76.763\n",
            "\t Val. Loss: 4.648 |  Val. PPL: 104.344\n"
          ],
          "name": "stdout"
        }
      ]
    },
    {
      "cell_type": "code",
      "metadata": {
        "colab": {
          "base_uri": "https://localhost:8080/"
        },
        "id": "KK85wkJHwfwb",
        "outputId": "f3935df2-b09f-4763-d69e-47893960f03f"
      },
      "source": [
        "model.load_state_dict(torch.load('NUS_model1.pt'))"
      ],
      "execution_count": null,
      "outputs": [
        {
          "output_type": "execute_result",
          "data": {
            "text/plain": [
              "<All keys matched successfully>"
            ]
          },
          "metadata": {
            "tags": []
          },
          "execution_count": 77
        }
      ]
    },
    {
      "cell_type": "code",
      "metadata": {
        "colab": {
          "base_uri": "https://localhost:8080/"
        },
        "id": "8wxeclwzxbyE",
        "outputId": "9a4c897c-703c-455a-a3e7-d2514fe051bf"
      },
      "source": [
        "test_loss = evaluate(model, test_iterator, criterion)\r\n",
        "\r\n",
        "print(f'| Test Loss: {test_loss:.3f} | Test PPL: {math.exp(test_loss):7.3f} |')"
      ],
      "execution_count": null,
      "outputs": [
        {
          "output_type": "stream",
          "text": [
            "| Test Loss: 4.669 | Test PPL: 106.543 |\n"
          ],
          "name": "stdout"
        }
      ]
    },
    {
      "cell_type": "code",
      "metadata": {
        "id": "ONIfBzzhyAhe"
      },
      "source": [
        "batch = next(iter(valid_iterator))\r\n",
        "src = batch.src\r\n",
        "trg = batch.trg\r\n",
        "prediction = model(src, trg, 0)"
      ],
      "execution_count": null,
      "outputs": []
    },
    {
      "cell_type": "code",
      "metadata": {
        "id": "zCNykx7JyNfR"
      },
      "source": [
        "def show_predictions(src, trg, example_id):\r\n",
        "  translator = google_translator()\r\n",
        "  model_prediction = \" \".join([TRG.vocab.itos[x] for x in torch.argmax(prediction[:, example_id, :], axis = 1).cpu()])\r\n",
        "\r\n",
        "  print(\"English Source Sentence:\\n\")\r\n",
        "  print(\" \".join([SRC.vocab.itos[x] for x in src[:, example_id].cpu()]))\r\n",
        "    \r\n",
        "\r\n",
        "  print(\"\\nActual Target Sentence: \\n\")\r\n",
        "  print(\" \".join([TRG.vocab.itos[x] for x in trg[:, example_id].cpu()]))\r\n",
        "\r\n",
        "  print(\"\\nPredicted Target Sentence: \\n\")\r\n",
        "  print(model_prediction)\r\n",
        "  "
      ],
      "execution_count": null,
      "outputs": []
    },
    {
      "cell_type": "code",
      "metadata": {
        "colab": {
          "base_uri": "https://localhost:8080/"
        },
        "id": "_FqjQkoUyq44",
        "outputId": "e5d4326c-be70-42f9-9052-f787eb692f0a"
      },
      "source": [
        "show_predictions(src, trg, 1)"
      ],
      "execution_count": null,
      "outputs": [
        {
          "output_type": "stream",
          "text": [
            "English Source Sentence:\n",
            "\n",
            "<sos> okay , then when i reach , i will go and collect the tickets first . now i have nothing to do , so watching tv . <eos> <pad> <pad> <pad> <pad> <pad> <pad> <pad> <pad> <pad> <pad> <pad> <pad> <pad> <pad> <pad> <pad> <pad> <pad> <pad> <pad> <pad> <pad> <pad> <pad> <pad> <pad> <pad> <pad> <pad> <pad> <pad>\n",
            "\n",
            "Actual Target Sentence: \n",
            "\n",
            "<sos> 好 ， 那 我 <unk> 的 时候 ， 我会 先去 <unk> 。 现在 <unk> 做 ， 在 看电视 。 <eos> <pad> <pad> <pad> <pad> <pad> <pad> <pad> <pad> <pad> <pad> <pad> <pad> <pad> <pad> <pad> <pad> <pad> <pad> <pad> <pad> <pad> <pad> <pad> <pad> <pad> <pad> <pad> <pad> <pad> <pad> <pad> <pad> <pad> <pad> <pad> <pad> <pad> <pad> <pad>\n",
            "\n",
            "Predicted Target Sentence: \n",
            "\n",
            "<unk> 我 ， 我 <unk> <unk> <unk> <unk> <unk> <unk> <unk> <unk> <unk> <unk> 。 <eos> 。 <eos> 。 <eos> 。 <eos> 。 <eos> 。 <eos> <eos> <eos> <eos> <eos> <eos> <eos> <eos> <eos> <eos> <eos> <eos> <eos> <eos> <eos> <eos> <eos> <eos> <eos> <eos> <eos> <eos> <eos> <eos> <eos> <eos> <eos> <eos> <eos> <eos> <eos> <eos> <eos> <eos> <eos>\n"
          ],
          "name": "stdout"
        }
      ]
    },
    {
      "cell_type": "code",
      "metadata": {
        "id": "SU2otbTiyxkN"
      },
      "source": [
        ""
      ],
      "execution_count": null,
      "outputs": []
    }
  ]
}