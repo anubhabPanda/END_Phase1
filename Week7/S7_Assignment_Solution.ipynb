{
 "cells": [
  {
   "cell_type": "code",
   "execution_count": 1,
   "metadata": {},
   "outputs": [],
   "source": [
    "import pandas as pd \n",
    "import spacy\n",
    "from torch.optim import Adam\n",
    "nlp = spacy.load(\"en\")"
   ]
  },
  {
   "cell_type": "markdown",
   "metadata": {},
   "source": [
    "## Dataset Preview"
   ]
  },
  {
   "cell_type": "code",
   "execution_count": 2,
   "metadata": {},
   "outputs": [
    {
     "data": {
      "text/html": [
       "<div>\n",
       "<style scoped>\n",
       "    .dataframe tbody tr th:only-of-type {\n",
       "        vertical-align: middle;\n",
       "    }\n",
       "\n",
       "    .dataframe tbody tr th {\n",
       "        vertical-align: top;\n",
       "    }\n",
       "\n",
       "    .dataframe thead th {\n",
       "        text-align: right;\n",
       "    }\n",
       "</style>\n",
       "<table border=\"1\" class=\"dataframe\">\n",
       "  <thead>\n",
       "    <tr style=\"text-align: right;\">\n",
       "      <th></th>\n",
       "      <th>tweets</th>\n",
       "      <th>labels</th>\n",
       "    </tr>\n",
       "  </thead>\n",
       "  <tbody>\n",
       "    <tr>\n",
       "      <th>0</th>\n",
       "      <td>Obama has called the GOP budget social Darwini...</td>\n",
       "      <td>1</td>\n",
       "    </tr>\n",
       "    <tr>\n",
       "      <th>1</th>\n",
       "      <td>In his teen years, Obama has been known to use...</td>\n",
       "      <td>0</td>\n",
       "    </tr>\n",
       "    <tr>\n",
       "      <th>2</th>\n",
       "      <td>IPA Congratulates President Barack Obama for L...</td>\n",
       "      <td>0</td>\n",
       "    </tr>\n",
       "    <tr>\n",
       "      <th>3</th>\n",
       "      <td>RT @Professor_Why: #WhatsRomneyHiding - his co...</td>\n",
       "      <td>0</td>\n",
       "    </tr>\n",
       "    <tr>\n",
       "      <th>4</th>\n",
       "      <td>RT @wardollarshome: Obama has approved more ta...</td>\n",
       "      <td>1</td>\n",
       "    </tr>\n",
       "  </tbody>\n",
       "</table>\n",
       "</div>"
      ],
      "text/plain": [
       "                                              tweets  labels\n",
       "0  Obama has called the GOP budget social Darwini...       1\n",
       "1  In his teen years, Obama has been known to use...       0\n",
       "2  IPA Congratulates President Barack Obama for L...       0\n",
       "3  RT @Professor_Why: #WhatsRomneyHiding - his co...       0\n",
       "4  RT @wardollarshome: Obama has approved more ta...       1"
      ]
     },
     "execution_count": 2,
     "metadata": {},
     "output_type": "execute_result"
    }
   ],
   "source": [
    "df = pd.read_csv('tweets.csv')\n",
    "df.head()"
   ]
  },
  {
   "cell_type": "code",
   "execution_count": 3,
   "metadata": {},
   "outputs": [
    {
     "data": {
      "text/plain": [
       "(1364, 2)"
      ]
     },
     "execution_count": 3,
     "metadata": {},
     "output_type": "execute_result"
    }
   ],
   "source": [
    "df.shape"
   ]
  },
  {
   "cell_type": "code",
   "execution_count": 4,
   "metadata": {},
   "outputs": [
    {
     "data": {
      "text/plain": [
       "0    931\n",
       "1    352\n",
       "2     81\n",
       "Name: labels, dtype: int64"
      ]
     },
     "execution_count": 4,
     "metadata": {},
     "output_type": "execute_result"
    }
   ],
   "source": [
    "df.labels.value_counts()"
   ]
  },
  {
   "cell_type": "code",
   "execution_count": 5,
   "metadata": {},
   "outputs": [
    {
     "data": {
      "text/plain": [
       "'RT @wardollarshome: Obama has approved more targeted assassinations than any modern US prez; READ & RT: http://t.co/bfC4gbBW'"
      ]
     },
     "execution_count": 5,
     "metadata": {},
     "output_type": "execute_result"
    }
   ],
   "source": [
    "df['tweets'][4]"
   ]
  },
  {
   "cell_type": "code",
   "execution_count": 6,
   "metadata": {},
   "outputs": [],
   "source": [
    "text = nlp(df['tweets'][4])"
   ]
  },
  {
   "cell_type": "code",
   "execution_count": 7,
   "metadata": {},
   "outputs": [
    {
     "name": "stdout",
     "output_type": "stream",
     "text": [
      "RT --> dep --> PROPN\n",
      "@wardollarshome --> advmod --> X\n",
      ": --> punct --> PUNCT\n",
      "Obama --> nsubj --> PROPN\n",
      "has --> aux --> AUX\n",
      "approved --> ROOT --> VERB\n",
      "more --> advmod --> ADV\n",
      "targeted --> amod --> VERB\n",
      "assassinations --> dobj --> NOUN\n",
      "than --> prep --> SCONJ\n",
      "any --> det --> DET\n",
      "modern --> amod --> ADJ\n",
      "US --> compound --> PROPN\n",
      "prez --> pobj --> PROPN\n",
      "; --> punct --> PUNCT\n",
      "READ --> appos --> PROPN\n",
      "& --> cc --> CCONJ\n",
      "RT --> conj --> PROPN\n",
      ": --> punct --> PUNCT\n",
      "http://t.co/bfC4gbBW --> appos --> PROPN\n"
     ]
    }
   ],
   "source": [
    "for token in text:\n",
    "    print(token.text, \"-->\", token.dep_, \"-->\", token.pos_)"
   ]
  },
  {
   "cell_type": "markdown",
   "metadata": {},
   "source": [
    "## Defining Fields"
   ]
  },
  {
   "cell_type": "code",
   "execution_count": 8,
   "metadata": {},
   "outputs": [
    {
     "data": {
      "text/plain": [
       "<torch._C.Generator at 0x2a26e6a48d0>"
      ]
     },
     "execution_count": 8,
     "metadata": {},
     "output_type": "execute_result"
    }
   ],
   "source": [
    "import random\n",
    "import torch, torchtext\n",
    "from torchtext import data\n",
    "\n",
    "SEED = 42\n",
    "torch.manual_seed(SEED)"
   ]
  },
  {
   "cell_type": "code",
   "execution_count": 89,
   "metadata": {},
   "outputs": [],
   "source": [
    "Tweet = data.Field(sequential=True, lower=True, \n",
    "                   tokenize='spacy', batch_first=True, include_lengths=True)\n",
    "Label = data.LabelField(sequential=False, batch_first=True)"
   ]
  },
  {
   "cell_type": "code",
   "execution_count": 90,
   "metadata": {},
   "outputs": [],
   "source": [
    "fields = [('tweets', Tweet), ('labels', Label)]"
   ]
  },
  {
   "cell_type": "code",
   "execution_count": 91,
   "metadata": {},
   "outputs": [],
   "source": [
    "twitterDataset = data.TabularDataset(\"tweets.csv\", format=\"CSV\", \n",
    "                    fields=fields, skip_header=True)"
   ]
  },
  {
   "cell_type": "code",
   "execution_count": 92,
   "metadata": {},
   "outputs": [
    {
     "data": {
      "text/plain": [
       "(['obama',\n",
       "  'has',\n",
       "  'called',\n",
       "  'the',\n",
       "  'gop',\n",
       "  'budget',\n",
       "  'social',\n",
       "  'darwinism',\n",
       "  '.',\n",
       "  'nice',\n",
       "  'try',\n",
       "  ',',\n",
       "  'but',\n",
       "  'they',\n",
       "  'believe',\n",
       "  'in',\n",
       "  'social',\n",
       "  'creationism',\n",
       "  '.'],\n",
       " '1')"
      ]
     },
     "execution_count": 92,
     "metadata": {},
     "output_type": "execute_result"
    }
   ],
   "source": [
    "twitterDataset.examples[0].tweets, twitterDataset.examples[0].labels"
   ]
  },
  {
   "cell_type": "code",
   "execution_count": 93,
   "metadata": {},
   "outputs": [],
   "source": [
    "train, valid = twitterDataset.split(split_ratio=[0.85, 0.15], \n",
    "                                    random_state=random.seed(SEED))"
   ]
  },
  {
   "cell_type": "code",
   "execution_count": 94,
   "metadata": {},
   "outputs": [
    {
     "data": {
      "text/plain": [
       "(1159, 205)"
      ]
     },
     "execution_count": 94,
     "metadata": {},
     "output_type": "execute_result"
    }
   ],
   "source": [
    "len(train), len(valid)"
   ]
  },
  {
   "cell_type": "code",
   "execution_count": 95,
   "metadata": {},
   "outputs": [
    {
     "data": {
      "text/plain": [
       "{'tweets': ['as',\n",
       "  'obama',\n",
       "  \"'s\",\n",
       "  'policies',\n",
       "  'have',\n",
       "  'turned',\n",
       "  'women',\n",
       "  'into',\n",
       "  '3rd',\n",
       "  'class',\n",
       "  'citizens',\n",
       "  ',',\n",
       "  'he',\n",
       "  'is',\n",
       "  'working',\n",
       "  'on',\n",
       "  'bringing',\n",
       "  'down',\n",
       "  'the',\n",
       "  'whole',\n",
       "  'economy',\n",
       "  '.',\n",
       "  '#',\n",
       "  'edshow'],\n",
       " 'labels': '0'}"
      ]
     },
     "execution_count": 95,
     "metadata": {},
     "output_type": "execute_result"
    }
   ],
   "source": [
    "vars(train.examples[0])"
   ]
  },
  {
   "cell_type": "code",
   "execution_count": 96,
   "metadata": {},
   "outputs": [],
   "source": [
    "Tweet.build_vocab(train)"
   ]
  },
  {
   "cell_type": "code",
   "execution_count": 97,
   "metadata": {},
   "outputs": [
    {
     "data": {
      "text/plain": [
       "[('obama', 1149), ('#', 822), (':', 784), ('.', 775), ('the', 617)]"
      ]
     },
     "execution_count": 97,
     "metadata": {},
     "output_type": "execute_result"
    }
   ],
   "source": [
    "Tweet.vocab.freqs.most_common(5)"
   ]
  },
  {
   "cell_type": "code",
   "execution_count": 98,
   "metadata": {},
   "outputs": [],
   "source": [
    "Label.build_vocab(train)"
   ]
  },
  {
   "cell_type": "code",
   "execution_count": 99,
   "metadata": {},
   "outputs": [],
   "source": [
    "device = torch.device(\"cuda\" if torch.cuda.is_available() else \"cpu\")"
   ]
  },
  {
   "cell_type": "code",
   "execution_count": 100,
   "metadata": {},
   "outputs": [],
   "source": [
    "train_iterator, valid_iterator = data.BucketIterator.splits((train, valid), batch_size=32, \n",
    "                                                           sort_key = lambda x:len(x.tweets),\n",
    "                                                           sort_within_batch = True, device = device)"
   ]
  },
  {
   "cell_type": "code",
   "execution_count": 101,
   "metadata": {},
   "outputs": [],
   "source": [
    "import os, pickle\n",
    "with open('tweet_vocab.pkl', 'wb') as tokens:\n",
    "    pickle.dump(Tweet.vocab.stoi, tokens)"
   ]
  },
  {
   "cell_type": "code",
   "execution_count": 102,
   "metadata": {},
   "outputs": [],
   "source": [
    "import torch.nn as nn\n",
    "import torch.nn.functional as F"
   ]
  },
  {
   "cell_type": "code",
   "execution_count": 162,
   "metadata": {},
   "outputs": [],
   "source": [
    "class classifier(nn.Module):\n",
    "    def __init__(self, vocab_size, embedding_dim, hidden_dim, output_dim, n_layers, dropout):\n",
    "        super(classifier, self).__init__()\n",
    "        \n",
    "        #Embedding\n",
    "        self.embedding = nn.Embedding(vocab_size, embedding_dim)\n",
    "        \n",
    "        #Encoder\n",
    "        self.encoder = nn.LSTM(embedding_dim, hidden_dim, \n",
    "                               num_layers = n_layers, dropout = dropout,\n",
    "                               batch_first = True)\n",
    "        \n",
    "        self.fc = nn.Linear(hidden_dim, output_dim)\n",
    "        \n",
    "    def forward(self, text, text_lengths):\n",
    "        embedded = self.embedding(text)\n",
    "#         print(\"Embedding Shape >>> :\", embedded.shape)\n",
    "        packed_embedded = nn.utils.rnn.pack_padded_sequence(embedded, \n",
    "                                                            text_lengths.cpu(), \n",
    "                                                            batch_first=True)\n",
    "\n",
    "        packed_output, (hidden, cell) = self.encoder(packed_embedded)\n",
    "#         print(\"Hidden Shape >>> :\", hidden.shape)\n",
    "        dense_outputs = self.fc(hidden)\n",
    "\n",
    "        output = F.softmax(dense_outputs[0], dim=1)\n",
    "#         print(\"Output Shape >>> :\", output.shape)\n",
    "        return output"
   ]
  },
  {
   "cell_type": "code",
   "execution_count": 163,
   "metadata": {},
   "outputs": [],
   "source": [
    "# Define hyperparameters\n",
    "size_of_vocab = len(Tweet.vocab)\n",
    "embedding_dim = 300\n",
    "num_hidden_nodes = 100\n",
    "num_output_nodes = 3\n",
    "num_layers = 2\n",
    "dropout = 0.2"
   ]
  },
  {
   "cell_type": "code",
   "execution_count": 164,
   "metadata": {},
   "outputs": [],
   "source": [
    "model = classifier(size_of_vocab, embedding_dim, num_hidden_nodes,\n",
    "                  num_output_nodes, num_layers, dropout)"
   ]
  },
  {
   "cell_type": "code",
   "execution_count": 165,
   "metadata": {},
   "outputs": [
    {
     "name": "stdout",
     "output_type": "stream",
     "text": [
      "classifier(\n",
      "  (embedding): Embedding(3996, 300)\n",
      "  (encoder): LSTM(300, 100, num_layers=2, batch_first=True, dropout=0.2)\n",
      "  (fc): Linear(in_features=100, out_features=3, bias=True)\n",
      ")\n"
     ]
    }
   ],
   "source": [
    "print(model)"
   ]
  },
  {
   "cell_type": "code",
   "execution_count": 166,
   "metadata": {},
   "outputs": [],
   "source": [
    "def count_params(model):\n",
    "    return sum(p.numel() for p in model.parameters() if p.requires_grad)"
   ]
  },
  {
   "cell_type": "code",
   "execution_count": 167,
   "metadata": {},
   "outputs": [
    {
     "data": {
      "text/plain": [
       "1440703"
      ]
     },
     "execution_count": 167,
     "metadata": {},
     "output_type": "execute_result"
    }
   ],
   "source": [
    "count_params(model)"
   ]
  },
  {
   "cell_type": "code",
   "execution_count": 193,
   "metadata": {},
   "outputs": [],
   "source": [
    "def binary_accuracy(preds, y):\n",
    "#     correct = (torch.max(preds, 1)[1] == y).float()\n",
    "    correct = (torch.argmax(preds, axis=1) == y).float()\n",
    "    acc = correct.sum()/len(correct)\n",
    "    return acc"
   ]
  },
  {
   "cell_type": "code",
   "execution_count": 194,
   "metadata": {},
   "outputs": [],
   "source": [
    "optimizer = Adam(model.parameters(), lr = 0.0001)\n",
    "criterion = nn.CrossEntropyLoss()"
   ]
  },
  {
   "cell_type": "code",
   "execution_count": 195,
   "metadata": {},
   "outputs": [],
   "source": [
    "model = model.to(device)\n",
    "criterion = criterion.to(device)"
   ]
  },
  {
   "cell_type": "code",
   "execution_count": 196,
   "metadata": {},
   "outputs": [],
   "source": [
    "def train(model, criterion, optimizer, iterator):\n",
    "    \n",
    "    epoch_loss = 0\n",
    "    epoch_acc = 0\n",
    "    \n",
    "    model.train()\n",
    "    \n",
    "    for batch in iterator:\n",
    "        optimizer.zero_grad()\n",
    "        \n",
    "        tweet, tweet_length = batch.tweets\n",
    "        pred = model(tweet, tweet_length).squeeze()\n",
    "#         print(pred.shape, batch.labels.shape)\n",
    "        loss = criterion(pred, batch.labels)\n",
    "        acc = binary_accuracy(pred, batch.labels)\n",
    "        \n",
    "        loss.backward()\n",
    "        optimizer.step()\n",
    "        \n",
    "        epoch_loss+= loss.item()\n",
    "        epoch_acc+= acc.item()\n",
    "    return epoch_loss/len(iterator), epoch_acc/len(iterator)"
   ]
  },
  {
   "cell_type": "code",
   "execution_count": 197,
   "metadata": {},
   "outputs": [],
   "source": [
    "def evaluate(model, iterator, criterion):\n",
    "    epoch_loss = 0\n",
    "    epoch_acc = 0\n",
    "    model.eval()\n",
    "    \n",
    "    with torch.no_grad():        \n",
    "        for batch in iterator:\n",
    "            tweet, tweet_length = batch.tweets\n",
    "            pred = model(tweet, tweet_length)\n",
    "            loss = criterion(pred, batch.labels)\n",
    "            acc = binary_accuracy(pred, batch.labels)\n",
    "            \n",
    "            epoch_loss+= loss.item()\n",
    "            epoch_acc+= acc.item()\n",
    "    return epoch_loss/len(iterator), epoch_acc/len(iterator)\n",
    "        "
   ]
  },
  {
   "cell_type": "code",
   "execution_count": 198,
   "metadata": {},
   "outputs": [
    {
     "name": "stdout",
     "output_type": "stream",
     "text": [
      "\tTrain Loss: 1.026 | Train Acc: 62.54%\n",
      "\tValid Loss: 1.001 | Valid Acc: 65.18% \n",
      "\n",
      "\tTrain Loss: 0.992 | Train Acc: 70.56%\n",
      "\tValid Loss: 0.967 | Valid Acc: 70.09% \n",
      "\n",
      "\tTrain Loss: 0.958 | Train Acc: 70.39%\n",
      "\tValid Loss: 0.935 | Valid Acc: 70.09% \n",
      "\n",
      "\tTrain Loss: 0.925 | Train Acc: 70.98%\n",
      "\tValid Loss: 0.902 | Valid Acc: 72.32% \n",
      "\n",
      "\tTrain Loss: 0.894 | Train Acc: 70.90%\n",
      "\tValid Loss: 0.870 | Valid Acc: 73.21% \n",
      "\n",
      "\tTrain Loss: 0.862 | Train Acc: 72.00%\n",
      "\tValid Loss: 0.840 | Valid Acc: 74.11% \n",
      "\n",
      "\tTrain Loss: 0.836 | Train Acc: 74.36%\n",
      "\tValid Loss: 0.819 | Valid Acc: 75.45% \n",
      "\n",
      "\tTrain Loss: 0.817 | Train Acc: 75.63%\n",
      "\tValid Loss: 0.806 | Valid Acc: 77.23% \n",
      "\n",
      "\tTrain Loss: 0.803 | Train Acc: 76.81%\n",
      "\tValid Loss: 0.796 | Valid Acc: 77.68% \n",
      "\n",
      "\tTrain Loss: 0.791 | Train Acc: 77.74%\n",
      "\tValid Loss: 0.789 | Valid Acc: 77.23% \n",
      "\n"
     ]
    }
   ],
   "source": [
    "N_EPOCHS = 10\n",
    "best_valid_loss = float('inf')\n",
    "\n",
    "for epoch in range(N_EPOCHS):\n",
    "    \n",
    "    train_loss, train_acc = train(model, criterion, optimizer, train_iterator)\n",
    "    valid_loss, valid_acc = evaluate(model, valid_iterator, criterion)\n",
    "    \n",
    "    if valid_loss < best_valid_loss:\n",
    "        best_valid_loss = valid_loss\n",
    "        torch.save(model.state_dict(), 'Sentiment_weights.pt')\n",
    "        \n",
    "    print(f\"\\tTrain Loss: {train_loss:.3f} | Train Acc: {train_acc*100:.2f}%\")\n",
    "    print(f\"\\tValid Loss: {valid_loss:.3f} | Valid Acc: {valid_acc*100:.2f}% \\n\")\n",
    "    "
   ]
  },
  {
   "cell_type": "code",
   "execution_count": 199,
   "metadata": {},
   "outputs": [],
   "source": [
    "one_batch = list(train_iterator)[0]\n",
    "one_batch_tweets, one_batch_tl = one_batch.tweets\n",
    "one_batch_labels = one_batch.labels"
   ]
  },
  {
   "cell_type": "code",
   "execution_count": 203,
   "metadata": {},
   "outputs": [],
   "source": [
    "class classifier_B(nn.Module):\n",
    "    def __init__(self, vocab_size, embedding_dim, hidden_dim, output_dim, n_layers, dropout):\n",
    "        super().__init__()\n",
    "        \n",
    "        #Embedding\n",
    "        self.embedding = nn.Embedding(vocab_size, embedding_dim)\n",
    "        \n",
    "        #Encoder\n",
    "        self.encoder = nn.LSTM(embedding_dim, hidden_dim, \n",
    "                               num_layers = n_layers, dropout = dropout,\n",
    "                               batch_first = True)\n",
    "        \n",
    "        self.fc = nn.Linear(hidden_dim, output_dim)\n",
    "        \n",
    "    def forward(self, text, text_lengths):\n",
    "        embedded = self.embedding(text)\n",
    "#         print(\"Embedding Shape >>> :\", embedded.shape)\n",
    "        packed_embedded = nn.utils.rnn.pack_padded_sequence(embedded, \n",
    "                                                            text_lengths.cpu(), \n",
    "                                                            batch_first=True)\n",
    "\n",
    "        packed_output, (hidden, cell) = self.encoder(packed_embedded)\n",
    "#         print(\"Hidden Shape >>> :\", hidden.shape)\n",
    "        dense_outputs = self.fc(hidden)\n",
    "\n",
    "#         output = F.softmax(dense_outputs[0], dim=1)\n",
    "#         print(\"Output Shape >>> :\", output.shape)\n",
    "        return dense_outputs"
   ]
  },
  {
   "cell_type": "code",
   "execution_count": 204,
   "metadata": {},
   "outputs": [],
   "source": [
    "model1 = classifier_B(size_of_vocab, embedding_dim, num_hidden_nodes,\n",
    "                  num_output_nodes, num_layers, dropout).to(device)"
   ]
  },
  {
   "cell_type": "code",
   "execution_count": 207,
   "metadata": {},
   "outputs": [
    {
     "data": {
      "text/plain": [
       "tensor([[ 3.0392e-02, -5.4347e-02, -7.9423e-02],\n",
       "        [-2.9230e-02, -4.5042e-02, -8.6598e-02],\n",
       "        [ 2.4554e-02, -4.5730e-02, -7.2890e-02],\n",
       "        [-2.6812e-02, -9.4583e-02,  1.8838e-02],\n",
       "        [-3.8122e-02, -1.0819e-01, -5.4539e-02],\n",
       "        [ 8.4793e-03, -4.4041e-02, -1.7424e-02],\n",
       "        [ 2.2971e-02, -1.0575e-01, -2.2305e-02],\n",
       "        [-4.0405e-05, -1.4334e-01, -6.5632e-02],\n",
       "        [ 1.9115e-03, -1.5202e-01, -4.9661e-02],\n",
       "        [ 3.9820e-02, -1.2150e-01,  3.0164e-02],\n",
       "        [ 1.8126e-02, -1.3804e-01, -6.4614e-02],\n",
       "        [-1.0994e-02, -1.0100e-01, -3.6021e-02],\n",
       "        [-3.7468e-02, -6.9810e-02, -5.8716e-02],\n",
       "        [ 5.7924e-03, -1.0713e-01, -3.1258e-02],\n",
       "        [-1.7007e-02, -9.2673e-02, -4.1319e-03],\n",
       "        [-3.8182e-03, -8.1070e-02, -2.2898e-02],\n",
       "        [ 1.6265e-02, -1.4541e-01, -5.7484e-02],\n",
       "        [ 4.8177e-03, -3.4969e-02, -5.0477e-02],\n",
       "        [ 2.1575e-02, -5.0200e-02, -3.0151e-02],\n",
       "        [ 1.5401e-02, -7.3037e-02, -2.0071e-02],\n",
       "        [ 1.3708e-02, -7.5527e-02, -3.0108e-02],\n",
       "        [-1.9217e-02, -1.0653e-01, -2.8358e-02],\n",
       "        [ 7.9036e-03, -1.1139e-01, -8.3372e-04],\n",
       "        [-2.8546e-02, -4.4763e-02, -8.5349e-02],\n",
       "        [-2.7294e-03, -1.2022e-01,  6.2975e-02],\n",
       "        [ 2.4561e-03, -1.0072e-01, -2.1431e-02],\n",
       "        [ 1.9336e-02, -4.8830e-03, -5.5317e-03],\n",
       "        [ 2.9801e-02, -1.0964e-01, -7.8623e-02],\n",
       "        [-4.3665e-03, -7.0602e-02, -7.1551e-02],\n",
       "        [-2.1313e-02, -5.7696e-02, -4.3658e-02],\n",
       "        [-1.1087e-02, -7.0053e-02, -9.9319e-03],\n",
       "        [ 9.6084e-03, -1.0817e-01, -5.1871e-02]], device='cuda:0',\n",
       "       grad_fn=<SelectBackward>)"
      ]
     },
     "execution_count": 207,
     "metadata": {},
     "output_type": "execute_result"
    }
   ],
   "source": [
    "model1(one_batch_tweets, one_batch_tl)[1]"
   ]
  },
  {
   "cell_type": "code",
   "execution_count": null,
   "metadata": {},
   "outputs": [],
   "source": []
  }
 ],
 "metadata": {
  "kernelspec": {
   "display_name": "Python 3",
   "language": "python",
   "name": "python3"
  },
  "language_info": {
   "codemirror_mode": {
    "name": "ipython",
    "version": 3
   },
   "file_extension": ".py",
   "mimetype": "text/x-python",
   "name": "python",
   "nbconvert_exporter": "python",
   "pygments_lexer": "ipython3",
   "version": "3.8.3"
  },
  "toc": {
   "base_numbering": 1,
   "nav_menu": {},
   "number_sections": true,
   "sideBar": true,
   "skip_h1_title": false,
   "title_cell": "Table of Contents",
   "title_sidebar": "Contents",
   "toc_cell": false,
   "toc_position": {},
   "toc_section_display": true,
   "toc_window_display": false
  }
 },
 "nbformat": 4,
 "nbformat_minor": 4
}
